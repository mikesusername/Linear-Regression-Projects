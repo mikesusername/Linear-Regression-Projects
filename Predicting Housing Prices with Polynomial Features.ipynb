{
 "cells": [
  {
   "cell_type": "markdown",
   "metadata": {},
   "source": [
    "# Predicting Housing Prices with Polynomial Features\n",
    "\n",
    "The purpose of this assignment is to examine how varying complexity, using polynomial features, of a linear regression model affects the error. Specifically, we will try to predict housing prices using the square feet living space and other features that are square feet living space values raised to higher powers.\n",
    "\n",
    "The data set consists of housing data from King county Washington (Seattle area)."
   ]
  },
  {
   "cell_type": "code",
   "execution_count": 3,
   "metadata": {
    "collapsed": false
   },
   "outputs": [],
   "source": [
    "import pandas as pd\n",
    "import numpy as np\n",
    "from sklearn.linear_model import LinearRegression\n",
    "import matplotlib\n",
    "import matplotlib.pyplot as plt\n",
    "%matplotlib inline"
   ]
  },
  {
   "cell_type": "markdown",
   "metadata": {},
   "source": [
    "## The Data"
   ]
  },
  {
   "cell_type": "code",
   "execution_count": 11,
   "metadata": {
    "collapsed": false
   },
   "outputs": [],
   "source": [
    "dtype_dict = {'bathrooms':float, 'waterfront':int, 'sqft_above':int, 'sqft_living15':float, 'grade':int, 'yr_renovated':int, 'price':float, 'bedrooms':float, 'zipcode':str, 'long':float, 'sqft_lot15':float, 'sqft_living':float, 'floors':str, 'condition':int, 'lat':float, 'date':str, 'sqft_basement':int, 'yr_built':int, 'id':str, 'sqft_lot':int, 'view':int}\n",
    "house_df=pd.read_csv(\"kc_house_data.csv\",dtype=dtype_dict)\n",
    "train_df=pd.read_csv(\"wk3_kc_house_train_data.csv\",dtype=dtype_dict)\n",
    "validation_df=pd.read_csv(\"wk3_kc_house_valid_data.csv\",dtype=dtype_dict)\n",
    "test_df=pd.read_csv(\"wk3_kc_house_test_data.csv\",dtype=dtype_dict)\n",
    "set_1=pd.read_csv(\"wk3_kc_house_set_1_data.csv\",dtype=dtype_dict)\n",
    "set_2=pd.read_csv(\"wk3_kc_house_set_2_data.csv\",dtype=dtype_dict)\n",
    "set_3=pd.read_csv(\"wk3_kc_house_set_3_data.csv\",dtype=dtype_dict)\n",
    "set_4=pd.read_csv(\"wk3_kc_house_set_4_data.csv\",dtype=dtype_dict)"
   ]
  },
  {
   "cell_type": "code",
   "execution_count": 24,
   "metadata": {
    "collapsed": false
   },
   "outputs": [
    {
     "data": {
      "text/html": [
       "<div>\n",
       "<style>\n",
       "    .dataframe thead tr:only-child th {\n",
       "        text-align: right;\n",
       "    }\n",
       "\n",
       "    .dataframe thead th {\n",
       "        text-align: left;\n",
       "    }\n",
       "\n",
       "    .dataframe tbody tr th {\n",
       "        vertical-align: top;\n",
       "    }\n",
       "</style>\n",
       "<table border=\"1\" class=\"dataframe\">\n",
       "  <thead>\n",
       "    <tr style=\"text-align: right;\">\n",
       "      <th></th>\n",
       "      <th>id</th>\n",
       "      <th>date</th>\n",
       "      <th>price</th>\n",
       "      <th>bedrooms</th>\n",
       "      <th>bathrooms</th>\n",
       "      <th>sqft_living</th>\n",
       "      <th>sqft_lot</th>\n",
       "      <th>floors</th>\n",
       "      <th>waterfront</th>\n",
       "      <th>view</th>\n",
       "      <th>...</th>\n",
       "      <th>grade</th>\n",
       "      <th>sqft_above</th>\n",
       "      <th>sqft_basement</th>\n",
       "      <th>yr_built</th>\n",
       "      <th>yr_renovated</th>\n",
       "      <th>zipcode</th>\n",
       "      <th>lat</th>\n",
       "      <th>long</th>\n",
       "      <th>sqft_living15</th>\n",
       "      <th>sqft_lot15</th>\n",
       "    </tr>\n",
       "  </thead>\n",
       "  <tbody>\n",
       "    <tr>\n",
       "      <th>0</th>\n",
       "      <td>7129300520</td>\n",
       "      <td>20141013T000000</td>\n",
       "      <td>221900.0</td>\n",
       "      <td>3.0</td>\n",
       "      <td>1.00</td>\n",
       "      <td>1180.0</td>\n",
       "      <td>5650</td>\n",
       "      <td>1</td>\n",
       "      <td>0</td>\n",
       "      <td>0</td>\n",
       "      <td>...</td>\n",
       "      <td>7</td>\n",
       "      <td>1180</td>\n",
       "      <td>0</td>\n",
       "      <td>1955</td>\n",
       "      <td>0</td>\n",
       "      <td>98178</td>\n",
       "      <td>47.5112</td>\n",
       "      <td>-122.257</td>\n",
       "      <td>1340.0</td>\n",
       "      <td>5650.0</td>\n",
       "    </tr>\n",
       "    <tr>\n",
       "      <th>1</th>\n",
       "      <td>6414100192</td>\n",
       "      <td>20141209T000000</td>\n",
       "      <td>538000.0</td>\n",
       "      <td>3.0</td>\n",
       "      <td>2.25</td>\n",
       "      <td>2570.0</td>\n",
       "      <td>7242</td>\n",
       "      <td>2</td>\n",
       "      <td>0</td>\n",
       "      <td>0</td>\n",
       "      <td>...</td>\n",
       "      <td>7</td>\n",
       "      <td>2170</td>\n",
       "      <td>400</td>\n",
       "      <td>1951</td>\n",
       "      <td>1991</td>\n",
       "      <td>98125</td>\n",
       "      <td>47.7210</td>\n",
       "      <td>-122.319</td>\n",
       "      <td>1690.0</td>\n",
       "      <td>7639.0</td>\n",
       "    </tr>\n",
       "    <tr>\n",
       "      <th>2</th>\n",
       "      <td>5631500400</td>\n",
       "      <td>20150225T000000</td>\n",
       "      <td>180000.0</td>\n",
       "      <td>2.0</td>\n",
       "      <td>1.00</td>\n",
       "      <td>770.0</td>\n",
       "      <td>10000</td>\n",
       "      <td>1</td>\n",
       "      <td>0</td>\n",
       "      <td>0</td>\n",
       "      <td>...</td>\n",
       "      <td>6</td>\n",
       "      <td>770</td>\n",
       "      <td>0</td>\n",
       "      <td>1933</td>\n",
       "      <td>0</td>\n",
       "      <td>98028</td>\n",
       "      <td>47.7379</td>\n",
       "      <td>-122.233</td>\n",
       "      <td>2720.0</td>\n",
       "      <td>8062.0</td>\n",
       "    </tr>\n",
       "    <tr>\n",
       "      <th>3</th>\n",
       "      <td>2487200875</td>\n",
       "      <td>20141209T000000</td>\n",
       "      <td>604000.0</td>\n",
       "      <td>4.0</td>\n",
       "      <td>3.00</td>\n",
       "      <td>1960.0</td>\n",
       "      <td>5000</td>\n",
       "      <td>1</td>\n",
       "      <td>0</td>\n",
       "      <td>0</td>\n",
       "      <td>...</td>\n",
       "      <td>7</td>\n",
       "      <td>1050</td>\n",
       "      <td>910</td>\n",
       "      <td>1965</td>\n",
       "      <td>0</td>\n",
       "      <td>98136</td>\n",
       "      <td>47.5208</td>\n",
       "      <td>-122.393</td>\n",
       "      <td>1360.0</td>\n",
       "      <td>5000.0</td>\n",
       "    </tr>\n",
       "    <tr>\n",
       "      <th>4</th>\n",
       "      <td>1954400510</td>\n",
       "      <td>20150218T000000</td>\n",
       "      <td>510000.0</td>\n",
       "      <td>3.0</td>\n",
       "      <td>2.00</td>\n",
       "      <td>1680.0</td>\n",
       "      <td>8080</td>\n",
       "      <td>1</td>\n",
       "      <td>0</td>\n",
       "      <td>0</td>\n",
       "      <td>...</td>\n",
       "      <td>8</td>\n",
       "      <td>1680</td>\n",
       "      <td>0</td>\n",
       "      <td>1987</td>\n",
       "      <td>0</td>\n",
       "      <td>98074</td>\n",
       "      <td>47.6168</td>\n",
       "      <td>-122.045</td>\n",
       "      <td>1800.0</td>\n",
       "      <td>7503.0</td>\n",
       "    </tr>\n",
       "  </tbody>\n",
       "</table>\n",
       "<p>5 rows × 21 columns</p>\n",
       "</div>"
      ],
      "text/plain": [
       "           id             date     price  bedrooms  bathrooms  sqft_living  \\\n",
       "0  7129300520  20141013T000000  221900.0       3.0       1.00       1180.0   \n",
       "1  6414100192  20141209T000000  538000.0       3.0       2.25       2570.0   \n",
       "2  5631500400  20150225T000000  180000.0       2.0       1.00        770.0   \n",
       "3  2487200875  20141209T000000  604000.0       4.0       3.00       1960.0   \n",
       "4  1954400510  20150218T000000  510000.0       3.0       2.00       1680.0   \n",
       "\n",
       "   sqft_lot floors  waterfront  view     ...      grade  sqft_above  \\\n",
       "0      5650      1           0     0     ...          7        1180   \n",
       "1      7242      2           0     0     ...          7        2170   \n",
       "2     10000      1           0     0     ...          6         770   \n",
       "3      5000      1           0     0     ...          7        1050   \n",
       "4      8080      1           0     0     ...          8        1680   \n",
       "\n",
       "   sqft_basement  yr_built  yr_renovated  zipcode      lat     long  \\\n",
       "0              0      1955             0    98178  47.5112 -122.257   \n",
       "1            400      1951          1991    98125  47.7210 -122.319   \n",
       "2              0      1933             0    98028  47.7379 -122.233   \n",
       "3            910      1965             0    98136  47.5208 -122.393   \n",
       "4              0      1987             0    98074  47.6168 -122.045   \n",
       "\n",
       "   sqft_living15  sqft_lot15  \n",
       "0         1340.0      5650.0  \n",
       "1         1690.0      7639.0  \n",
       "2         2720.0      8062.0  \n",
       "3         1360.0      5000.0  \n",
       "4         1800.0      7503.0  \n",
       "\n",
       "[5 rows x 21 columns]"
      ]
     },
     "execution_count": 24,
     "metadata": {},
     "output_type": "execute_result"
    }
   ],
   "source": [
    "house_df.head()"
   ]
  },
  {
   "cell_type": "code",
   "execution_count": 17,
   "metadata": {
    "collapsed": true
   },
   "outputs": [],
   "source": [
    "#Define a function that takes an array feature and a maximal degree, then returns a data frame with the original feature as\n",
    "#the first column, then each subsequent column is the data of the first raised to increasing integer powers, up to the\n",
    "#maximal degree\n",
    "def polynomial_df(series,maxdegree):\n",
    "    poly_df=pd.DataFrame({\"x\":series})\n",
    "    for degree in range(2,maxdegree+1):\n",
    "        poly_df[\"x^\"+str(degree)]=series**degree\n",
    "    return poly_df"
   ]
  },
  {
   "cell_type": "code",
   "execution_count": 22,
   "metadata": {
    "collapsed": false
   },
   "outputs": [],
   "source": [
    "#Sort the sales data by square feet of living space. In the event of a tie, sort secondly by price\n",
    "sales=house_df.sort_values([\"sqft_living\",\"price\"])"
   ]
  },
  {
   "cell_type": "code",
   "execution_count": 29,
   "metadata": {
    "collapsed": true
   },
   "outputs": [],
   "source": [
    "#Make a 1 degree polynomial SFrame with sales[‘sqft_living’] as the the feature. Call it ‘poly1_data’\n",
    "poly1_data=polynomial_df(sales[\"sqft_living\"],1)\n",
    "\n",
    "#Add sales[‘price’] to poly1_data as this will be our output variable\n",
    "poly1_data[\"price\"]=sales[\"price\"]"
   ]
  },
  {
   "cell_type": "markdown",
   "metadata": {},
   "source": [
    "Use the linear regression model to predict the slope and intercept of this data"
   ]
  },
  {
   "cell_type": "code",
   "execution_count": 33,
   "metadata": {
    "collapsed": false
   },
   "outputs": [],
   "source": [
    "model1=LinearRegression().fit(np.array(poly1_data[\"x\"]).reshape(-1,1),poly1_data[\"price\"])"
   ]
  },
  {
   "cell_type": "code",
   "execution_count": 36,
   "metadata": {
    "collapsed": false
   },
   "outputs": [
    {
     "name": "stdout",
     "output_type": "stream",
     "text": [
      "Intercept: -43580.74309447431\n",
      "Slope: 280.6235678974484\n"
     ]
    }
   ],
   "source": [
    "intercept1=model1.intercept_\n",
    "slope1=model1.coef_[0]\n",
    "print(\"Intercept: {}\\nSlope: {}\".format(intercept1,slope1))"
   ]
  },
  {
   "cell_type": "markdown",
   "metadata": {},
   "source": [
    "### Graph"
   ]
  },
  {
   "cell_type": "code",
   "execution_count": 44,
   "metadata": {
    "collapsed": false
   },
   "outputs": [
    {
     "data": {
      "text/plain": [
       "[<matplotlib.lines.Line2D at 0x2c557eca940>,\n",
       " <matplotlib.lines.Line2D at 0x2c557ecaac8>]"
      ]
     },
     "execution_count": 44,
     "metadata": {},
     "output_type": "execute_result"
    },
    {
     "data": {
      "image/png": "[encoded data removed]",
      "text/plain": [
       "<matplotlib.figure.Figure at 0x2c557e74e80>"
      ]
     },
     "metadata": {},
     "output_type": "display_data"
    }
   ],
   "source": [
    "x=poly1_data[\"x\"]\n",
    "y=poly1_data.price\n",
    "y1=model1.predict(np.array(poly1_data[\"x\"]).reshape(-1,1))\n",
    "plt.plot(x,y,\".\",x,y1,\"-\")"
   ]
  },
  {
   "cell_type": "markdown",
   "metadata": {},
   "source": [
    "## Higher Order Polynomials\n",
    "Now that you have plotted the results using a 1st degree polynomial, try it again using a 2nd degree and 3rd degree polynomial. Look at the fitted lines, do they appear as you would expect?"
   ]
  },
  {
   "cell_type": "code",
   "execution_count": 42,
   "metadata": {
    "collapsed": true
   },
   "outputs": [],
   "source": [
    "#Make a 2 degree polynomial data frame with sales[‘sqft_living’] as the the feature. Call it ‘poly2_data’\n",
    "poly2_data=polynomial_df(sales[\"sqft_living\"],2)\n",
    "#Add sales[‘price’] to poly2_data as this will be our output variable\n",
    "poly2_data[\"price\"]=sales[\"price\"]\n",
    "\n",
    "#Make a 3 degree polynomial data frame with sales[‘sqft_living’] as the the feature. Call it ‘poly3_data’\n",
    "poly3_data=polynomial_df(sales[\"sqft_living\"],3)\n",
    "#Add sales[‘price’] to poly3_data as this will be our output variable\n",
    "poly3_data[\"price\"]=sales[\"price\"]"
   ]
  },
  {
   "cell_type": "code",
   "execution_count": 43,
   "metadata": {
    "collapsed": true
   },
   "outputs": [],
   "source": [
    "model2=LinearRegression().fit(poly2_data[[\"x\",\"x^2\"]],poly2_data[\"price\"])\n",
    "model3=LinearRegression().fit(poly3_data[[\"x\",\"x^2\",\"x^3\"]],poly3_data[\"price\"])"
   ]
  },
  {
   "cell_type": "code",
   "execution_count": 63,
   "metadata": {
    "collapsed": false
   },
   "outputs": [
    {
     "data": {
      "text/plain": [
       "<matplotlib.text.Text at 0x2c558413da0>"
      ]
     },
     "execution_count": 63,
     "metadata": {},
     "output_type": "execute_result"
    },
    {
     "data": {
      "image/png": "[encoded data removed]",
      "text/plain": [
       "<matplotlib.figure.Figure at 0x2c5586050b8>"
      ]
     },
     "metadata": {},
     "output_type": "display_data"
    }
   ],
   "source": [
    "y2=model2.predict(poly2_data[[\"x\",\"x^2\"]])\n",
    "y3=model3.predict(poly3_data[[\"x\",\"x^2\",\"x^3\"]])\n",
    "plt.figure(figsize=(10,5))\n",
    "plt.plot(x,y,\".\",label=\"Data\",color=\"blue\")\n",
    "plt.plot(x,y1,\"-\",label=\"Model 1\",color=\"orange\")\n",
    "plt.plot(x,y2,\"-\",label=\"Model 2\",color=\"black\")\n",
    "plt.plot(x,y3,\"-\",label=\"Model 3\",color=\"red\")\n",
    "plt.legend()\n",
    "plt.title(\"Price as a function of x=square feet living\")\n",
    "plt.xlabel(\"x\")\n",
    "plt.ylabel(\"price\")"
   ]
  },
  {
   "cell_type": "markdown",
   "metadata": {},
   "source": [
    "Now try a 15th degree polynomial. Print out the coefficients and look at the resulted fitted line. Do you think this degree is appropriate for these data? If we were to use a different subset of the data do you think we would get pretty much the same curve?"
   ]
  },
  {
   "cell_type": "code",
   "execution_count": 64,
   "metadata": {
    "collapsed": true
   },
   "outputs": [],
   "source": [
    "#Make a 15 degree polynomial data frame with sales[‘sqft_living’] as the the feature. Call it ‘poly15_data’\n",
    "poly15_data=polynomial_df(sales[\"sqft_living\"],15)\n",
    "#Add sales[‘price’] to poly15_data as this will be our output variable\n",
    "poly15_data[\"price\"]=sales[\"price\"]"
   ]
  },
  {
   "cell_type": "code",
   "execution_count": 68,
   "metadata": {
    "collapsed": false
   },
   "outputs": [],
   "source": [
    "x5=poly15_data[list(poly15_data.columns[:-1])]\n",
    "model15=LinearRegression().fit(x5,y)"
   ]
  },
  {
   "cell_type": "code",
   "execution_count": 69,
   "metadata": {
    "collapsed": false
   },
   "outputs": [
    {
     "data": {
      "text/plain": [
       "array([  4.56404164e-91,   6.91711930e-51,  -5.84644714e-56,\n",
       "        -4.97841222e-60,   0.00000000e+00,   2.68575170e-71,\n",
       "         2.26147568e-67,   1.85900299e-63,   1.47144116e-59,\n",
       "         1.09771012e-55,   7.43509038e-52,   4.23015578e-48,\n",
       "         1.61618577e-44,  -2.49283826e-48,   9.59718336e-53])"
      ]
     },
     "execution_count": 69,
     "metadata": {},
     "output_type": "execute_result"
    }
   ],
   "source": [
    "model15.coef_"
   ]
  },
  {
   "cell_type": "code",
   "execution_count": 72,
   "metadata": {
    "collapsed": false
   },
   "outputs": [
    {
     "data": {
      "text/plain": [
       "537116.32963773981"
      ]
     },
     "execution_count": 72,
     "metadata": {},
     "output_type": "execute_result"
    }
   ],
   "source": [
    "model15.intercept_"
   ]
  },
  {
   "cell_type": "code",
   "execution_count": 71,
   "metadata": {
    "collapsed": false
   },
   "outputs": [
    {
     "data": {
      "text/plain": [
       "[<matplotlib.lines.Line2D at 0x2c55873d780>]"
      ]
     },
     "execution_count": 71,
     "metadata": {},
     "output_type": "execute_result"
    },
    {
     "data": {
      "image/png": "[encoded data removed]",
      "text/plain": [
       "<matplotlib.figure.Figure at 0x2c5587432e8>"
      ]
     },
     "metadata": {},
     "output_type": "display_data"
    }
   ],
   "source": [
    "plt.figure(figsize=(10,5))\n",
    "plt.plot(x,y,\".\",color=\"blue\")\n",
    "plt.plot(x,model15.predict(x5),\"-\",color=\"red\")"
   ]
  },
  {
   "cell_type": "markdown",
   "metadata": {},
   "source": [
    "Estimate a 15th degree polynomial on all 4 sets, plot the results and view the coefficients for all four models."
   ]
  },
  {
   "cell_type": "code",
   "execution_count": 89,
   "metadata": {
    "collapsed": true
   },
   "outputs": [],
   "source": [
    "poly15_set1=polynomial_df(set_1[\"sqft_living\"],15)\n",
    "poly15_set1[\"price\"]=set_1.price\n",
    "x15_set1=poly15_set1[poly15_set1.columns[poly15_set1.columns!=\"price\"]]\n",
    "\n",
    "poly15_set2=polynomial_df(set_2[\"sqft_living\"],15)\n",
    "poly15_set2[\"price\"]=set_2.price\n",
    "x15_set2=poly15_set2[poly15_set2.columns[poly15_set2.columns!=\"price\"]]\n",
    "\n",
    "poly15_set3=polynomial_df(set_3[\"sqft_living\"],15)\n",
    "poly15_set3[\"price\"]=set_3.price\n",
    "x15_set3=poly15_set3[poly15_set3.columns[poly15_set3.columns!=\"price\"]]\n",
    "\n",
    "poly15_set4=polynomial_df(set_4[\"sqft_living\"],15)\n",
    "poly15_set4[\"price\"]=set_4.price\n",
    "x15_set4=poly15_set4[poly15_set4.columns[poly15_set4.columns!=\"price\"]]"
   ]
  },
  {
   "cell_type": "code",
   "execution_count": 91,
   "metadata": {
    "collapsed": false
   },
   "outputs": [],
   "source": [
    "model15_set1=LinearRegression().fit(x15_set1,set_1.price)\n",
    "model15_set2=LinearRegression().fit(x15_set2,set_2.price)\n",
    "model15_set3=LinearRegression().fit(x15_set3,set_3.price)\n",
    "model15_set4=LinearRegression().fit(x15_set4,set_4.price)"
   ]
  },
  {
   "cell_type": "code",
   "execution_count": 97,
   "metadata": {
    "collapsed": false
   },
   "outputs": [
    {
     "data": {
      "text/plain": [
       "(0, 14000)"
      ]
     },
     "execution_count": 97,
     "metadata": {},
     "output_type": "execute_result"
    },
    {
     "data": {
      "image/png": "[encoded data removed]",
      "text/plain": [
       "<matplotlib.figure.Figure at 0x2c55d489240>"
      ]
     },
     "metadata": {},
     "output_type": "display_data"
    }
   ],
   "source": [
    "plt.figure(figsize=(10,5))\n",
    "plt.plot(x,y,\".\",color=\"blue\")\n",
    "plt.plot(x15_set1,model15_set1.predict(x15_set1),\"-\",color=\"red\")\n",
    "plt.plot(x15_set2,model15_set2.predict(x15_set2),\"-\",color=\"green\")\n",
    "plt.plot(x15_set3,model15_set3.predict(x15_set3),\"-\",color=\"black\")\n",
    "plt.plot(x15_set4,model15_set4.predict(x15_set4),\"-\",color=\"purple\")\n",
    "plt.xlim(0,14000)"
   ]
  },
  {
   "cell_type": "code",
   "execution_count": 102,
   "metadata": {
    "collapsed": false
   },
   "outputs": [
    {
     "name": "stdout",
     "output_type": "stream",
     "text": [
      "[  3.05794168e-90  -1.69394900e-49   2.35908952e-55   0.00000000e+00\n",
      "   0.00000000e+00   1.10358351e-70   8.37724029e-67   6.23411957e-63\n",
      "   4.49156442e-59   3.06938763e-55   1.91749300e-51   1.01335180e-47\n",
      "   3.62176959e-44  -5.63501661e-48   2.18641116e-52] \n",
      "\n",
      "[  2.71335943e-77   7.33542374e-39  -1.85052450e-44   1.39207183e-49\n",
      "   0.00000000e+00   0.00000000e+00   3.64549213e-55   1.50416255e-51\n",
      "   5.76015653e-48   1.95770493e-44   5.39396528e-41   9.40376341e-38\n",
      "  -3.63529134e-41   4.65476514e-45  -1.97197311e-49] \n",
      "\n",
      "[  2.83751934e-88  -7.80224148e-49  -1.38766438e-55   3.98272978e-59\n",
      "   0.00000000e+00   4.27894986e-69   2.68009626e-65   1.63911362e-61\n",
      "   9.66435015e-58   5.38044653e-54   2.72563636e-50   1.16253248e-46\n",
      "   3.33756141e-43  -6.76238818e-47   3.43132932e-51] \n",
      "\n",
      "[  1.37116050e-76   2.79678944e-40  -4.25065052e-44   6.08163411e-50\n",
      "   0.00000000e+00   0.00000000e+00   1.27070051e-54   4.87868972e-51\n",
      "   1.73549022e-47   5.47058320e-44   1.39587599e-40   2.25041871e-37\n",
      "  -9.43954119e-41   1.31573060e-44  -6.09165883e-49] \n",
      "\n"
     ]
    }
   ],
   "source": [
    "print(model15_set1.coef_,\"\\n\")\n",
    "print(model15_set2.coef_,\"\\n\")\n",
    "print(model15_set3.coef_,\"\\n\")\n",
    "print(model15_set4.coef_,\"\\n\")"
   ]
  },
  {
   "cell_type": "markdown",
   "metadata": {},
   "source": [
    "## Cross Validation\n",
    "Since the “best” polynomial degree is unknown to us we will use cross validation to select the best degree.\n",
    "\n",
    "Now for each degree from 1 to 15:\n",
    "\n",
    "Build a polynomial data set using training_data[‘sqft_living’] as the feature and the current degree\n",
    "    \n",
    "Add training_data[‘price’] as a column to your polynomial data set\n",
    "\n",
    "Learn a model on TRAINING data to predict ‘price’ based on your polynomial data set at the current degree\n",
    "\n",
    "Compute the RSS on VALIDATION for the current model (print or save the RSS)"
   ]
  },
  {
   "cell_type": "code",
   "execution_count": 112,
   "metadata": {
    "collapsed": true
   },
   "outputs": [],
   "source": [
    "def rss(ytrue,ypredict):\n",
    "    return ((ytrue-ypredict)**2).sum()"
   ]
  },
  {
   "cell_type": "code",
   "execution_count": 127,
   "metadata": {
    "collapsed": false
   },
   "outputs": [],
   "source": [
    "first_poly=polynomial_df(train_df[\"sqft_living\"],1)\n",
    "first_model=LinearRegression().fit(np.array(first_poly[\"x\"]).reshape(-1,1),y)\n",
    "model_list=[first_model,]\n",
    "rss_list=[rss(validation_df.price,first_model.predict(polynomial_df(validation_df[\"sqft_living\"],1))),]\n",
    "rss_test_list=[rss(test_df.price,first_model.predict(polynomial_df(test_df[\"sqft_living\"],1))),]\n",
    "for degree in range(2,16):\n",
    "    poly=polynomial_df(train_df[\"sqft_living\"],degree)\n",
    "    y=train_df.price\n",
    "    x_valid=polynomial_df(validation_df[\"sqft_living\"],degree)\n",
    "    x_test=polynomial_df(test_df[\"sqft_living\"],degree)\n",
    "    model=LinearRegression().fit(poly,y)\n",
    "    model_list.append(model)\n",
    "    rss_list.append(rss(validation_df.price,model.predict(x_valid)))\n",
    "    rss_test_list.append(rss(test_df.price,model.predict(x_test)))\n",
    "    "
   ]
  },
  {
   "cell_type": "code",
   "execution_count": 134,
   "metadata": {
    "collapsed": false
   },
   "outputs": [],
   "source": [
    "rss_df=pd.DataFrame({\"Degree_Model\":list(range(1,16)),\"RSS\":rss_list})"
   ]
  },
  {
   "cell_type": "code",
   "execution_count": 135,
   "metadata": {
    "collapsed": false
   },
   "outputs": [
    {
     "data": {
      "text/html": [
       "<div>\n",
       "<style>\n",
       "    .dataframe thead tr:only-child th {\n",
       "        text-align: right;\n",
       "    }\n",
       "\n",
       "    .dataframe thead th {\n",
       "        text-align: left;\n",
       "    }\n",
       "\n",
       "    .dataframe tbody tr th {\n",
       "        vertical-align: top;\n",
       "    }\n",
       "</style>\n",
       "<table border=\"1\" class=\"dataframe\">\n",
       "  <thead>\n",
       "    <tr style=\"text-align: right;\">\n",
       "      <th></th>\n",
       "      <th>Degree_Model</th>\n",
       "      <th>RSS</th>\n",
       "    </tr>\n",
       "  </thead>\n",
       "  <tbody>\n",
       "    <tr>\n",
       "      <th>5</th>\n",
       "      <td>6</td>\n",
       "      <td>5.662686e+14</td>\n",
       "    </tr>\n",
       "    <tr>\n",
       "      <th>1</th>\n",
       "      <td>2</td>\n",
       "      <td>6.239551e+14</td>\n",
       "    </tr>\n",
       "    <tr>\n",
       "      <th>2</th>\n",
       "      <td>3</td>\n",
       "      <td>6.258203e+14</td>\n",
       "    </tr>\n",
       "    <tr>\n",
       "      <th>4</th>\n",
       "      <td>5</td>\n",
       "      <td>6.282384e+14</td>\n",
       "    </tr>\n",
       "    <tr>\n",
       "      <th>0</th>\n",
       "      <td>1</td>\n",
       "      <td>6.290979e+14</td>\n",
       "    </tr>\n",
       "    <tr>\n",
       "      <th>3</th>\n",
       "      <td>4</td>\n",
       "      <td>6.299873e+14</td>\n",
       "    </tr>\n",
       "    <tr>\n",
       "      <th>6</th>\n",
       "      <td>7</td>\n",
       "      <td>1.073846e+15</td>\n",
       "    </tr>\n",
       "    <tr>\n",
       "      <th>7</th>\n",
       "      <td>8</td>\n",
       "      <td>7.087929e+15</td>\n",
       "    </tr>\n",
       "    <tr>\n",
       "      <th>8</th>\n",
       "      <td>9</td>\n",
       "      <td>4.530319e+16</td>\n",
       "    </tr>\n",
       "    <tr>\n",
       "      <th>9</th>\n",
       "      <td>10</td>\n",
       "      <td>2.475506e+17</td>\n",
       "    </tr>\n",
       "    <tr>\n",
       "      <th>12</th>\n",
       "      <td>13</td>\n",
       "      <td>7.616230e+17</td>\n",
       "    </tr>\n",
       "    <tr>\n",
       "      <th>10</th>\n",
       "      <td>11</td>\n",
       "      <td>1.193909e+18</td>\n",
       "    </tr>\n",
       "    <tr>\n",
       "      <th>13</th>\n",
       "      <td>14</td>\n",
       "      <td>2.297561e+18</td>\n",
       "    </tr>\n",
       "    <tr>\n",
       "      <th>11</th>\n",
       "      <td>12</td>\n",
       "      <td>5.110813e+18</td>\n",
       "    </tr>\n",
       "    <tr>\n",
       "      <th>14</th>\n",
       "      <td>15</td>\n",
       "      <td>6.955038e+18</td>\n",
       "    </tr>\n",
       "  </tbody>\n",
       "</table>\n",
       "</div>"
      ],
      "text/plain": [
       "    Degree_Model           RSS\n",
       "5              6  5.662686e+14\n",
       "1              2  6.239551e+14\n",
       "2              3  6.258203e+14\n",
       "4              5  6.282384e+14\n",
       "0              1  6.290979e+14\n",
       "3              4  6.299873e+14\n",
       "6              7  1.073846e+15\n",
       "7              8  7.087929e+15\n",
       "8              9  4.530319e+16\n",
       "9             10  2.475506e+17\n",
       "12            13  7.616230e+17\n",
       "10            11  1.193909e+18\n",
       "13            14  2.297561e+18\n",
       "11            12  5.110813e+18\n",
       "14            15  6.955038e+18"
      ]
     },
     "execution_count": 135,
     "metadata": {},
     "output_type": "execute_result"
    }
   ],
   "source": [
    "#Sort the rss data frame by RSS so that we can see which model had the lowest RSS on the validation set\n",
    "rss_df.sort_values(\"RSS\")"
   ]
  },
  {
   "cell_type": "markdown",
   "metadata": {},
   "source": [
    "The sixth degree model was the most successful. Let's choose this model as the best. Let us check the rss of this model, and out of curiosity, let us check the rss scores of the other models on the test data to see if this was indeed the best choice (at least on the test data)"
   ]
  },
  {
   "cell_type": "code",
   "execution_count": 137,
   "metadata": {
    "collapsed": false
   },
   "outputs": [
    {
     "data": {
      "text/html": [
       "<div>\n",
       "<style>\n",
       "    .dataframe thead tr:only-child th {\n",
       "        text-align: right;\n",
       "    }\n",
       "\n",
       "    .dataframe thead th {\n",
       "        text-align: left;\n",
       "    }\n",
       "\n",
       "    .dataframe tbody tr th {\n",
       "        vertical-align: top;\n",
       "    }\n",
       "</style>\n",
       "<table border=\"1\" class=\"dataframe\">\n",
       "  <thead>\n",
       "    <tr style=\"text-align: right;\">\n",
       "      <th></th>\n",
       "      <th>Degree_Model</th>\n",
       "      <th>RSS</th>\n",
       "      <th>RSS_Test</th>\n",
       "    </tr>\n",
       "  </thead>\n",
       "  <tbody>\n",
       "    <tr>\n",
       "      <th>6</th>\n",
       "      <td>7</td>\n",
       "      <td>1.073846e+15</td>\n",
       "      <td>1.330473e+14</td>\n",
       "    </tr>\n",
       "    <tr>\n",
       "      <th>7</th>\n",
       "      <td>8</td>\n",
       "      <td>7.087929e+15</td>\n",
       "      <td>1.348738e+14</td>\n",
       "    </tr>\n",
       "    <tr>\n",
       "      <th>5</th>\n",
       "      <td>6</td>\n",
       "      <td>5.662686e+14</td>\n",
       "      <td>1.352251e+14</td>\n",
       "    </tr>\n",
       "    <tr>\n",
       "      <th>3</th>\n",
       "      <td>4</td>\n",
       "      <td>6.299873e+14</td>\n",
       "      <td>1.353827e+14</td>\n",
       "    </tr>\n",
       "    <tr>\n",
       "      <th>4</th>\n",
       "      <td>5</td>\n",
       "      <td>6.282384e+14</td>\n",
       "      <td>1.354958e+14</td>\n",
       "    </tr>\n",
       "  </tbody>\n",
       "</table>\n",
       "</div>"
      ],
      "text/plain": [
       "   Degree_Model           RSS      RSS_Test\n",
       "6             7  1.073846e+15  1.330473e+14\n",
       "7             8  7.087929e+15  1.348738e+14\n",
       "5             6  5.662686e+14  1.352251e+14\n",
       "3             4  6.299873e+14  1.353827e+14\n",
       "4             5  6.282384e+14  1.354958e+14"
      ]
     },
     "execution_count": 137,
     "metadata": {},
     "output_type": "execute_result"
    }
   ],
   "source": [
    "rss_df[\"RSS_Test\"]=rss_test_list\n",
    "rss_df.sort_values(\"RSS_Test\").head()"
   ]
  },
  {
   "cell_type": "markdown",
   "metadata": {
    "collapsed": true
   },
   "source": [
    "# Conclusion\n",
    "\n",
    "Based on cross validation scores, we judged the sixth degree polynomial feature model to be the most accurate (least residual sum of squares value). However, other models yielded similar scores, including the linear model."
   ]
  },
  {
   "cell_type": "code",
   "execution_count": null,
   "metadata": {
    "collapsed": true
   },
   "outputs": [],
   "source": []
  }
 ],
 "metadata": {
  "anaconda-cloud": {},
  "kernelspec": {
   "display_name": "Python [conda root]",
   "language": "python",
   "name": "conda-root-py"
  },
  "language_info": {
   "codemirror_mode": {
    "name": "ipython",
    "version": 3
   },
   "file_extension": ".py",
   "mimetype": "text/x-python",
   "name": "python",
   "nbconvert_exporter": "python",
   "pygments_lexer": "ipython3",
   "version": "3.5.2"
  }
 },
 "nbformat": 4,
 "nbformat_minor": 1
}
