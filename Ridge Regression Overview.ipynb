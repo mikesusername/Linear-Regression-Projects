{
 "cells": [
  {
   "cell_type": "markdown",
   "metadata": {},
   "source": [
    "# Ridge Regression (a.k.a L2 Regularization)"
   ]
  },
  {
   "cell_type": "markdown",
   "metadata": {},
   "source": [
    "## Overview\n",
    "\n",
    "The purpose of this module is to examine ridge regression. Ridge regression is an attempt to avoiding overfitting during linear regression.\n",
    "\n",
    "As an example to motivate the discussion, recall the linear regression model of an unusually high order polynomial, to data that can be fit well with a linear or low order polynomial. This is the classic example of over fitting data. We notice with a high order polynomial fit, say degree 15, that the polynomial fits the training data very well, but the undulations of the curve that make the fit very well, don't generalize well to new data.\n",
    "\n",
    "Let us ask the question \"can we determine a model is overfit by looking at the coefficients?\" The answer is yes. First, we must make sure we rescale our data so that our xvalues vary from 0 to 1. After rescaling, we notice that a high order polynomial model must have very large coefficients on the high order polynomial terms. For example, x^15 will map a number (between zero and one) to an extremely small number. Thus, the coefficient must become extremely large for it to be non negligible. \n",
    "\n",
    "Therefore, after rescaling, the indication of an overfit line will be extremely large coefficients. In order to minimize the overfitting, we could \"devalue\" the terms with large coefficients (If we were only talking about a polynomial fit, we could just eliminate the higher order terms, but in a more general sense, if we have a large number of features that we want to include, we would have to resort to devaluing the terms that are contributing to the overfitting). \n",
    "\n",
    "In order to devalue the terms with large coefficients, we redefine our cost function (scoring metric). With \"normal\" linear regression, our cost function was the residual sum of squares (RSS), where low values indicate a good fit. In order to devalue the overfitting terms, we redefine our cost function to be equal to RSS plus a measure of the magnitude of coefficients. We have two reasonable options for the measure of magnitudes of the coefficients: the L1 norm (sum of magnitudes) or the L2 norm squared (the L2 norm is the square root of the sum of squares, so the L2 squared is the sum of squares).\n",
    "\n",
    "In Ridge Regression, we choose the L2 norm squared (Lasso uses the L1 squared). Thus, we define the cost function to be the RSS plus a constant (alpha) times the L2 squared. We use the constant alpha to increase or decrease the effect of devaluing term (L2 squared). Notice that as alpha goes to zero, the model approaches the \"normal\" linear regression (which may be overfit). On the other hand, letting alpha approach infinity, forces the coefficients to approach zero in order to minimize the cost function since, although the RSS may be large, it is bounded, whereas the devaluing term is not. So to minimize the unbounded term, the coefficients must approach zero."
   ]
  },
  {
   "cell_type": "code",
   "execution_count": 8,
   "metadata": {
    "collapsed": false
   },
   "outputs": [],
   "source": [
    "import pandas as pd\n",
    "import numpy as np\n",
    "import matplotlib.pyplot as plt\n",
    "from sklearn.linear_model import LinearRegression\n",
    "from sklearn.linear_model import Ridge\n",
    "import random\n",
    "import math\n",
    "%matplotlib inline"
   ]
  },
  {
   "cell_type": "markdown",
   "metadata": {},
   "source": [
    "## The Data\n",
    "We will generate a random set of x values. The y values will be sin(4x), with some noise added to it."
   ]
  },
  {
   "cell_type": "code",
   "execution_count": 9,
   "metadata": {
    "collapsed": true
   },
   "outputs": [],
   "source": [
    "#Create a random set of n x-values in the range [0,1)\n",
    "random.seed(98103)\n",
    "n=30\n",
    "x=[random.random() for i in range(n)]"
   ]
  },
  {
   "cell_type": "code",
   "execution_count": 10,
   "metadata": {
    "collapsed": true
   },
   "outputs": [],
   "source": [
    "x.sort()\n",
    "xseries=pd.Series(x)"
   ]
  },
  {
   "cell_type": "code",
   "execution_count": 11,
   "metadata": {
    "collapsed": false
   },
   "outputs": [],
   "source": [
    "#Create y values\n",
    "yseries=xseries.apply(lambda x: math.sin(4*x))"
   ]
  },
  {
   "cell_type": "code",
   "execution_count": 12,
   "metadata": {
    "collapsed": false
   },
   "outputs": [],
   "source": [
    "#Add some random Guasian noise to the data\n",
    "random.seed(1)\n",
    "noise=pd.Series([random.gauss(0,1.0/3.0) for i in range(n)])\n",
    "yseries=yseries+noise"
   ]
  },
  {
   "cell_type": "markdown",
   "metadata": {},
   "source": [
    "## Plot the Data"
   ]
  },
  {
   "cell_type": "code",
   "execution_count": 13,
   "metadata": {
    "collapsed": false
   },
   "outputs": [
    {
     "data": {
      "text/plain": [
       "[<matplotlib.lines.Line2D at 0x24528a2a9e8>]"
      ]
     },
     "execution_count": 13,
     "metadata": {},
     "output_type": "execute_result"
    },
    {
     "data": {
      "image/png": "[encoded data removed]",
      "text/plain": [
       "<matplotlib.figure.Figure at 0x24530eec630>"
      ]
     },
     "metadata": {},
     "output_type": "display_data"
    }
   ],
   "source": [
    "plt.plot(xseries,yseries,\".\")"
   ]
  },
  {
   "cell_type": "markdown",
   "metadata": {},
   "source": [
    "## Our Models"
   ]
  },
  {
   "cell_type": "code",
   "execution_count": 14,
   "metadata": {
    "collapsed": true
   },
   "outputs": [],
   "source": [
    "#Define a function that takes an array feature and a maximal degree, then returns a data frame with the original feature as\n",
    "#the first column, then each subsequent column is the data of the first raised to increasing integer powers, up to the\n",
    "#maximal degree\n",
    "def polynomial_df(series,maxdegree):\n",
    "    poly_df=pd.DataFrame({\"x\":series})\n",
    "    for degree in range(2,maxdegree+1):\n",
    "        poly_df[\"x^\"+str(degree)]=series**degree\n",
    "    return poly_df"
   ]
  },
  {
   "cell_type": "markdown",
   "metadata": {},
   "source": [
    "## Ordinary Linear Regression"
   ]
  },
  {
   "cell_type": "code",
   "execution_count": 15,
   "metadata": {
    "collapsed": false
   },
   "outputs": [],
   "source": [
    "#Create our x-values data frame with polynomial features up to degree 15\n",
    "X_poly15=polynomial_df(xseries,15)"
   ]
  },
  {
   "cell_type": "code",
   "execution_count": 16,
   "metadata": {
    "collapsed": false
   },
   "outputs": [
    {
     "data": {
      "text/html": [
       "<div>\n",
       "<style>\n",
       "    .dataframe thead tr:only-child th {\n",
       "        text-align: right;\n",
       "    }\n",
       "\n",
       "    .dataframe thead th {\n",
       "        text-align: left;\n",
       "    }\n",
       "\n",
       "    .dataframe tbody tr th {\n",
       "        vertical-align: top;\n",
       "    }\n",
       "</style>\n",
       "<table border=\"1\" class=\"dataframe\">\n",
       "  <thead>\n",
       "    <tr style=\"text-align: right;\">\n",
       "      <th></th>\n",
       "      <th>x</th>\n",
       "      <th>x^2</th>\n",
       "      <th>x^3</th>\n",
       "      <th>x^4</th>\n",
       "      <th>x^5</th>\n",
       "      <th>x^6</th>\n",
       "      <th>x^7</th>\n",
       "      <th>x^8</th>\n",
       "      <th>x^9</th>\n",
       "      <th>x^10</th>\n",
       "      <th>x^11</th>\n",
       "      <th>x^12</th>\n",
       "      <th>x^13</th>\n",
       "      <th>x^14</th>\n",
       "      <th>x^15</th>\n",
       "    </tr>\n",
       "  </thead>\n",
       "  <tbody>\n",
       "    <tr>\n",
       "      <th>0</th>\n",
       "      <td>0.039579</td>\n",
       "      <td>0.001566</td>\n",
       "      <td>0.000062</td>\n",
       "      <td>0.000002</td>\n",
       "      <td>9.712277e-08</td>\n",
       "      <td>3.844017e-09</td>\n",
       "      <td>1.521421e-10</td>\n",
       "      <td>6.021625e-12</td>\n",
       "      <td>2.383296e-13</td>\n",
       "      <td>9.432833e-15</td>\n",
       "      <td>3.733416e-16</td>\n",
       "      <td>1.477647e-17</td>\n",
       "      <td>5.848369e-19</td>\n",
       "      <td>2.314723e-20</td>\n",
       "      <td>9.161429e-22</td>\n",
       "    </tr>\n",
       "    <tr>\n",
       "      <th>1</th>\n",
       "      <td>0.041568</td>\n",
       "      <td>0.001728</td>\n",
       "      <td>0.000072</td>\n",
       "      <td>0.000003</td>\n",
       "      <td>1.241083e-07</td>\n",
       "      <td>5.158947e-09</td>\n",
       "      <td>2.144476e-10</td>\n",
       "      <td>8.914179e-12</td>\n",
       "      <td>3.705455e-13</td>\n",
       "      <td>1.540287e-14</td>\n",
       "      <td>6.402681e-16</td>\n",
       "      <td>2.661473e-17</td>\n",
       "      <td>1.106324e-18</td>\n",
       "      <td>4.598777e-20</td>\n",
       "      <td>1.911624e-21</td>\n",
       "    </tr>\n",
       "    <tr>\n",
       "      <th>2</th>\n",
       "      <td>0.072432</td>\n",
       "      <td>0.005246</td>\n",
       "      <td>0.000380</td>\n",
       "      <td>0.000028</td>\n",
       "      <td>1.993659e-06</td>\n",
       "      <td>1.444046e-07</td>\n",
       "      <td>1.045951e-08</td>\n",
       "      <td>7.576024e-10</td>\n",
       "      <td>5.487462e-11</td>\n",
       "      <td>3.974675e-12</td>\n",
       "      <td>2.878935e-13</td>\n",
       "      <td>2.085269e-14</td>\n",
       "      <td>1.510401e-15</td>\n",
       "      <td>1.094013e-16</td>\n",
       "      <td>7.924146e-18</td>\n",
       "    </tr>\n",
       "    <tr>\n",
       "      <th>3</th>\n",
       "      <td>0.150289</td>\n",
       "      <td>0.022587</td>\n",
       "      <td>0.003395</td>\n",
       "      <td>0.000510</td>\n",
       "      <td>7.667197e-05</td>\n",
       "      <td>1.152296e-05</td>\n",
       "      <td>1.731774e-06</td>\n",
       "      <td>2.602667e-07</td>\n",
       "      <td>3.911523e-08</td>\n",
       "      <td>5.878591e-09</td>\n",
       "      <td>8.834878e-10</td>\n",
       "      <td>1.327785e-10</td>\n",
       "      <td>1.995516e-11</td>\n",
       "      <td>2.999042e-12</td>\n",
       "      <td>4.507231e-13</td>\n",
       "    </tr>\n",
       "    <tr>\n",
       "      <th>4</th>\n",
       "      <td>0.161334</td>\n",
       "      <td>0.026029</td>\n",
       "      <td>0.004199</td>\n",
       "      <td>0.000677</td>\n",
       "      <td>1.093028e-04</td>\n",
       "      <td>1.763428e-05</td>\n",
       "      <td>2.845012e-06</td>\n",
       "      <td>4.589975e-07</td>\n",
       "      <td>7.405197e-08</td>\n",
       "      <td>1.194711e-08</td>\n",
       "      <td>1.927477e-09</td>\n",
       "      <td>3.109678e-10</td>\n",
       "      <td>5.016973e-11</td>\n",
       "      <td>8.094091e-12</td>\n",
       "      <td>1.305853e-12</td>\n",
       "    </tr>\n",
       "  </tbody>\n",
       "</table>\n",
       "</div>"
      ],
      "text/plain": [
       "          x       x^2       x^3       x^4           x^5           x^6  \\\n",
       "0  0.039579  0.001566  0.000062  0.000002  9.712277e-08  3.844017e-09   \n",
       "1  0.041568  0.001728  0.000072  0.000003  1.241083e-07  5.158947e-09   \n",
       "2  0.072432  0.005246  0.000380  0.000028  1.993659e-06  1.444046e-07   \n",
       "3  0.150289  0.022587  0.003395  0.000510  7.667197e-05  1.152296e-05   \n",
       "4  0.161334  0.026029  0.004199  0.000677  1.093028e-04  1.763428e-05   \n",
       "\n",
       "            x^7           x^8           x^9          x^10          x^11  \\\n",
       "0  1.521421e-10  6.021625e-12  2.383296e-13  9.432833e-15  3.733416e-16   \n",
       "1  2.144476e-10  8.914179e-12  3.705455e-13  1.540287e-14  6.402681e-16   \n",
       "2  1.045951e-08  7.576024e-10  5.487462e-11  3.974675e-12  2.878935e-13   \n",
       "3  1.731774e-06  2.602667e-07  3.911523e-08  5.878591e-09  8.834878e-10   \n",
       "4  2.845012e-06  4.589975e-07  7.405197e-08  1.194711e-08  1.927477e-09   \n",
       "\n",
       "           x^12          x^13          x^14          x^15  \n",
       "0  1.477647e-17  5.848369e-19  2.314723e-20  9.161429e-22  \n",
       "1  2.661473e-17  1.106324e-18  4.598777e-20  1.911624e-21  \n",
       "2  2.085269e-14  1.510401e-15  1.094013e-16  7.924146e-18  \n",
       "3  1.327785e-10  1.995516e-11  2.999042e-12  4.507231e-13  \n",
       "4  3.109678e-10  5.016973e-11  8.094091e-12  1.305853e-12  "
      ]
     },
     "execution_count": 16,
     "metadata": {},
     "output_type": "execute_result"
    }
   ],
   "source": [
    "X_poly15.head()"
   ]
  },
  {
   "cell_type": "code",
   "execution_count": 340,
   "metadata": {
    "collapsed": false
   },
   "outputs": [],
   "source": [
    "olr=LinearRegression().fit(X_poly15,yseries)"
   ]
  },
  {
   "cell_type": "code",
   "execution_count": 341,
   "metadata": {
    "collapsed": false
   },
   "outputs": [
    {
     "data": {
      "text/plain": [
       "array([  1.68855017e+03,  -5.21795543e+04,   9.06187315e+05,\n",
       "        -1.01385803e+07,   7.81815884e+07,  -4.30158915e+08,\n",
       "         1.72002969e+09,  -5.04552140e+09,   1.08860248e+10,\n",
       "        -1.71957853e+10,   1.96084214e+10,  -1.56882427e+10,\n",
       "         8.34643053e+09,  -2.64973280e+09,   3.79636460e+08])"
      ]
     },
     "execution_count": 341,
     "metadata": {},
     "output_type": "execute_result"
    }
   ],
   "source": [
    "olr.coef_"
   ]
  },
  {
   "cell_type": "markdown",
   "metadata": {},
   "source": [
    "We see that the higher order terms have large coefficients, on the order of e10"
   ]
  },
  {
   "cell_type": "code",
   "execution_count": 56,
   "metadata": {
    "collapsed": false
   },
   "outputs": [],
   "source": [
    "y_predict_olr=olr.predict(X_poly15)"
   ]
  },
  {
   "cell_type": "code",
   "execution_count": 57,
   "metadata": {
    "collapsed": false
   },
   "outputs": [
    {
     "data": {
      "text/plain": [
       "[<matplotlib.lines.Line2D at 0x1cc40a4e710>,\n",
       " <matplotlib.lines.Line2D at 0x1cc40a4e898>]"
      ]
     },
     "execution_count": 57,
     "metadata": {},
     "output_type": "execute_result"
    },
    {
     "data": {
      "image/png": "[encoded data removed]",
      "text/plain": [
       "<matplotlib.figure.Figure at 0x1cc409c9320>"
      ]
     },
     "metadata": {},
     "output_type": "display_data"
    }
   ],
   "source": [
    "plt.plot(xseries,yseries,\".\",xseries,y_predict_olr,\"-\")"
   ]
  },
  {
   "cell_type": "markdown",
   "metadata": {},
   "source": [
    "Overfit indeed! Let us now try ridge regression to see how devaluaing the coefficients effects the behavior."
   ]
  },
  {
   "cell_type": "markdown",
   "metadata": {},
   "source": [
    "## Ridge Regression"
   ]
  },
  {
   "cell_type": "code",
   "execution_count": 73,
   "metadata": {
    "collapsed": false
   },
   "outputs": [],
   "source": [
    "#Lets fit three models with varying values of alpha\n",
    "alpha_list=[0.0000001,1,100]\n",
    "model_list=[]\n",
    "for alpha in alpha_list:\n",
    "    model=Ridge(alpha).fit(X_poly15,yseries)\n",
    "    model_list.append(model)\n",
    "    \n",
    "ridge_prediction_list=[]\n",
    "for model in model_list:\n",
    "    ridge_prediction_list.append(model.predict(X_poly15))"
   ]
  },
  {
   "cell_type": "code",
   "execution_count": 74,
   "metadata": {
    "collapsed": false
   },
   "outputs": [
    {
     "name": "stdout",
     "output_type": "stream",
     "text": [
      "Alpha: 1e-07\n",
      "[ -14.66475488   88.69968365 -171.16123929   58.4967547   105.79342795\n",
      "   14.7418639   -65.28934227  -73.01892413  -27.18121634   26.17448169\n",
      "   52.33915368   41.91673286    7.97373048  -23.55537617  -23.5983747 ]\n",
      "\n",
      "\n",
      "\n",
      "Alpha: 1\n",
      "[ 0.25431787 -0.02425041 -0.19823775 -0.2716715  -0.28880526 -0.27830806\n",
      " -0.2556759  -0.22885783 -0.20179574 -0.17634126 -0.15326196 -0.13276976\n",
      " -0.11480028 -0.09916148 -0.0856123 ]\n",
      "\n",
      "\n",
      "\n",
      "Alpha: 100\n",
      "[-0.01595971 -0.02255494 -0.02442097 -0.02399888 -0.02255679 -0.02072469\n",
      " -0.01880958 -0.01695701 -0.01523138 -0.01365625 -0.01223473 -0.01096007\n",
      " -0.00982118 -0.00880544 -0.00790019]\n",
      "\n",
      "\n",
      "\n"
     ]
    }
   ],
   "source": [
    "for i in range(3):\n",
    "    print(\"Alpha: {}\".format(alpha_list[i]))\n",
    "    print(model_list[i].coef_)\n",
    "    print(\"\\n\\n\")"
   ]
  },
  {
   "cell_type": "markdown",
   "metadata": {},
   "source": [
    "We see that increasing the alpha perameter greatly subdues the coefficients of the higher order terms and brings them down to the same order of magnitude of the lower power terms. We also see that (in this case) we need to make alpha really small before it even starts to look like the ordinary linear regression model."
   ]
  },
  {
   "cell_type": "code",
   "execution_count": 75,
   "metadata": {
    "collapsed": false
   },
   "outputs": [
    {
     "data": {
      "text/plain": [
       "[<matplotlib.lines.Line2D at 0x1cc42481d68>]"
      ]
     },
     "execution_count": 75,
     "metadata": {},
     "output_type": "execute_result"
    },
    {
     "data": {
      "image/png": "[encoded data removed]",
      "text/plain": [
       "<matplotlib.figure.Figure at 0x1cc4140f4a8>"
      ]
     },
     "metadata": {},
     "output_type": "display_data"
    }
   ],
   "source": [
    "plt.figure()\n",
    "plt.plot(xseries,yseries,\".\",color=\"blue\")\n",
    "plt.plot(xseries,ridge_prediction_list[0],\"-\",color=\"red\")\n",
    "plt.plot(xseries,ridge_prediction_list[1],\"-\",color=\"green\")\n",
    "plt.plot(xseries,ridge_prediction_list[2],\"-\",color=\"black\")"
   ]
  },
  {
   "cell_type": "markdown",
   "metadata": {},
   "source": [
    "## Optimizing Alpha via Cross Validation\n",
    "\n",
    "We may optimize alpha by splitting our data into three groups: training data, validation data, and test data. The test data is set aside at the start and is not used until we are finished optimizing our model.\n",
    "\n",
    "In order to optimize our model, we chose a particular alpha value and train our regression model with the training data, then test it on the validation set. We record a score of the model (possibly RSS). Then we repeat this process with a different alpha value, for as many alpha values as we wish. When we are done testing alphas, we select the alpha model that gave us the best score. Finally, we test our model with the chosen alpha on the test set.\n",
    "\n",
    "### k-fold Cross Validation\n",
    "If the data set is small, which is sometimes the case, splitting our data set into three groups (train, validation, and test) will decrease the size of our already small sets. We may not have the numbers to get accurate predictions. To remedy this, we use a method called k-fold cross validation. \n",
    "\n",
    "The first step is to separate a test set from the rest of the data. The rest of the data will be the train/validation set. Then we separate the train/valid data into k groups. We chose one of the groups to be the validation set and the other k-1 groups becomes our training data. We train our data, with a particular alpha value, on this training set and \"test\" it on the validation set to obtain a score (possibly RSS). Then, amongst the k groups defined earlier, we choose a different group as the validation set and use the other k-1 groups as the training data. We train our model and test it on the validation set to obtain a different score for that same alpha. We repeat this process for each of the k groups, obtaining a different score for each of them. Finally, we take the average of the score and associate it with that particular alpha value.\n",
    "\n",
    "We may repeat this process for many values of alpha, and try to determine the best value for alpha. Once we have made our choice, we may test our model with the chosen alpha on our test data.\n",
    "\n",
    "The final question is what should k be? The best number is k=N, where N is the number of our training points (This is called the leave-one-out method). However, the larger the number of k, the more computationally costly it will be. If our data set is small enough to want to use cross validation, but large enough to not want to set k=N, it is common practice to use k=5 or k=10.\n",
    "\n",
    "\n",
    "Since our data set is small, we should use the cross validation technique. In fact, it is small enough that we can use the leave-one-out method)."
   ]
  },
  {
   "cell_type": "markdown",
   "metadata": {},
   "source": [
    "#### RidgeCV\n",
    "We may use sklearn's efficient RidgeCV model. This model has a parameter alpha that can be set equal to an array of different alpha values to check. It also has a cv parameter that specifies the k fold value. The default value for cv is N (i.e. leave-one-out).\n",
    "\n",
    "To learn about the other parameters, check out the online documentation."
   ]
  },
  {
   "cell_type": "markdown",
   "metadata": {},
   "source": [
    "##### Leave-One-Out"
   ]
  },
  {
   "cell_type": "code",
   "execution_count": 200,
   "metadata": {
    "collapsed": false
   },
   "outputs": [],
   "source": [
    "#Since our data is ordered, we should randomize it first. But we must randomize the x and y pairs together, so, let us first\n",
    "#put our data into a data frame\n",
    "XY=polynomial_df(xseries,15)\n",
    "XY[\"y\"]=yseries\n",
    "\n",
    "#We can shuffle the data frame with the .sample() method. Setting the parameter frac equal to 1 specifies all rows\n",
    "XY=XY.sample(frac=1)"
   ]
  },
  {
   "cell_type": "code",
   "execution_count": 207,
   "metadata": {
    "collapsed": false
   },
   "outputs": [],
   "source": [
    "Xoptimum=XY[XY.columns[XY.columns!=\"y\"]]\n",
    "yoptimum=XY.y"
   ]
  },
  {
   "cell_type": "code",
   "execution_count": 208,
   "metadata": {
    "collapsed": true
   },
   "outputs": [],
   "source": [
    "#Import the RidgeCV class and the train_test_split\n",
    "from sklearn.linear_model import RidgeCV\n",
    "from sklearn.model_selection import train_test_split"
   ]
  },
  {
   "cell_type": "code",
   "execution_count": 209,
   "metadata": {
    "collapsed": true
   },
   "outputs": [],
   "source": [
    "#Split the data\n",
    "X_train,X_test,y_train,y_test=train_test_split(Xoptimum,yoptimum)"
   ]
  },
  {
   "cell_type": "code",
   "execution_count": 210,
   "metadata": {
    "collapsed": true
   },
   "outputs": [],
   "source": [
    "#Define a list of alphas\n",
    "my_alphas=[1e-10,1e-9,1e-8,1e-7,1e-6,1e-2,1,10,100]"
   ]
  },
  {
   "cell_type": "code",
   "execution_count": 235,
   "metadata": {
    "collapsed": false
   },
   "outputs": [],
   "source": [
    "#Instantiate and fit the object\n",
    "ridge_regressor=RidgeCV(alphas=my_alphas,store_cv_values=True).fit(X_train,y_train)"
   ]
  },
  {
   "cell_type": "code",
   "execution_count": 213,
   "metadata": {
    "collapsed": false
   },
   "outputs": [],
   "source": [
    "#We can use the cv_values_ attribute to retriev the mean squared error for each alpha value. This attribute returns a matrix\n",
    "#where the columns represent different alpha values and the rows represent the mean squared error for each fold\n",
    "error_df=pd.DataFrame(ridge_regressor.cv_values_,index=X_train.index,columns=[str(i) for i in my_alphas])"
   ]
  },
  {
   "cell_type": "code",
   "execution_count": 214,
   "metadata": {
    "collapsed": false
   },
   "outputs": [
    {
     "data": {
      "text/plain": [
       "1e-10    21.163290\n",
       "1e-09    23.411393\n",
       "1e-08    12.317552\n",
       "1e-07     4.632570\n",
       "1e-06     1.248126\n",
       "0.01      0.089336\n",
       "1         0.114568\n",
       "10        0.165617\n",
       "100       0.195386\n",
       "dtype: float64"
      ]
     },
     "execution_count": 214,
     "metadata": {},
     "output_type": "execute_result"
    }
   ],
   "source": [
    "error_df.mean()"
   ]
  },
  {
   "cell_type": "markdown",
   "metadata": {},
   "source": [
    "We see that alpha=0.01 has the minimum mean squared error. We will chose this value of alpha for our model. Let us see what our test error is and plot our function."
   ]
  },
  {
   "cell_type": "code",
   "execution_count": 215,
   "metadata": {
    "collapsed": false
   },
   "outputs": [],
   "source": [
    "ridge_optimum=Ridge(alpha=0.01).fit(X_train,y_train)"
   ]
  },
  {
   "cell_type": "code",
   "execution_count": 216,
   "metadata": {
    "collapsed": true
   },
   "outputs": [],
   "source": [
    "def rss(ytrue,ypredict):\n",
    "    return ((ytrue-ypredict)**2).sum()"
   ]
  },
  {
   "cell_type": "code",
   "execution_count": 218,
   "metadata": {
    "collapsed": false
   },
   "outputs": [
    {
     "data": {
      "text/plain": [
       "0.06423282056035998"
      ]
     },
     "execution_count": 218,
     "metadata": {},
     "output_type": "execute_result"
    }
   ],
   "source": [
    "mean_squared_error=rss(y_test,ridge_optimum.predict(X_test))/len(y_test)\n",
    "mean_squared_error"
   ]
  },
  {
   "cell_type": "code",
   "execution_count": 224,
   "metadata": {
    "collapsed": false
   },
   "outputs": [
    {
     "data": {
      "text/plain": [
       "[<matplotlib.lines.Line2D at 0x1cc413173c8>]"
      ]
     },
     "execution_count": 224,
     "metadata": {},
     "output_type": "execute_result"
    },
    {
     "data": {
      "image/png": "[encoded data removed]",
      "text/plain": [
       "<matplotlib.figure.Figure at 0x1cc4025e0f0>"
      ]
     },
     "metadata": {},
     "output_type": "display_data"
    }
   ],
   "source": [
    "plt.figure()\n",
    "plt.plot(xseries,yseries,\".\",color=\"blue\")\n",
    "plt.plot(xseries,ridge_optimum.predict(X_poly15),\"-\",color=\"red\")"
   ]
  },
  {
   "cell_type": "markdown",
   "metadata": {},
   "source": [
    "## Gradient Descent\n",
    "\n",
    "We now will develop, \"from scratch\", the ridge regression algorithm and model via gradient descent. We have decided to use the L2 norm squared to penalize high coefficient values (see notes for a discussion). Having chosen this norm, we still have two options for the cost function: penalize the intercept, or not. First we will do the gradient descent that penalizes the intercept. Afterwards, we will exclude the intercept from the penalty term."
   ]
  },
  {
   "cell_type": "markdown",
   "metadata": {},
   "source": [
    "### Intercept Penalty"
   ]
  },
  {
   "cell_type": "code",
   "execution_count": 375,
   "metadata": {
    "collapsed": true
   },
   "outputs": [],
   "source": [
    "#Define a function that accepts a dataframe slice as feature values and returns a numpy array. The first column of the \n",
    "#matrix should be all ones (this is for the constant term). The function should also take, as input, a list of feature\n",
    "#names. The output H matrix will have its columns in the same order they appear in the list.\n",
    "\n",
    "def H_generator(x_data,col_list):\n",
    "    #add the ones column\n",
    "    data=x_data.copy()\n",
    "    data[\"ones\"]=1\n",
    "    return np.array(data[[\"ones\",]+col_list])"
   ]
  },
  {
   "cell_type": "code",
   "execution_count": 376,
   "metadata": {
    "collapsed": true
   },
   "outputs": [],
   "source": [
    "#Define a function that takes an H matrix, a y vector, the L2 penalty, and a w vector (initial values) and \n",
    "#outputs the gradient matrix\n",
    "\n",
    "def gradient_generator(H,w,y,alpha):\n",
    "    return -2*np.dot(np.transpose(H),y-np.dot(H,w))+2*alpha*w"
   ]
  },
  {
   "cell_type": "code",
   "execution_count": 399,
   "metadata": {
    "collapsed": true
   },
   "outputs": [],
   "source": [
    "#Define a function called \"regressor\" that performs the gradient descent algorithm. As inputs, it should take an H matrix,\n",
    "#an initial w vector called w_not, a y vector, step size eta, convergence criterium epsilon, and max_iterations. \n",
    "#It should return the final w vector once it has converged or reached the max_iterations\n",
    "def regressor(H,w_not,y,eta,epsilon,max_iterations,alpha):\n",
    "    wn=w_not\n",
    "    j=0\n",
    "    while True:\n",
    "        j+=1\n",
    "        gradient=gradient_generator(H,wn,y,alpha)\n",
    "        gradient_length=np.sqrt(abs(np.dot(gradient,gradient)))\n",
    "        wn=wn-(eta*gradient)\n",
    "        if gradient_length<epsilon or j>max_iterations:\n",
    "            break\n",
    "    print(\"Coef: {}\\ny predict: {}\\niterations: {}\\ngradient_length: {}\".format(wn,np.dot(H,wn),j,gradient_length))\n",
    "    return(wn,np.dot(H,wn))"
   ]
  },
  {
   "cell_type": "code",
   "execution_count": 378,
   "metadata": {
    "collapsed": true
   },
   "outputs": [],
   "source": [
    "#Define the model that makes predictions\n",
    "def manual_predict(w,x_data,col_list):\n",
    "    H=H_generator(x_data,col_list)\n",
    "    return np.dot(H,w)"
   ]
  },
  {
   "cell_type": "code",
   "execution_count": 379,
   "metadata": {
    "collapsed": true
   },
   "outputs": [],
   "source": [
    "#Define a residual sum of squares function:\n",
    "def rss(y_true,y_prediction):\n",
    "    return ((y_true-y_prediction)**2).sum()"
   ]
  },
  {
   "cell_type": "markdown",
   "metadata": {},
   "source": [
    "Use the manually defined regressor to fit our data"
   ]
  },
  {
   "cell_type": "code",
   "execution_count": 387,
   "metadata": {
    "collapsed": false
   },
   "outputs": [],
   "source": [
    "column_list=list(X_poly15.columns)"
   ]
  },
  {
   "cell_type": "code",
   "execution_count": 388,
   "metadata": {
    "collapsed": false
   },
   "outputs": [],
   "source": [
    "Hmatrix=H_generator(X_poly15,column_list)"
   ]
  },
  {
   "cell_type": "code",
   "execution_count": 394,
   "metadata": {
    "collapsed": false
   },
   "outputs": [],
   "source": [
    "w_not=np.array([1,]*16)"
   ]
  },
  {
   "cell_type": "code",
   "execution_count": 403,
   "metadata": {
    "collapsed": false
   },
   "outputs": [
    {
     "name": "stdout",
     "output_type": "stream",
     "text": [
      "Coef: [ 0.55298145  0.35513543 -0.003893   -0.20031976 -0.28092298 -0.29990901\n",
      " -0.28916052 -0.2654276  -0.23720193 -0.20867089 -0.1817969  -0.1573946\n",
      " -0.13569215 -0.11662668 -0.10000074 -0.08556502]\n",
      "y predict: [ 0.5670181   0.56772176  0.57859968  0.60541631  0.6091053   0.6191145\n",
      "  0.63184016  0.6397475   0.66683775  0.67216117  0.67220263  0.6721547\n",
      "  0.67169455  0.67058876  0.65826006  0.64914156  0.6270394   0.61776996\n",
      "  0.60947555  0.59531556  0.5935215   0.52429772  0.29889127  0.22205585\n",
      "  0.13742731  0.02826427 -0.2123108  -0.24960576 -0.36108579 -0.55510915]\n",
      "iterations: 238\n",
      "gradient_length: 0.009941200056236478\n"
     ]
    }
   ],
   "source": [
    "ypredict_alpha1=regressor(Hmatrix,w_not,yseries,eta=0.01,epsilon=0.01,max_iterations=1000,alpha=1)[1]"
   ]
  },
  {
   "cell_type": "code",
   "execution_count": 441,
   "metadata": {
    "collapsed": false
   },
   "outputs": [
    {
     "data": {
      "text/plain": [
       "2.5457114980279214"
      ]
     },
     "execution_count": 441,
     "metadata": {},
     "output_type": "execute_result"
    }
   ],
   "source": [
    "#Find the RSS\n",
    "rss(yseries,ypredict_alpha1)"
   ]
  },
  {
   "cell_type": "code",
   "execution_count": 405,
   "metadata": {
    "collapsed": false
   },
   "outputs": [
    {
     "data": {
      "text/plain": [
       "[<matplotlib.lines.Line2D at 0x1cc42bc8f98>]"
      ]
     },
     "execution_count": 405,
     "metadata": {},
     "output_type": "execute_result"
    },
    {
     "data": {
      "image/png": "[encoded data removed]",
      "text/plain": [
       "<matplotlib.figure.Figure at 0x1cc42eaedd8>"
      ]
     },
     "metadata": {},
     "output_type": "display_data"
    }
   ],
   "source": [
    "plt.figure()\n",
    "plt.plot(xseries,yseries,\".\",color=\"blue\")\n",
    "plt.plot(xseries,ypredict_alpha1,\"-\",color=\"red\")"
   ]
  },
  {
   "cell_type": "markdown",
   "metadata": {},
   "source": [
    "Our curve looks remarkably similar to the one calculated with the sklearn ridge regressor. Note that the sklearn ridge regressor also includes the intercept in its calculations."
   ]
  },
  {
   "cell_type": "markdown",
   "metadata": {},
   "source": [
    "## Excluding the Intercept\n",
    "To exclude the intercept, we need to make a slight modification to the gradient, and then to the regressor that uses a particular gradient"
   ]
  },
  {
   "cell_type": "code",
   "execution_count": 434,
   "metadata": {
    "collapsed": true
   },
   "outputs": [],
   "source": [
    "def gradient_generator2(H,w,y,alpha,include_intercept):\n",
    "    if include_intercept:\n",
    "        imod=np.identity(len(w))\n",
    "        imod[0,0]=0\n",
    "        return_gradient=-2*np.dot(np.transpose(H),y-np.dot(H,w))+2*alpha*np.dot(imod,w)\n",
    "    else:\n",
    "        return_gradient=-2*np.dot(np.transpose(H),y-np.dot(H,w))+2*alpha*w\n",
    "    return return_gradient"
   ]
  },
  {
   "cell_type": "code",
   "execution_count": 435,
   "metadata": {
    "collapsed": true
   },
   "outputs": [],
   "source": [
    "def regressor2(H,w_not,y,eta,epsilon,max_iterations,alpha,include_intercept=False):\n",
    "    wn=w_not\n",
    "    j=0\n",
    "    while True:\n",
    "        j+=1\n",
    "        gradient=gradient_generator2(H,wn,y,alpha,include_intercept)\n",
    "        gradient_length=np.sqrt(abs(np.dot(gradient,gradient)))\n",
    "        wn=wn-(eta*gradient)\n",
    "        if gradient_length<epsilon or j>max_iterations:\n",
    "            break\n",
    "    print(\"Coef: {}\\ny predict: {}\\niterations: {}\\ngradient_length: {}\".format(wn,np.dot(H,wn),j,gradient_length))\n",
    "    return(wn,np.dot(H,wn))"
   ]
  },
  {
   "cell_type": "code",
   "execution_count": 436,
   "metadata": {
    "collapsed": true
   },
   "outputs": [],
   "source": [
    "column_list=list(X_poly15.columns)"
   ]
  },
  {
   "cell_type": "code",
   "execution_count": 437,
   "metadata": {
    "collapsed": false
   },
   "outputs": [],
   "source": [
    "Hmatrix=H_generator(X_poly15,column_list)"
   ]
  },
  {
   "cell_type": "code",
   "execution_count": 438,
   "metadata": {
    "collapsed": true
   },
   "outputs": [],
   "source": [
    "w_not=np.array([1,]*16)"
   ]
  },
  {
   "cell_type": "code",
   "execution_count": 448,
   "metadata": {
    "collapsed": false
   },
   "outputs": [
    {
     "name": "stdout",
     "output_type": "stream",
     "text": [
      "Coef: [ 0.62223106  0.25552387 -0.02411094 -0.19877413 -0.2726144  -0.28990472\n",
      " -0.27935626 -0.25651678 -0.2293827  -0.20193414 -0.17605162 -0.15252385\n",
      " -0.13157778 -0.11315953 -0.0970842  -0.08311547]\n",
      "y predict: [ 0.63229363  0.63279591  0.64052899  0.65924912  0.66177133  0.66852348\n",
      "  0.67685352  0.68182312  0.69568144  0.69522475  0.69108414  0.69093504\n",
      "  0.68968955  0.68730073  0.66899314  0.65752146  0.63164335  0.62121094\n",
      "  0.61200677  0.59651085  0.59456374  0.52117352  0.29148269  0.21449652\n",
      "  0.13009762  0.02167703 -0.21607888 -0.25283128 -0.36256216 -0.55317054]\n",
      "iterations: 239\n",
      "gradient_length: 0.009967774712776923\n"
     ]
    }
   ],
   "source": [
    "y2predict_alpha1=regressor2(Hmatrix,w_not,yseries,eta=0.01,epsilon=0.01,max_iterations=1000,alpha=1,\n",
    "                           include_intercept=True)[1]"
   ]
  },
  {
   "cell_type": "code",
   "execution_count": 449,
   "metadata": {
    "collapsed": false
   },
   "outputs": [
    {
     "data": {
      "text/plain": [
       "2.601589843148389"
      ]
     },
     "execution_count": 449,
     "metadata": {},
     "output_type": "execute_result"
    }
   ],
   "source": [
    "#Find the RSS\n",
    "rss(yseries,y2predict_alpha1)"
   ]
  },
  {
   "cell_type": "code",
   "execution_count": 450,
   "metadata": {
    "collapsed": false
   },
   "outputs": [
    {
     "data": {
      "text/plain": [
       "[<matplotlib.lines.Line2D at 0x1cc43073908>]"
      ]
     },
     "execution_count": 450,
     "metadata": {},
     "output_type": "execute_result"
    },
    {
     "data": {
      "image/png": "[encoded data removed]",
      "text/plain": [
       "<matplotlib.figure.Figure at 0x1cc43082d68>"
      ]
     },
     "metadata": {},
     "output_type": "display_data"
    }
   ],
   "source": [
    "plt.figure()\n",
    "plt.plot(xseries,yseries,\".\",color=\"blue\")\n",
    "plt.plot(xseries,y2predict_alpha1,\"-\",color=\"red\")"
   ]
  },
  {
   "cell_type": "markdown",
   "metadata": {},
   "source": [
    "We see that our intercept has been modified only slightly. Unfortunately, the rss is slightly higher"
   ]
  },
  {
   "cell_type": "code",
   "execution_count": null,
   "metadata": {
    "collapsed": true
   },
   "outputs": [],
   "source": []
  }
 ],
 "metadata": {
  "anaconda-cloud": {},
  "kernelspec": {
   "display_name": "Python [conda root]",
   "language": "python",
   "name": "conda-root-py"
  },
  "language_info": {
   "codemirror_mode": {
    "name": "ipython",
    "version": 3
   },
   "file_extension": ".py",
   "mimetype": "text/x-python",
   "name": "python",
   "nbconvert_exporter": "python",
   "pygments_lexer": "ipython3",
   "version": "3.5.2"
  }
 },
 "nbformat": 4,
 "nbformat_minor": 1
}
