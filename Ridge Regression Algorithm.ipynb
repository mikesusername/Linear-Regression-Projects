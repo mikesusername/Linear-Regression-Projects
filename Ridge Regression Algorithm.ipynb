{
 "cells": [
  {
   "cell_type": "markdown",
   "metadata": {},
   "source": [
    "# Linear Regression Assignment 4b:\n",
    "## Ridge Regression Manual Algorithm (With or Without Intercept Penalty)\n",
    "\n",
    "We will write a function that performs a gradient descent. The basic premise is simple. Given a starting point we update the current weights by moving in the negative gradient direction. Recall that the gradient is the direction of increase and therefore the negative gradient is the direction of decrease and we're trying to minimize a cost function.\n",
    "\n",
    "The amount by which we move in the negative gradient direction is called the ‘step size’. We stop when we are ‘sufficiently close’ to the optimum. Unlike in Module 2, this time we will set a maximum number of iterations and take gradient steps until we reach this maximum number. If no maximum number is supplied, the maximum should be set 100 by default. (Use default parameter values in Python.)\n",
    "\n",
    "With this in mind, write a gradient descent function using your derivative function above. For each step in the gradient descent, we update the weight for each feature before computing our stopping criteria. The function will take the following parameters:\n",
    "\n",
    "2D feature matrix\n",
    "\n",
    "array of output values\n",
    "\n",
    "initial weights\n",
    "\n",
    "step size\n",
    "\n",
    "L2 penalty\n",
    "\n",
    "maximum number of iterations"
   ]
  },
  {
   "cell_type": "code",
   "execution_count": 1,
   "metadata": {
    "collapsed": true
   },
   "outputs": [],
   "source": [
    "import pandas as pd\n",
    "import numpy as np\n",
    "from sklearn.linear_model import LinearRegression\n",
    "import matplotlib\n",
    "import matplotlib.pyplot as plt\n",
    "%matplotlib inline"
   ]
  },
  {
   "cell_type": "code",
   "execution_count": 132,
   "metadata": {
    "collapsed": true
   },
   "outputs": [],
   "source": [
    "dtype_dict = {'bathrooms':float, 'waterfront':int, 'sqft_above':int, 'sqft_living15':float, 'grade':int,\n",
    "              'yr_renovated':int, 'price':float, 'bedrooms':float, 'zipcode':str, 'long':float, 'sqft_lot15':float,\n",
    "              'sqft_living':float, 'floors':str, 'condition':int, 'lat':float, 'date':str, 'sqft_basement':int,\n",
    "              'yr_built':int, 'id':str, 'sqft_lot':int, 'view':int}\n",
    "house_df=pd.read_csv(\"kc_house_data.csv\",dtype=dtype_dict)\n",
    "train_df=pd.read_csv(\"kc_house_train_data.csv\",dtype=dtype_dict)\n",
    "test_df=pd.read_csv(\"kc_house_test_data.csv\",dtype=dtype_dict)"
   ]
  },
  {
   "cell_type": "code",
   "execution_count": 163,
   "metadata": {
    "collapsed": true
   },
   "outputs": [],
   "source": [
    "#Define a function that accepts a dataframe slice as feature values and returns a numpy array. The first column of the \n",
    "#matrix should be all ones (this is for the constant term). The function should also take, as input, a list of feature\n",
    "#names. The output H matrix will have its columns in the same order they appear in the list.\n",
    "\n",
    "def H_generator(x_data,col_list):\n",
    "    #add the ones column\n",
    "    data=x_data.copy()\n",
    "    data[\"ones\"]=1\n",
    "    return np.array(data[[\"ones\",]+col_list])"
   ]
  },
  {
   "cell_type": "code",
   "execution_count": 164,
   "metadata": {
    "collapsed": true
   },
   "outputs": [],
   "source": [
    "#Define a function that takes an H matrix, a y vector, the L2 penalty, and a w vector (initial values) and \n",
    "#outputs the gradient matrix. The gradient matrix outputted will depend on whether the intercept should be\n",
    "#included in the w penalty, thus we have one more parameter \"exclude_intercept\" which should have bool values\n",
    "\n",
    "def gradient_generator2(H,w,y,alpha,exclude_intercept):\n",
    "    if exclude_intercept:\n",
    "        imod=np.identity(len(w))\n",
    "        imod[0,0]=0\n",
    "        return_gradient=-2*np.dot(np.transpose(H),y-np.dot(H,w))+2*alpha*np.dot(imod,w)\n",
    "    else:\n",
    "        return_gradient=-2*np.dot(np.transpose(H),y-np.dot(H,w))+2*alpha*w\n",
    "    return return_gradient"
   ]
  },
  {
   "cell_type": "code",
   "execution_count": 165,
   "metadata": {
    "collapsed": true
   },
   "outputs": [],
   "source": [
    "#Define a function called \"regressor\" that performs the gradient descent algorithm. As inputs, it should take an H matrix,\n",
    "#an initial w vector called w_not, a y vector, step size eta, convergence criterium epsilon, max_iterations,\n",
    "#and include_intercept, which has a default value of false. \n",
    "#It should return the final w vector once it has converged or reached the max_iterations\n",
    "\n",
    "def regressor2(H,w_not,y,eta,epsilon,max_iterations,alpha,exclude_intercept=True):\n",
    "    wn=w_not\n",
    "    j=0\n",
    "    while True:\n",
    "        j+=1\n",
    "        gradient=gradient_generator2(H,wn,y,alpha,exclude_intercept)\n",
    "        gradient_length=np.sqrt(abs(np.dot(gradient,gradient)))\n",
    "        wn=wn-(eta*gradient)\n",
    "        if gradient_length<epsilon or j>max_iterations:\n",
    "            break\n",
    "    print(\"Coef: {}\\ny predict: {}\\niterations: {}\\ngradient_length: {}\".format(wn,np.dot(H,wn),j,gradient_length))\n",
    "    return(wn,np.dot(H,wn))"
   ]
  },
  {
   "cell_type": "code",
   "execution_count": 166,
   "metadata": {
    "collapsed": true
   },
   "outputs": [],
   "source": [
    "#Define a residual sum of squares function:\n",
    "def rss(y_true,y_prediction):\n",
    "    return ((y_true-y_prediction)**2).sum()"
   ]
  },
  {
   "cell_type": "code",
   "execution_count": 167,
   "metadata": {
    "collapsed": true
   },
   "outputs": [],
   "source": [
    "#Define the model that makes predictions\n",
    "def manual_predict(w,x_data,col_list):\n",
    "    H=H_generator(x_data,col_list)\n",
    "    return np.dot(H,w)"
   ]
  },
  {
   "cell_type": "markdown",
   "metadata": {},
   "source": [
    "## Task 1\n",
    "\n",
    "First, let’s consider no regularization. Set the L2 penalty to 0.0 and run your ridge regression algorithm to learn the weights of the simple model, that uses sqt_living as the x value and price as the y. Use the following parameters:\n",
    "\n",
    "step_size = 1e-12\n",
    "\n",
    "max_iterations = 1000\n",
    "\n",
    "initial_weights = all zeros"
   ]
  },
  {
   "cell_type": "code",
   "execution_count": 168,
   "metadata": {
    "collapsed": true
   },
   "outputs": [],
   "source": [
    "X1_train=train_df[[\"sqft_living\",]]\n",
    "y1_train=train_df.price"
   ]
  },
  {
   "cell_type": "code",
   "execution_count": 169,
   "metadata": {
    "collapsed": true
   },
   "outputs": [],
   "source": [
    "w_not=np.array([0,0])"
   ]
  },
  {
   "cell_type": "code",
   "execution_count": 170,
   "metadata": {
    "collapsed": false
   },
   "outputs": [],
   "source": [
    "H1=H_generator(X1_train,[\"sqft_living\",])"
   ]
  },
  {
   "cell_type": "code",
   "execution_count": 171,
   "metadata": {
    "collapsed": false
   },
   "outputs": [
    {
     "name": "stdout",
     "output_type": "stream",
     "text": [
      "Coef: [ -1.63382329e-01   2.63024369e+02]\n",
      "y predict: [ 310368.5921243   675972.46513634  202528.6008042  ...,  402427.12129999\n",
      "  420838.82713513  268284.69307255]\n",
      "iterations: 1001\n",
      "gradient_length: 268814314.77064294\n"
     ]
    }
   ],
   "source": [
    "weights_and_y1=regressor2(H1,w_not,y1_train,1e-12,0.01,1000,0,exclude_intercept=True)"
   ]
  },
  {
   "cell_type": "code",
   "execution_count": 172,
   "metadata": {
    "collapsed": true
   },
   "outputs": [],
   "source": [
    "simple_weights_0_penalty=weights_and_y1[0]\n",
    "ypredict1=weights_and_y1[1]"
   ]
  },
  {
   "cell_type": "markdown",
   "metadata": {},
   "source": [
    "## Task 2\n",
    "\n",
    "Next, let’s consider high regularization. Set the L2 penalty to 1e11 and run your ridge regression to learn the weights of the simple model. Use the same parameters as above. "
   ]
  },
  {
   "cell_type": "code",
   "execution_count": 173,
   "metadata": {
    "collapsed": false
   },
   "outputs": [
    {
     "name": "stdout",
     "output_type": "stream",
     "text": [
      "Coef: [   9.77704731  124.57217382]\n",
      "y predict: [ 147004.94215446  320160.26376373   95930.35088842 ...,  190605.20299133\n",
      "  199325.2551587   127073.39434332]\n",
      "iterations: 1001\n",
      "gradient_length: 9743490855.83395\n"
     ]
    }
   ],
   "source": [
    "weights_and_y2=regressor2(H1,w_not,y1_train,1e-12,0.01,1000,1e11,exclude_intercept=True)"
   ]
  },
  {
   "cell_type": "code",
   "execution_count": 174,
   "metadata": {
    "collapsed": true
   },
   "outputs": [],
   "source": [
    "simple_weights_high_penalty=weights_and_y2[0]\n",
    "ypredict2=weights_and_y2[1]"
   ]
  },
  {
   "cell_type": "code",
   "execution_count": 175,
   "metadata": {
    "collapsed": false
   },
   "outputs": [
    {
     "data": {
      "text/plain": [
       "[<matplotlib.lines.Line2D at 0x1ac818179b0>]"
      ]
     },
     "execution_count": 175,
     "metadata": {},
     "output_type": "execute_result"
    },
    {
     "data": {
      "image/png": "[encoded data removed]",
      "text/plain": [
       "<matplotlib.figure.Figure at 0x1ac81bbb048>"
      ]
     },
     "metadata": {},
     "output_type": "display_data"
    }
   ],
   "source": [
    "#graph\n",
    "plt.figure()\n",
    "plt.plot(train_df.sqft_living,y1_train,\".\",color=\"blue\")\n",
    "plt.plot(train_df.sqft_living,ypredict1,\"-\",color=\"red\")\n",
    "plt.plot(train_df.sqft_living,ypredict2,\"-\",color=\"black\")"
   ]
  },
  {
   "cell_type": "markdown",
   "metadata": {},
   "source": [
    "## Task 3\n",
    "Compute the RSS on the TEST data for the following three sets of weights:\n",
    "\n",
    "The initial weights (all zeros)\n",
    "\n",
    "The weights learned with no regularization\n",
    "\n",
    "The weights learned with high regularization"
   ]
  },
  {
   "cell_type": "code",
   "execution_count": 176,
   "metadata": {
    "collapsed": true
   },
   "outputs": [],
   "source": [
    "y_test=test_df.price"
   ]
  },
  {
   "cell_type": "code",
   "execution_count": 177,
   "metadata": {
    "collapsed": false
   },
   "outputs": [
    {
     "data": {
      "text/plain": [
       "1784273286136298.0"
      ]
     },
     "execution_count": 177,
     "metadata": {},
     "output_type": "execute_result"
    }
   ],
   "source": [
    "#Initial weights 0, rss\n",
    "rss(y_test,pd.Series([0,]*len(y_test)))"
   ]
  },
  {
   "cell_type": "code",
   "execution_count": null,
   "metadata": {
    "collapsed": false
   },
   "outputs": [],
   "source": []
  },
  {
   "cell_type": "code",
   "execution_count": 178,
   "metadata": {
    "collapsed": false
   },
   "outputs": [],
   "source": [
    "#No regularization\n",
    "y1predict_test=manual_predict(simple_weights_0_penalty,test_df[[\"sqft_living\",]],[\"sqft_living\",])"
   ]
  },
  {
   "cell_type": "code",
   "execution_count": 179,
   "metadata": {
    "collapsed": false
   },
   "outputs": [
    {
     "data": {
      "text/plain": [
       "275723632143243.2"
      ]
     },
     "execution_count": 179,
     "metadata": {},
     "output_type": "execute_result"
    }
   ],
   "source": [
    "rss(y_test,y1predict_test)"
   ]
  },
  {
   "cell_type": "code",
   "execution_count": 180,
   "metadata": {
    "collapsed": true
   },
   "outputs": [],
   "source": [
    "#High Regularization\n",
    "y2predict_test=manual_predict(simple_weights_high_penalty,test_df[[\"sqft_living\",]],[\"sqft_living\",])"
   ]
  },
  {
   "cell_type": "code",
   "execution_count": 181,
   "metadata": {
    "collapsed": false
   },
   "outputs": [
    {
     "data": {
      "text/plain": [
       "694642089280228.2"
      ]
     },
     "execution_count": 181,
     "metadata": {},
     "output_type": "execute_result"
    }
   ],
   "source": [
    "rss(y_test,y2predict_test)"
   ]
  },
  {
   "cell_type": "markdown",
   "metadata": {},
   "source": [
    "## Task 4\n",
    "\n",
    "Let's now consider two features: sqft_living and sqft_living15"
   ]
  },
  {
   "cell_type": "code",
   "execution_count": 182,
   "metadata": {
    "collapsed": true
   },
   "outputs": [],
   "source": [
    "X2_train=train_df[[\"sqft_living\",\"sqft_living15\"]]\n",
    "y2_train=train_df.price\n",
    "w_not2=[0,0,0]"
   ]
  },
  {
   "cell_type": "code",
   "execution_count": 183,
   "metadata": {
    "collapsed": true
   },
   "outputs": [],
   "source": [
    "H2=H_generator(X2_train,[\"sqft_living\",\"sqft_living15\"])"
   ]
  },
  {
   "cell_type": "code",
   "execution_count": 184,
   "metadata": {
    "collapsed": false
   },
   "outputs": [
    {
     "name": "stdout",
     "output_type": "stream",
     "text": [
      "Coef: [  -0.35780714  243.05572642   22.41312485]\n",
      "y predict: [ 316838.98667299  662531.04009971  248116.2511335  ...,  406166.98464294\n",
      "  420491.31051049  270777.87049291]\n",
      "iterations: 1001\n",
      "gradient_length: 2327689477.2592955\n"
     ]
    }
   ],
   "source": [
    "#0 L2 penalty\n",
    "weights_and_y3=regressor2(H2,w_not2,y2_train,1e-12,0.01,1000,0,exclude_intercept=True)"
   ]
  },
  {
   "cell_type": "code",
   "execution_count": 185,
   "metadata": {
    "collapsed": true
   },
   "outputs": [],
   "source": [
    "multiple_weights_0_penalty=weights_and_y3[0]\n",
    "ypredict_multiple1=weights_and_y3[1]"
   ]
  },
  {
   "cell_type": "code",
   "execution_count": 186,
   "metadata": {
    "collapsed": false
   },
   "outputs": [
    {
     "name": "stdout",
     "output_type": "stream",
     "text": [
      "Coef: [  6.74968592  91.48927275  78.43658676]\n",
      "y predict: [ 213069.11778602  367692.01227385  283801.00568364 ...,  259993.31473248\n",
      "  256985.17341411  173331.12638363]\n",
      "iterations: 1001\n",
      "gradient_length: 6720126930.003998\n"
     ]
    }
   ],
   "source": [
    "#High L2 Penalty\n",
    "weights_and_y4=regressor2(H2,w_not2,y2_train,1e-12,0.01,1000,1e11,exclude_intercept=True)"
   ]
  },
  {
   "cell_type": "code",
   "execution_count": 187,
   "metadata": {
    "collapsed": true
   },
   "outputs": [],
   "source": [
    "multiple_weights_high_penalty=weights_and_y4[0]\n",
    "ypredict_multiple2=weights_and_y4[1]"
   ]
  },
  {
   "cell_type": "markdown",
   "metadata": {},
   "source": [
    "## Task 5\n",
    "\n",
    "Compute the RSS on the TEST data for the following three sets of weights:\n",
    "\n",
    "The initial weights (all zeros)\n",
    "\n",
    "The weights learned with no regularization\n",
    "\n",
    "The weights learned with high regularization"
   ]
  },
  {
   "cell_type": "code",
   "execution_count": 188,
   "metadata": {
    "collapsed": false
   },
   "outputs": [
    {
     "data": {
      "text/plain": [
       "1784273286136298.0"
      ]
     },
     "execution_count": 188,
     "metadata": {},
     "output_type": "execute_result"
    }
   ],
   "source": [
    "#Initial weights 0, rss\n",
    "rss(y_test,pd.Series([0,]*len(y_test)))"
   ]
  },
  {
   "cell_type": "code",
   "execution_count": 189,
   "metadata": {
    "collapsed": false
   },
   "outputs": [],
   "source": [
    "#No regularization\n",
    "y2predict_test=manual_predict(multiple_weights_0_penalty,test_df[[\"sqft_living\",\"sqft_living15\"]],\n",
    "                              [\"sqft_living\",\"sqft_living15\"])"
   ]
  },
  {
   "cell_type": "code",
   "execution_count": 190,
   "metadata": {
    "collapsed": false
   },
   "outputs": [
    {
     "data": {
      "text/plain": [
       "274067691978515.38"
      ]
     },
     "execution_count": 190,
     "metadata": {},
     "output_type": "execute_result"
    }
   ],
   "source": [
    "rss(y_test,y2predict_test)"
   ]
  },
  {
   "cell_type": "code",
   "execution_count": 191,
   "metadata": {
    "collapsed": true
   },
   "outputs": [],
   "source": [
    "#High regularaization\n",
    "y3predict_test=manual_predict(multiple_weights_high_penalty,test_df[[\"sqft_living\",\"sqft_living15\"]],\n",
    "                              [\"sqft_living\",\"sqft_living15\"])"
   ]
  },
  {
   "cell_type": "code",
   "execution_count": 192,
   "metadata": {
    "collapsed": false
   },
   "outputs": [
    {
     "data": {
      "text/plain": [
       "500404796779316.06"
      ]
     },
     "execution_count": 192,
     "metadata": {},
     "output_type": "execute_result"
    }
   ],
   "source": [
    "rss(y_test,y3predict_test)"
   ]
  },
  {
   "cell_type": "markdown",
   "metadata": {},
   "source": [
    "## Task 6\n",
    "\n",
    "Predict the house price for the 1st house in the test set using the no regularization and high regularization models"
   ]
  },
  {
   "cell_type": "code",
   "execution_count": 193,
   "metadata": {
    "collapsed": false
   },
   "outputs": [
    {
     "name": "stdout",
     "output_type": "stream",
     "text": [
      "No reg first house: 316838.9866729859\n",
      "High reg frist house: 213069.11778601957\n"
     ]
    }
   ],
   "source": [
    "print(\"No reg first house: {}\\nHigh reg frist house: {}\".format(ypredict_multiple1[0],ypredict_multiple2[0]))\n"
   ]
  },
  {
   "cell_type": "markdown",
   "metadata": {},
   "source": [
    "What's the error in predicting the price of the first house in the test set using the weights learned with no regularization? What about with high regularization?"
   ]
  },
  {
   "cell_type": "code",
   "execution_count": 194,
   "metadata": {
    "collapsed": false
   },
   "outputs": [
    {
     "name": "stdout",
     "output_type": "stream",
     "text": [
      "No reg error: -6838.986672985891\n",
      "High reg error: 96930.88221398043\n"
     ]
    }
   ],
   "source": [
    "print(\"No reg error: {}\\nHigh reg error: {}\".format(y_test[0]-ypredict_multiple1[0],\n",
    "                                                   y_test[0]-ypredict_multiple2[0]))"
   ]
  },
  {
   "cell_type": "code",
   "execution_count": 195,
   "metadata": {
    "collapsed": true
   },
   "outputs": [],
   "source": [
    "def regressor2(H,w_not,y,eta,epsilon,max_iterations,alpha):\n",
    "    w_0_n=w_not[0]\n",
    "    w_rest_n=w_not[1:]\n",
    "    j=0\n",
    "    while True:\n",
    "        j+=1\n",
    "        partial_rest=-2*np.dot(np.transpose(H),y-np.dot(H,w))+2*alpha*w\n",
    "        partial_zero=-2*np.dot(np.transpose(H),y-np.dot(H,w))\n",
    "        \n",
    "        w_0_n=w_0_n-(eta*(-2*np.dot(np.transpose(H),y-np.dot(H,w_))))\n",
    "        wn=wn-(eta*gradient)\n",
    "        if j>max_iterations:\n",
    "            break\n",
    "    print(\"Coef: {}\\ny predict: {}\\niterations: {}\\ngradient_length: {}\".format(wn,np.dot(H,wn),j,gradient_length))\n",
    "    return(wn,np.dot(H,wn))"
   ]
  },
  {
   "cell_type": "code",
   "execution_count": 196,
   "metadata": {
    "collapsed": false
   },
   "outputs": [],
   "source": [
    "w_not_test=np.array([0,2,3,4,5])"
   ]
  },
  {
   "cell_type": "code",
   "execution_count": 96,
   "metadata": {
    "collapsed": false
   },
   "outputs": [
    {
     "data": {
      "text/plain": [
       "array([ 0,  4,  6,  8, 10])"
      ]
     },
     "execution_count": 96,
     "metadata": {},
     "output_type": "execute_result"
    }
   ],
   "source": [
    "2*w_not_test"
   ]
  },
  {
   "cell_type": "code",
   "execution_count": 93,
   "metadata": {
    "collapsed": false
   },
   "outputs": [
    {
     "data": {
      "text/plain": [
       "array([2, 3, 4, 5])"
      ]
     },
     "execution_count": 93,
     "metadata": {},
     "output_type": "execute_result"
    }
   ],
   "source": [
    "w_not_test[1:]"
   ]
  },
  {
   "cell_type": "code",
   "execution_count": 125,
   "metadata": {
    "collapsed": false
   },
   "outputs": [
    {
     "data": {
      "text/plain": [
       "9761"
      ]
     },
     "execution_count": 125,
     "metadata": {},
     "output_type": "execute_result"
    }
   ],
   "source": [
    "len(train_df)"
   ]
  },
  {
   "cell_type": "code",
   "execution_count": 126,
   "metadata": {
    "collapsed": false
   },
   "outputs": [
    {
     "data": {
      "text/html": [
       "<div>\n",
       "<style>\n",
       "    .dataframe thead tr:only-child th {\n",
       "        text-align: right;\n",
       "    }\n",
       "\n",
       "    .dataframe thead th {\n",
       "        text-align: left;\n",
       "    }\n",
       "\n",
       "    .dataframe tbody tr th {\n",
       "        vertical-align: top;\n",
       "    }\n",
       "</style>\n",
       "<table border=\"1\" class=\"dataframe\">\n",
       "  <thead>\n",
       "    <tr style=\"text-align: right;\">\n",
       "      <th></th>\n",
       "      <th>id</th>\n",
       "      <th>date</th>\n",
       "      <th>price</th>\n",
       "      <th>bedrooms</th>\n",
       "      <th>bathrooms</th>\n",
       "      <th>sqft_living</th>\n",
       "      <th>sqft_lot</th>\n",
       "      <th>floors</th>\n",
       "      <th>waterfront</th>\n",
       "      <th>view</th>\n",
       "      <th>...</th>\n",
       "      <th>grade</th>\n",
       "      <th>sqft_above</th>\n",
       "      <th>sqft_basement</th>\n",
       "      <th>yr_built</th>\n",
       "      <th>yr_renovated</th>\n",
       "      <th>zipcode</th>\n",
       "      <th>lat</th>\n",
       "      <th>long</th>\n",
       "      <th>sqft_living15</th>\n",
       "      <th>sqft_lot15</th>\n",
       "    </tr>\n",
       "  </thead>\n",
       "  <tbody>\n",
       "    <tr>\n",
       "      <th>12777</th>\n",
       "      <td>1225069038</td>\n",
       "      <td>20140505T000000</td>\n",
       "      <td>2280000.0</td>\n",
       "      <td>7.0</td>\n",
       "      <td>8.00</td>\n",
       "      <td>13540.0</td>\n",
       "      <td>307752</td>\n",
       "      <td>3</td>\n",
       "      <td>0</td>\n",
       "      <td>4</td>\n",
       "      <td>...</td>\n",
       "      <td>12</td>\n",
       "      <td>9410</td>\n",
       "      <td>4130</td>\n",
       "      <td>1999</td>\n",
       "      <td>0</td>\n",
       "      <td>98053</td>\n",
       "      <td>47.6675</td>\n",
       "      <td>-121.986</td>\n",
       "      <td>4850.0</td>\n",
       "      <td>217800.0</td>\n",
       "    </tr>\n",
       "    <tr>\n",
       "      <th>7252</th>\n",
       "      <td>6762700020</td>\n",
       "      <td>20141013T000000</td>\n",
       "      <td>7700000.0</td>\n",
       "      <td>6.0</td>\n",
       "      <td>8.00</td>\n",
       "      <td>12050.0</td>\n",
       "      <td>27600</td>\n",
       "      <td>2.5</td>\n",
       "      <td>0</td>\n",
       "      <td>3</td>\n",
       "      <td>...</td>\n",
       "      <td>13</td>\n",
       "      <td>8570</td>\n",
       "      <td>3480</td>\n",
       "      <td>1910</td>\n",
       "      <td>1987</td>\n",
       "      <td>98102</td>\n",
       "      <td>47.6298</td>\n",
       "      <td>-122.323</td>\n",
       "      <td>3940.0</td>\n",
       "      <td>8800.0</td>\n",
       "    </tr>\n",
       "    <tr>\n",
       "      <th>3914</th>\n",
       "      <td>9808700762</td>\n",
       "      <td>20140611T000000</td>\n",
       "      <td>7062500.0</td>\n",
       "      <td>5.0</td>\n",
       "      <td>4.50</td>\n",
       "      <td>10040.0</td>\n",
       "      <td>37325</td>\n",
       "      <td>2</td>\n",
       "      <td>1</td>\n",
       "      <td>2</td>\n",
       "      <td>...</td>\n",
       "      <td>11</td>\n",
       "      <td>7680</td>\n",
       "      <td>2360</td>\n",
       "      <td>1940</td>\n",
       "      <td>2001</td>\n",
       "      <td>98004</td>\n",
       "      <td>47.6500</td>\n",
       "      <td>-122.214</td>\n",
       "      <td>3930.0</td>\n",
       "      <td>25449.0</td>\n",
       "    </tr>\n",
       "    <tr>\n",
       "      <th>9254</th>\n",
       "      <td>9208900037</td>\n",
       "      <td>20140919T000000</td>\n",
       "      <td>6885000.0</td>\n",
       "      <td>6.0</td>\n",
       "      <td>7.75</td>\n",
       "      <td>9890.0</td>\n",
       "      <td>31374</td>\n",
       "      <td>2</td>\n",
       "      <td>0</td>\n",
       "      <td>4</td>\n",
       "      <td>...</td>\n",
       "      <td>13</td>\n",
       "      <td>8860</td>\n",
       "      <td>1030</td>\n",
       "      <td>2001</td>\n",
       "      <td>0</td>\n",
       "      <td>98039</td>\n",
       "      <td>47.6305</td>\n",
       "      <td>-122.240</td>\n",
       "      <td>4540.0</td>\n",
       "      <td>42730.0</td>\n",
       "    </tr>\n",
       "    <tr>\n",
       "      <th>8092</th>\n",
       "      <td>1924059029</td>\n",
       "      <td>20140617T000000</td>\n",
       "      <td>4668000.0</td>\n",
       "      <td>5.0</td>\n",
       "      <td>6.75</td>\n",
       "      <td>9640.0</td>\n",
       "      <td>13068</td>\n",
       "      <td>1</td>\n",
       "      <td>1</td>\n",
       "      <td>4</td>\n",
       "      <td>...</td>\n",
       "      <td>12</td>\n",
       "      <td>4820</td>\n",
       "      <td>4820</td>\n",
       "      <td>1983</td>\n",
       "      <td>2009</td>\n",
       "      <td>98040</td>\n",
       "      <td>47.5570</td>\n",
       "      <td>-122.210</td>\n",
       "      <td>3270.0</td>\n",
       "      <td>10454.0</td>\n",
       "    </tr>\n",
       "  </tbody>\n",
       "</table>\n",
       "<p>5 rows × 21 columns</p>\n",
       "</div>"
      ],
      "text/plain": [
       "               id             date      price  bedrooms  bathrooms  \\\n",
       "12777  1225069038  20140505T000000  2280000.0       7.0       8.00   \n",
       "7252   6762700020  20141013T000000  7700000.0       6.0       8.00   \n",
       "3914   9808700762  20140611T000000  7062500.0       5.0       4.50   \n",
       "9254   9208900037  20140919T000000  6885000.0       6.0       7.75   \n",
       "8092   1924059029  20140617T000000  4668000.0       5.0       6.75   \n",
       "\n",
       "       sqft_living  sqft_lot floors  waterfront  view     ...      grade  \\\n",
       "12777      13540.0    307752      3           0     4     ...         12   \n",
       "7252       12050.0     27600    2.5           0     3     ...         13   \n",
       "3914       10040.0     37325      2           1     2     ...         11   \n",
       "9254        9890.0     31374      2           0     4     ...         13   \n",
       "8092        9640.0     13068      1           1     4     ...         12   \n",
       "\n",
       "       sqft_above  sqft_basement  yr_built  yr_renovated  zipcode      lat  \\\n",
       "12777        9410           4130      1999             0    98053  47.6675   \n",
       "7252         8570           3480      1910          1987    98102  47.6298   \n",
       "3914         7680           2360      1940          2001    98004  47.6500   \n",
       "9254         8860           1030      2001             0    98039  47.6305   \n",
       "8092         4820           4820      1983          2009    98040  47.5570   \n",
       "\n",
       "          long  sqft_living15  sqft_lot15  \n",
       "12777 -121.986         4850.0    217800.0  \n",
       "7252  -122.323         3940.0      8800.0  \n",
       "3914  -122.214         3930.0     25449.0  \n",
       "9254  -122.240         4540.0     42730.0  \n",
       "8092  -122.210         3270.0     10454.0  \n",
       "\n",
       "[5 rows x 21 columns]"
      ]
     },
     "execution_count": 126,
     "metadata": {},
     "output_type": "execute_result"
    }
   ],
   "source": [
    "house_df.sort_values(\"sqft_living\",ascending=False).head()"
   ]
  },
  {
   "cell_type": "code",
   "execution_count": 127,
   "metadata": {
    "collapsed": false
   },
   "outputs": [
    {
     "data": {
      "text/plain": [
       "[<matplotlib.lines.Line2D at 0x1ac801a1588>]"
      ]
     },
     "execution_count": 127,
     "metadata": {},
     "output_type": "execute_result"
    },
    {
     "data": {
      "image/png": "[encoded data removed]",
      "text/plain": [
       "<matplotlib.figure.Figure at 0x1ac8008c518>"
      ]
     },
     "metadata": {},
     "output_type": "display_data"
    }
   ],
   "source": [
    "plt.plot(house_df.sqft_living,house_df.price,\".\")"
   ]
  },
  {
   "cell_type": "code",
   "execution_count": 130,
   "metadata": {
    "collapsed": false
   },
   "outputs": [
    {
     "data": {
      "text/plain": [
       "11978"
      ]
     },
     "execution_count": 130,
     "metadata": {},
     "output_type": "execute_result"
    }
   ],
   "source": [
    "len(test_df)+len(train_df)"
   ]
  },
  {
   "cell_type": "code",
   "execution_count": 131,
   "metadata": {
    "collapsed": false
   },
   "outputs": [
    {
     "data": {
      "text/plain": [
       "21613"
      ]
     },
     "execution_count": 131,
     "metadata": {},
     "output_type": "execute_result"
    }
   ],
   "source": [
    "len(house_df)"
   ]
  },
  {
   "cell_type": "code",
   "execution_count": null,
   "metadata": {
    "collapsed": true
   },
   "outputs": [],
   "source": []
  }
 ],
 "metadata": {
  "anaconda-cloud": {},
  "kernelspec": {
   "display_name": "Python [conda root]",
   "language": "python",
   "name": "conda-root-py"
  },
  "language_info": {
   "codemirror_mode": {
    "name": "ipython",
    "version": 3
   },
   "file_extension": ".py",
   "mimetype": "text/x-python",
   "name": "python",
   "nbconvert_exporter": "python",
   "pygments_lexer": "ipython3",
   "version": "3.5.2"
  }
 },
 "nbformat": 4,
 "nbformat_minor": 1
}
