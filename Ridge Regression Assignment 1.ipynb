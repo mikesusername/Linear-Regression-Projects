{
 "cells": [
  {
   "cell_type": "markdown",
   "metadata": {},
   "source": [
    "# Ridge Regression Assignment 1\n",
    "\n",
    "In this assignment, we will run ridge regression multiple times with different L2 penalties to see which one produces the best fit. We will revisit the example of polynomial regression as a means to see the effect of L2 regularization. In particular, we will:\n",
    "\n",
    "Use a pre-built implementation of regression to run polynomial regression\n",
    "\n",
    "Use matplotlib to visualize polynomial regressions\n",
    "\n",
    "Use a pre-built implementation of regression to run polynomial regression, this time with L2 penalty\n",
    "\n",
    "Use matplotlib to visualize polynomial regressions under L2 regularization\n",
    "\n",
    "Choose best L2 penalty using cross-validation.\n",
    "\n",
    "Assess the final fit using test data."
   ]
  },
  {
   "cell_type": "code",
   "execution_count": 177,
   "metadata": {
    "collapsed": true
   },
   "outputs": [],
   "source": [
    "import pandas as pd\n",
    "import numpy as np\n",
    "import matplotlib.pyplot as plt\n",
    "from sklearn.linear_model import LinearRegression\n",
    "from sklearn.linear_model import Ridge\n",
    "import random\n",
    "import math\n",
    "%matplotlib inline"
   ]
  },
  {
   "cell_type": "markdown",
   "metadata": {},
   "source": [
    "## The Data"
   ]
  },
  {
   "cell_type": "code",
   "execution_count": 178,
   "metadata": {
    "collapsed": true
   },
   "outputs": [],
   "source": [
    "dtype_dict = {'bathrooms':float, 'waterfront':int, 'sqft_above':int, 'sqft_living15':float, 'grade':int, 'yr_renovated':int, 'price':float, 'bedrooms':float, 'zipcode':str, 'long':float, 'sqft_lot15':float, 'sqft_living':float, 'floors':str, 'condition':int, 'lat':float, 'date':str, 'sqft_basement':int, 'yr_built':int, 'id':str, 'sqft_lot':int, 'view':int}\n",
    "house_df=pd.read_csv(\"kc_house_data.csv\",dtype=dtype_dict)\n",
    "train_df=pd.read_csv(\"wk3_kc_house_train_data.csv\",dtype=dtype_dict)\n",
    "validation_df=pd.read_csv(\"wk3_kc_house_valid_data.csv\",dtype=dtype_dict)\n",
    "test_df=pd.read_csv(\"wk3_kc_house_test_data.csv\",dtype=dtype_dict)\n",
    "set_1=pd.read_csv(\"wk3_kc_house_set_1_data.csv\",dtype=dtype_dict)\n",
    "set_2=pd.read_csv(\"wk3_kc_house_set_2_data.csv\",dtype=dtype_dict)\n",
    "set_3=pd.read_csv(\"wk3_kc_house_set_3_data.csv\",dtype=dtype_dict)\n",
    "set_4=pd.read_csv(\"wk3_kc_house_set_4_data.csv\",dtype=dtype_dict)\n",
    "train_valid_shuffled=pd.read_csv(\"wk3_kc_house_train_valid_shuffled.csv\",dtype=dtype_dict)"
   ]
  },
  {
   "cell_type": "code",
   "execution_count": 179,
   "metadata": {
    "collapsed": true
   },
   "outputs": [],
   "source": [
    "#Define a function that takes an array feature and a maximal degree, then returns a data frame with the original feature as\n",
    "#the first column, then each subsequent column is the data of the first raised to increasing integer powers, up to the\n",
    "#maximal degree\n",
    "def polynomial_df(series,maxdegree):\n",
    "    poly_df=pd.DataFrame({\"x\":series})\n",
    "    for degree in range(2,maxdegree+1):\n",
    "        poly_df[\"x^\"+str(degree)]=series**degree\n",
    "    return poly_df"
   ]
  },
  {
   "cell_type": "code",
   "execution_count": 180,
   "metadata": {
    "collapsed": false
   },
   "outputs": [],
   "source": [
    "sales = house_df.copy()\n",
    "sales = sales.sort_values(['sqft_living','price'])"
   ]
  },
  {
   "cell_type": "code",
   "execution_count": 181,
   "metadata": {
    "collapsed": false
   },
   "outputs": [
    {
     "data": {
      "text/html": [
       "<div>\n",
       "<style>\n",
       "    .dataframe thead tr:only-child th {\n",
       "        text-align: right;\n",
       "    }\n",
       "\n",
       "    .dataframe thead th {\n",
       "        text-align: left;\n",
       "    }\n",
       "\n",
       "    .dataframe tbody tr th {\n",
       "        vertical-align: top;\n",
       "    }\n",
       "</style>\n",
       "<table border=\"1\" class=\"dataframe\">\n",
       "  <thead>\n",
       "    <tr style=\"text-align: right;\">\n",
       "      <th></th>\n",
       "      <th>id</th>\n",
       "      <th>date</th>\n",
       "      <th>price</th>\n",
       "      <th>bedrooms</th>\n",
       "      <th>bathrooms</th>\n",
       "      <th>sqft_living</th>\n",
       "      <th>sqft_lot</th>\n",
       "      <th>floors</th>\n",
       "      <th>waterfront</th>\n",
       "      <th>view</th>\n",
       "      <th>...</th>\n",
       "      <th>grade</th>\n",
       "      <th>sqft_above</th>\n",
       "      <th>sqft_basement</th>\n",
       "      <th>yr_built</th>\n",
       "      <th>yr_renovated</th>\n",
       "      <th>zipcode</th>\n",
       "      <th>lat</th>\n",
       "      <th>long</th>\n",
       "      <th>sqft_living15</th>\n",
       "      <th>sqft_lot15</th>\n",
       "    </tr>\n",
       "  </thead>\n",
       "  <tbody>\n",
       "    <tr>\n",
       "      <th>19452</th>\n",
       "      <td>3980300371</td>\n",
       "      <td>20140926T000000</td>\n",
       "      <td>142000.0</td>\n",
       "      <td>0.0</td>\n",
       "      <td>0.00</td>\n",
       "      <td>290.0</td>\n",
       "      <td>20875</td>\n",
       "      <td>1</td>\n",
       "      <td>0</td>\n",
       "      <td>0</td>\n",
       "      <td>...</td>\n",
       "      <td>1</td>\n",
       "      <td>290</td>\n",
       "      <td>0</td>\n",
       "      <td>1963</td>\n",
       "      <td>0</td>\n",
       "      <td>98024</td>\n",
       "      <td>47.5308</td>\n",
       "      <td>-121.888</td>\n",
       "      <td>1620.0</td>\n",
       "      <td>22850.0</td>\n",
       "    </tr>\n",
       "    <tr>\n",
       "      <th>15381</th>\n",
       "      <td>2856101479</td>\n",
       "      <td>20140701T000000</td>\n",
       "      <td>276000.0</td>\n",
       "      <td>1.0</td>\n",
       "      <td>0.75</td>\n",
       "      <td>370.0</td>\n",
       "      <td>1801</td>\n",
       "      <td>1</td>\n",
       "      <td>0</td>\n",
       "      <td>0</td>\n",
       "      <td>...</td>\n",
       "      <td>5</td>\n",
       "      <td>370</td>\n",
       "      <td>0</td>\n",
       "      <td>1923</td>\n",
       "      <td>0</td>\n",
       "      <td>98117</td>\n",
       "      <td>47.6778</td>\n",
       "      <td>-122.389</td>\n",
       "      <td>1340.0</td>\n",
       "      <td>5000.0</td>\n",
       "    </tr>\n",
       "    <tr>\n",
       "      <th>860</th>\n",
       "      <td>1723049033</td>\n",
       "      <td>20140620T000000</td>\n",
       "      <td>245000.0</td>\n",
       "      <td>1.0</td>\n",
       "      <td>0.75</td>\n",
       "      <td>380.0</td>\n",
       "      <td>15000</td>\n",
       "      <td>1</td>\n",
       "      <td>0</td>\n",
       "      <td>0</td>\n",
       "      <td>...</td>\n",
       "      <td>5</td>\n",
       "      <td>380</td>\n",
       "      <td>0</td>\n",
       "      <td>1963</td>\n",
       "      <td>0</td>\n",
       "      <td>98168</td>\n",
       "      <td>47.4810</td>\n",
       "      <td>-122.323</td>\n",
       "      <td>1170.0</td>\n",
       "      <td>15000.0</td>\n",
       "    </tr>\n",
       "    <tr>\n",
       "      <th>18379</th>\n",
       "      <td>1222029077</td>\n",
       "      <td>20141029T000000</td>\n",
       "      <td>265000.0</td>\n",
       "      <td>0.0</td>\n",
       "      <td>0.75</td>\n",
       "      <td>384.0</td>\n",
       "      <td>213444</td>\n",
       "      <td>1</td>\n",
       "      <td>0</td>\n",
       "      <td>0</td>\n",
       "      <td>...</td>\n",
       "      <td>4</td>\n",
       "      <td>384</td>\n",
       "      <td>0</td>\n",
       "      <td>2003</td>\n",
       "      <td>0</td>\n",
       "      <td>98070</td>\n",
       "      <td>47.4177</td>\n",
       "      <td>-122.491</td>\n",
       "      <td>1920.0</td>\n",
       "      <td>224341.0</td>\n",
       "    </tr>\n",
       "    <tr>\n",
       "      <th>4868</th>\n",
       "      <td>6896300380</td>\n",
       "      <td>20141002T000000</td>\n",
       "      <td>228000.0</td>\n",
       "      <td>0.0</td>\n",
       "      <td>1.00</td>\n",
       "      <td>390.0</td>\n",
       "      <td>5900</td>\n",
       "      <td>1</td>\n",
       "      <td>0</td>\n",
       "      <td>0</td>\n",
       "      <td>...</td>\n",
       "      <td>4</td>\n",
       "      <td>390</td>\n",
       "      <td>0</td>\n",
       "      <td>1953</td>\n",
       "      <td>0</td>\n",
       "      <td>98118</td>\n",
       "      <td>47.5260</td>\n",
       "      <td>-122.261</td>\n",
       "      <td>2170.0</td>\n",
       "      <td>6000.0</td>\n",
       "    </tr>\n",
       "  </tbody>\n",
       "</table>\n",
       "<p>5 rows × 21 columns</p>\n",
       "</div>"
      ],
      "text/plain": [
       "               id             date     price  bedrooms  bathrooms  \\\n",
       "19452  3980300371  20140926T000000  142000.0       0.0       0.00   \n",
       "15381  2856101479  20140701T000000  276000.0       1.0       0.75   \n",
       "860    1723049033  20140620T000000  245000.0       1.0       0.75   \n",
       "18379  1222029077  20141029T000000  265000.0       0.0       0.75   \n",
       "4868   6896300380  20141002T000000  228000.0       0.0       1.00   \n",
       "\n",
       "       sqft_living  sqft_lot floors  waterfront  view     ...      grade  \\\n",
       "19452        290.0     20875      1           0     0     ...          1   \n",
       "15381        370.0      1801      1           0     0     ...          5   \n",
       "860          380.0     15000      1           0     0     ...          5   \n",
       "18379        384.0    213444      1           0     0     ...          4   \n",
       "4868         390.0      5900      1           0     0     ...          4   \n",
       "\n",
       "       sqft_above  sqft_basement  yr_built  yr_renovated  zipcode      lat  \\\n",
       "19452         290              0      1963             0    98024  47.5308   \n",
       "15381         370              0      1923             0    98117  47.6778   \n",
       "860           380              0      1963             0    98168  47.4810   \n",
       "18379         384              0      2003             0    98070  47.4177   \n",
       "4868          390              0      1953             0    98118  47.5260   \n",
       "\n",
       "          long  sqft_living15  sqft_lot15  \n",
       "19452 -121.888         1620.0     22850.0  \n",
       "15381 -122.389         1340.0      5000.0  \n",
       "860   -122.323         1170.0     15000.0  \n",
       "18379 -122.491         1920.0    224341.0  \n",
       "4868  -122.261         2170.0      6000.0  \n",
       "\n",
       "[5 rows x 21 columns]"
      ]
     },
     "execution_count": 181,
     "metadata": {},
     "output_type": "execute_result"
    }
   ],
   "source": [
    "sales.head()"
   ]
  },
  {
   "cell_type": "markdown",
   "metadata": {},
   "source": [
    "## Task 1\n",
    "Let us revisit the 15th-order polynomial model using the 'sqft_living' input. Generate polynomial features up to degree 15 using 'polynomial_df' and fit a model with these features. When fitting the model, use an L2 penalty of 1.5e-5\n",
    "\n",
    "Note: When we have so many features and so few data points, the solution can become highly numerically unstable, which can sometimes lead to strange unpredictable results. Thus, rather than using no regularization, we will introduce a tiny amount of regularization (l2_penalty=1.5e-5) to make the solution numerically stable. (In lecture, we discussed the fact that regularization can also help with numerical stability, and here we are seeing a practical example.)\n",
    "\n",
    "Also, we will use the parameter normalize=True so that the X values range between 0 and 1 (since they currently do not)"
   ]
  },
  {
   "cell_type": "code",
   "execution_count": 182,
   "metadata": {
    "collapsed": false
   },
   "outputs": [],
   "source": [
    "X_poly15=polynomial_df(sales.sqft_living,15)"
   ]
  },
  {
   "cell_type": "code",
   "execution_count": 183,
   "metadata": {
    "collapsed": false
   },
   "outputs": [],
   "source": [
    "ridge_regressor=Ridge(alpha=1.5e-5,normalize=True).fit(X_poly15,sales.price)"
   ]
  },
  {
   "cell_type": "code",
   "execution_count": 184,
   "metadata": {
    "collapsed": false
   },
   "outputs": [
    {
     "data": {
      "text/html": [
       "<div>\n",
       "<style>\n",
       "    .dataframe thead tr:only-child th {\n",
       "        text-align: right;\n",
       "    }\n",
       "\n",
       "    .dataframe thead th {\n",
       "        text-align: left;\n",
       "    }\n",
       "\n",
       "    .dataframe tbody tr th {\n",
       "        vertical-align: top;\n",
       "    }\n",
       "</style>\n",
       "<table border=\"1\" class=\"dataframe\">\n",
       "  <thead>\n",
       "    <tr style=\"text-align: right;\">\n",
       "      <th></th>\n",
       "      <th>Coefficient</th>\n",
       "      <th>Feature</th>\n",
       "    </tr>\n",
       "  </thead>\n",
       "  <tbody>\n",
       "    <tr>\n",
       "      <th>0</th>\n",
       "      <td>1.248733e+02</td>\n",
       "      <td>x</td>\n",
       "    </tr>\n",
       "    <tr>\n",
       "      <th>1</th>\n",
       "      <td>-4.773760e-02</td>\n",
       "      <td>x^2</td>\n",
       "    </tr>\n",
       "    <tr>\n",
       "      <th>2</th>\n",
       "      <td>3.014462e-05</td>\n",
       "      <td>x^3</td>\n",
       "    </tr>\n",
       "    <tr>\n",
       "      <th>3</th>\n",
       "      <td>-2.444199e-09</td>\n",
       "      <td>x^4</td>\n",
       "    </tr>\n",
       "    <tr>\n",
       "      <th>4</th>\n",
       "      <td>-1.941537e-13</td>\n",
       "      <td>x^5</td>\n",
       "    </tr>\n",
       "    <tr>\n",
       "      <th>5</th>\n",
       "      <td>8.540857e-18</td>\n",
       "      <td>x^6</td>\n",
       "    </tr>\n",
       "    <tr>\n",
       "      <th>6</th>\n",
       "      <td>1.511421e-21</td>\n",
       "      <td>x^7</td>\n",
       "    </tr>\n",
       "    <tr>\n",
       "      <th>7</th>\n",
       "      <td>8.279791e-26</td>\n",
       "      <td>x^8</td>\n",
       "    </tr>\n",
       "    <tr>\n",
       "      <th>8</th>\n",
       "      <td>6.526031e-31</td>\n",
       "      <td>x^9</td>\n",
       "    </tr>\n",
       "    <tr>\n",
       "      <th>9</th>\n",
       "      <td>-3.278950e-34</td>\n",
       "      <td>x^10</td>\n",
       "    </tr>\n",
       "    <tr>\n",
       "      <th>10</th>\n",
       "      <td>-3.879623e-38</td>\n",
       "      <td>x^11</td>\n",
       "    </tr>\n",
       "    <tr>\n",
       "      <th>11</th>\n",
       "      <td>-2.724376e-42</td>\n",
       "      <td>x^12</td>\n",
       "    </tr>\n",
       "    <tr>\n",
       "      <th>12</th>\n",
       "      <td>-1.077908e-46</td>\n",
       "      <td>x^13</td>\n",
       "    </tr>\n",
       "    <tr>\n",
       "      <th>13</th>\n",
       "      <td>3.782427e-51</td>\n",
       "      <td>x^14</td>\n",
       "    </tr>\n",
       "    <tr>\n",
       "      <th>14</th>\n",
       "      <td>1.397903e-54</td>\n",
       "      <td>x^15</td>\n",
       "    </tr>\n",
       "  </tbody>\n",
       "</table>\n",
       "</div>"
      ],
      "text/plain": [
       "     Coefficient Feature\n",
       "0   1.248733e+02       x\n",
       "1  -4.773760e-02     x^2\n",
       "2   3.014462e-05     x^3\n",
       "3  -2.444199e-09     x^4\n",
       "4  -1.941537e-13     x^5\n",
       "5   8.540857e-18     x^6\n",
       "6   1.511421e-21     x^7\n",
       "7   8.279791e-26     x^8\n",
       "8   6.526031e-31     x^9\n",
       "9  -3.278950e-34    x^10\n",
       "10 -3.879623e-38    x^11\n",
       "11 -2.724376e-42    x^12\n",
       "12 -1.077908e-46    x^13\n",
       "13  3.782427e-51    x^14\n",
       "14  1.397903e-54    x^15"
      ]
     },
     "execution_count": 184,
     "metadata": {},
     "output_type": "execute_result"
    }
   ],
   "source": [
    "coef_df=pd.DataFrame({\"Feature\":X_poly15.columns,\"Coefficient\":ridge_regressor.coef_})\n",
    "coef_df"
   ]
  },
  {
   "cell_type": "markdown",
   "metadata": {},
   "source": [
    "## Task 2\n",
    "\n",
    "Observe Overfitting\n",
    "\n",
    "Recall from Module 3 (Polynomial Regression) that the polynomial fit of degree 15 changed wildly whenever the data changed. In particular, when we split the sales data into four subsets and fit the model of degree 15, the result came out to be very different for each subset. The model had a high variance. We will see in a moment that ridge regression reduces such variance. But first, we must reproduce the experiment we did in Module 3.\n",
    "\n",
    "Just as we did in Module 3 (Polynomial Regression), fit a 15th degree polynomial on each of the 4 sets, plot the results and view the weights for the four models. This time, set alpha to 1e-9 (a very small penalty)."
   ]
  },
  {
   "cell_type": "code",
   "execution_count": 185,
   "metadata": {
    "collapsed": false
   },
   "outputs": [
    {
     "data": {
      "text/html": [
       "<div>\n",
       "<style>\n",
       "    .dataframe thead tr:only-child th {\n",
       "        text-align: right;\n",
       "    }\n",
       "\n",
       "    .dataframe thead th {\n",
       "        text-align: left;\n",
       "    }\n",
       "\n",
       "    .dataframe tbody tr th {\n",
       "        vertical-align: top;\n",
       "    }\n",
       "</style>\n",
       "<table border=\"1\" class=\"dataframe\">\n",
       "  <thead>\n",
       "    <tr style=\"text-align: right;\">\n",
       "      <th></th>\n",
       "      <th>id</th>\n",
       "      <th>date</th>\n",
       "      <th>price</th>\n",
       "      <th>bedrooms</th>\n",
       "      <th>bathrooms</th>\n",
       "      <th>sqft_living</th>\n",
       "      <th>sqft_lot</th>\n",
       "      <th>floors</th>\n",
       "      <th>waterfront</th>\n",
       "      <th>view</th>\n",
       "      <th>...</th>\n",
       "      <th>grade</th>\n",
       "      <th>sqft_above</th>\n",
       "      <th>sqft_basement</th>\n",
       "      <th>yr_built</th>\n",
       "      <th>yr_renovated</th>\n",
       "      <th>zipcode</th>\n",
       "      <th>lat</th>\n",
       "      <th>long</th>\n",
       "      <th>sqft_living15</th>\n",
       "      <th>sqft_lot15</th>\n",
       "    </tr>\n",
       "  </thead>\n",
       "  <tbody>\n",
       "    <tr>\n",
       "      <th>0</th>\n",
       "      <td>8658300340</td>\n",
       "      <td>20140523T000000</td>\n",
       "      <td>80000.0</td>\n",
       "      <td>1.0</td>\n",
       "      <td>0.75</td>\n",
       "      <td>430.0</td>\n",
       "      <td>5050</td>\n",
       "      <td>1</td>\n",
       "      <td>0</td>\n",
       "      <td>0</td>\n",
       "      <td>...</td>\n",
       "      <td>4</td>\n",
       "      <td>430</td>\n",
       "      <td>0</td>\n",
       "      <td>1912</td>\n",
       "      <td>0</td>\n",
       "      <td>98014</td>\n",
       "      <td>47.6499</td>\n",
       "      <td>-121.909</td>\n",
       "      <td>1200.0</td>\n",
       "      <td>7500.0</td>\n",
       "    </tr>\n",
       "    <tr>\n",
       "      <th>1</th>\n",
       "      <td>1352300580</td>\n",
       "      <td>20141114T000000</td>\n",
       "      <td>247000.0</td>\n",
       "      <td>1.0</td>\n",
       "      <td>1.00</td>\n",
       "      <td>460.0</td>\n",
       "      <td>4120</td>\n",
       "      <td>1</td>\n",
       "      <td>0</td>\n",
       "      <td>0</td>\n",
       "      <td>...</td>\n",
       "      <td>4</td>\n",
       "      <td>460</td>\n",
       "      <td>0</td>\n",
       "      <td>1937</td>\n",
       "      <td>0</td>\n",
       "      <td>98055</td>\n",
       "      <td>47.4868</td>\n",
       "      <td>-122.199</td>\n",
       "      <td>990.0</td>\n",
       "      <td>4120.0</td>\n",
       "    </tr>\n",
       "    <tr>\n",
       "      <th>2</th>\n",
       "      <td>1320069249</td>\n",
       "      <td>20141020T000000</td>\n",
       "      <td>192500.0</td>\n",
       "      <td>1.0</td>\n",
       "      <td>1.00</td>\n",
       "      <td>470.0</td>\n",
       "      <td>63737</td>\n",
       "      <td>1</td>\n",
       "      <td>0</td>\n",
       "      <td>2</td>\n",
       "      <td>...</td>\n",
       "      <td>5</td>\n",
       "      <td>470</td>\n",
       "      <td>0</td>\n",
       "      <td>1924</td>\n",
       "      <td>0</td>\n",
       "      <td>98022</td>\n",
       "      <td>47.2163</td>\n",
       "      <td>-121.984</td>\n",
       "      <td>1350.0</td>\n",
       "      <td>46762.0</td>\n",
       "    </tr>\n",
       "    <tr>\n",
       "      <th>3</th>\n",
       "      <td>1437500015</td>\n",
       "      <td>20140709T000000</td>\n",
       "      <td>150000.0</td>\n",
       "      <td>3.0</td>\n",
       "      <td>0.75</td>\n",
       "      <td>490.0</td>\n",
       "      <td>38500</td>\n",
       "      <td>1.5</td>\n",
       "      <td>0</td>\n",
       "      <td>0</td>\n",
       "      <td>...</td>\n",
       "      <td>5</td>\n",
       "      <td>490</td>\n",
       "      <td>0</td>\n",
       "      <td>1959</td>\n",
       "      <td>0</td>\n",
       "      <td>98014</td>\n",
       "      <td>47.7112</td>\n",
       "      <td>-121.315</td>\n",
       "      <td>800.0</td>\n",
       "      <td>18297.0</td>\n",
       "    </tr>\n",
       "    <tr>\n",
       "      <th>4</th>\n",
       "      <td>0859000110</td>\n",
       "      <td>20141002T000000</td>\n",
       "      <td>125000.0</td>\n",
       "      <td>1.0</td>\n",
       "      <td>1.00</td>\n",
       "      <td>500.0</td>\n",
       "      <td>7440</td>\n",
       "      <td>1</td>\n",
       "      <td>0</td>\n",
       "      <td>0</td>\n",
       "      <td>...</td>\n",
       "      <td>5</td>\n",
       "      <td>500</td>\n",
       "      <td>0</td>\n",
       "      <td>1928</td>\n",
       "      <td>0</td>\n",
       "      <td>98106</td>\n",
       "      <td>47.5252</td>\n",
       "      <td>-122.362</td>\n",
       "      <td>1350.0</td>\n",
       "      <td>7440.0</td>\n",
       "    </tr>\n",
       "  </tbody>\n",
       "</table>\n",
       "<p>5 rows × 21 columns</p>\n",
       "</div>"
      ],
      "text/plain": [
       "           id             date     price  bedrooms  bathrooms  sqft_living  \\\n",
       "0  8658300340  20140523T000000   80000.0       1.0       0.75        430.0   \n",
       "1  1352300580  20141114T000000  247000.0       1.0       1.00        460.0   \n",
       "2  1320069249  20141020T000000  192500.0       1.0       1.00        470.0   \n",
       "3  1437500015  20140709T000000  150000.0       3.0       0.75        490.0   \n",
       "4  0859000110  20141002T000000  125000.0       1.0       1.00        500.0   \n",
       "\n",
       "   sqft_lot floors  waterfront  view     ...      grade  sqft_above  \\\n",
       "0      5050      1           0     0     ...          4         430   \n",
       "1      4120      1           0     0     ...          4         460   \n",
       "2     63737      1           0     2     ...          5         470   \n",
       "3     38500    1.5           0     0     ...          5         490   \n",
       "4      7440      1           0     0     ...          5         500   \n",
       "\n",
       "   sqft_basement  yr_built  yr_renovated  zipcode      lat     long  \\\n",
       "0              0      1912             0    98014  47.6499 -121.909   \n",
       "1              0      1937             0    98055  47.4868 -122.199   \n",
       "2              0      1924             0    98022  47.2163 -121.984   \n",
       "3              0      1959             0    98014  47.7112 -121.315   \n",
       "4              0      1928             0    98106  47.5252 -122.362   \n",
       "\n",
       "   sqft_living15  sqft_lot15  \n",
       "0         1200.0      7500.0  \n",
       "1          990.0      4120.0  \n",
       "2         1350.0     46762.0  \n",
       "3          800.0     18297.0  \n",
       "4         1350.0      7440.0  \n",
       "\n",
       "[5 rows x 21 columns]"
      ]
     },
     "execution_count": 185,
     "metadata": {},
     "output_type": "execute_result"
    }
   ],
   "source": [
    "set_1.head()"
   ]
  },
  {
   "cell_type": "code",
   "execution_count": 186,
   "metadata": {
    "collapsed": false
   },
   "outputs": [],
   "source": [
    "poly_set_list=[]\n",
    "for dataset in [set_1,set_2,set_3,set_4]:\n",
    "    poly_temp=polynomial_df(dataset.sqft_living,15)\n",
    "    poly_temp[\"price\"]=dataset.price\n",
    "    poly_set_list.append(poly_temp)\n",
    "\n",
    "model_list1=[]\n",
    "for polyset in poly_set_list:\n",
    "    model=Ridge(alpha=1e-9,normalize=True).fit(polyset[polyset.columns[polyset.columns!=\"price\"]],polyset.price)\n",
    "    model_list1.append(model)"
   ]
  },
  {
   "cell_type": "code",
   "execution_count": 187,
   "metadata": {
    "collapsed": false
   },
   "outputs": [
    {
     "data": {
      "text/plain": [
       "[<matplotlib.lines.Line2D at 0x240f54b9978>]"
      ]
     },
     "execution_count": 187,
     "metadata": {},
     "output_type": "execute_result"
    },
    {
     "data": {
      "image/png": "[encoded data removed]",
      "text/plain": [
       "<matplotlib.figure.Figure at 0x240f428a128>"
      ]
     },
     "metadata": {},
     "output_type": "display_data"
    }
   ],
   "source": [
    "#Graph\n",
    "plt.figure()\n",
    "plt.plot(sales.sqft_living,sales.price,\".\",color=\"blue\")\n",
    "plt.plot(set_1.sqft_living,\n",
    "         model_list1[0].predict(poly_set_list[0][poly_set_list[0].columns[poly_set_list[0].columns!=\"price\"]]),\n",
    "        color=\"red\")\n",
    "plt.plot(set_2.sqft_living,\n",
    "         model_list1[1].predict(poly_set_list[1][poly_set_list[1].columns[poly_set_list[1].columns!=\"price\"]]),\n",
    "        color=\"green\")\n",
    "plt.plot(set_3.sqft_living,\n",
    "         model_list1[2].predict(poly_set_list[2][poly_set_list[2].columns[poly_set_list[2].columns!=\"price\"]]),\n",
    "        color=\"black\")\n",
    "plt.plot(set_4.sqft_living,\n",
    "         model_list1[3].predict(poly_set_list[3][poly_set_list[3].columns[poly_set_list[3].columns!=\"price\"]]),\n",
    "        color=\"purple\")"
   ]
  },
  {
   "cell_type": "code",
   "execution_count": 188,
   "metadata": {
    "collapsed": false
   },
   "outputs": [],
   "source": [
    "coef2_df=pd.DataFrame({\"Set 1 coef\":model_list1[0].coef_,\"Set 2 coef\":model_list1[1].coef_,\n",
    "                      \"Set 3 coef\":model_list1[2].coef_,\"Set 4 coef\":model_list1[3].coef_},index=X_poly15.columns)"
   ]
  },
  {
   "cell_type": "code",
   "execution_count": 189,
   "metadata": {
    "collapsed": false
   },
   "outputs": [
    {
     "data": {
      "text/html": [
       "<div>\n",
       "<style>\n",
       "    .dataframe thead tr:only-child th {\n",
       "        text-align: right;\n",
       "    }\n",
       "\n",
       "    .dataframe thead th {\n",
       "        text-align: left;\n",
       "    }\n",
       "\n",
       "    .dataframe tbody tr th {\n",
       "        vertical-align: top;\n",
       "    }\n",
       "</style>\n",
       "<table border=\"1\" class=\"dataframe\">\n",
       "  <thead>\n",
       "    <tr style=\"text-align: right;\">\n",
       "      <th></th>\n",
       "      <th>Set 1 coef</th>\n",
       "      <th>Set 2 coef</th>\n",
       "      <th>Set 3 coef</th>\n",
       "      <th>Set 4 coef</th>\n",
       "    </tr>\n",
       "  </thead>\n",
       "  <tbody>\n",
       "    <tr>\n",
       "      <th>x</th>\n",
       "      <td>5.446694e+02</td>\n",
       "      <td>8.593627e+02</td>\n",
       "      <td>-7.553960e+02</td>\n",
       "      <td>1.119446e+03</td>\n",
       "    </tr>\n",
       "    <tr>\n",
       "      <th>x^2</th>\n",
       "      <td>-3.554476e-01</td>\n",
       "      <td>-8.181183e-01</td>\n",
       "      <td>9.755795e-01</td>\n",
       "      <td>-9.837601e-01</td>\n",
       "    </tr>\n",
       "    <tr>\n",
       "      <th>x^3</th>\n",
       "      <td>1.224464e-04</td>\n",
       "      <td>4.288800e-04</td>\n",
       "      <td>-4.589460e-04</td>\n",
       "      <td>3.387708e-04</td>\n",
       "    </tr>\n",
       "    <tr>\n",
       "      <th>x^4</th>\n",
       "      <td>-1.171753e-08</td>\n",
       "      <td>-9.127708e-08</td>\n",
       "      <td>7.779582e-08</td>\n",
       "      <td>3.603775e-08</td>\n",
       "    </tr>\n",
       "    <tr>\n",
       "      <th>x^5</th>\n",
       "      <td>-3.905125e-13</td>\n",
       "      <td>-2.696041e-12</td>\n",
       "      <td>7.150131e-12</td>\n",
       "      <td>-4.378141e-11</td>\n",
       "    </tr>\n",
       "    <tr>\n",
       "      <th>x^6</th>\n",
       "      <td>-1.390764e-17</td>\n",
       "      <td>3.739803e-15</td>\n",
       "      <td>-2.886020e-15</td>\n",
       "      <td>5.771917e-15</td>\n",
       "    </tr>\n",
       "    <tr>\n",
       "      <th>x^7</th>\n",
       "      <td>1.478603e-20</td>\n",
       "      <td>-1.427119e-19</td>\n",
       "      <td>-2.136781e-20</td>\n",
       "      <td>7.667954e-19</td>\n",
       "    </tr>\n",
       "    <tr>\n",
       "      <th>x^8</th>\n",
       "      <td>6.874914e-25</td>\n",
       "      <td>-6.307947e-23</td>\n",
       "      <td>3.380852e-23</td>\n",
       "      <td>-9.492979e-23</td>\n",
       "    </tr>\n",
       "    <tr>\n",
       "      <th>x^9</th>\n",
       "      <td>-7.572039e-29</td>\n",
       "      <td>-1.445596e-27</td>\n",
       "      <td>2.191782e-27</td>\n",
       "      <td>-1.960308e-26</td>\n",
       "    </tr>\n",
       "    <tr>\n",
       "      <th>x^10</th>\n",
       "      <td>-1.040973e-32</td>\n",
       "      <td>7.443212e-31</td>\n",
       "      <td>-1.970678e-31</td>\n",
       "      <td>-2.108793e-32</td>\n",
       "    </tr>\n",
       "    <tr>\n",
       "      <th>x^11</th>\n",
       "      <td>-3.718441e-37</td>\n",
       "      <td>9.258659e-35</td>\n",
       "      <td>-4.159932e-35</td>\n",
       "      <td>3.310050e-34</td>\n",
       "    </tr>\n",
       "    <tr>\n",
       "      <th>x^12</th>\n",
       "      <td>3.399893e-41</td>\n",
       "      <td>3.280167e-41</td>\n",
       "      <td>-1.801962e-39</td>\n",
       "      <td>3.477339e-38</td>\n",
       "    </tr>\n",
       "    <tr>\n",
       "      <th>x^13</th>\n",
       "      <td>5.565920e-45</td>\n",
       "      <td>-1.295435e-42</td>\n",
       "      <td>3.190711e-43</td>\n",
       "      <td>-2.430392e-42</td>\n",
       "    </tr>\n",
       "    <tr>\n",
       "      <th>x^14</th>\n",
       "      <td>2.537613e-49</td>\n",
       "      <td>-1.387813e-46</td>\n",
       "      <td>5.084569e-47</td>\n",
       "      <td>-8.795533e-46</td>\n",
       "    </tr>\n",
       "    <tr>\n",
       "      <th>x^15</th>\n",
       "      <td>-3.351529e-53</td>\n",
       "      <td>1.665464e-50</td>\n",
       "      <td>-3.933043e-51</td>\n",
       "      <td>6.445697e-50</td>\n",
       "    </tr>\n",
       "  </tbody>\n",
       "</table>\n",
       "</div>"
      ],
      "text/plain": [
       "        Set 1 coef    Set 2 coef    Set 3 coef    Set 4 coef\n",
       "x     5.446694e+02  8.593627e+02 -7.553960e+02  1.119446e+03\n",
       "x^2  -3.554476e-01 -8.181183e-01  9.755795e-01 -9.837601e-01\n",
       "x^3   1.224464e-04  4.288800e-04 -4.589460e-04  3.387708e-04\n",
       "x^4  -1.171753e-08 -9.127708e-08  7.779582e-08  3.603775e-08\n",
       "x^5  -3.905125e-13 -2.696041e-12  7.150131e-12 -4.378141e-11\n",
       "x^6  -1.390764e-17  3.739803e-15 -2.886020e-15  5.771917e-15\n",
       "x^7   1.478603e-20 -1.427119e-19 -2.136781e-20  7.667954e-19\n",
       "x^8   6.874914e-25 -6.307947e-23  3.380852e-23 -9.492979e-23\n",
       "x^9  -7.572039e-29 -1.445596e-27  2.191782e-27 -1.960308e-26\n",
       "x^10 -1.040973e-32  7.443212e-31 -1.970678e-31 -2.108793e-32\n",
       "x^11 -3.718441e-37  9.258659e-35 -4.159932e-35  3.310050e-34\n",
       "x^12  3.399893e-41  3.280167e-41 -1.801962e-39  3.477339e-38\n",
       "x^13  5.565920e-45 -1.295435e-42  3.190711e-43 -2.430392e-42\n",
       "x^14  2.537613e-49 -1.387813e-46  5.084569e-47 -8.795533e-46\n",
       "x^15 -3.351529e-53  1.665464e-50 -3.933043e-51  6.445697e-50"
      ]
     },
     "execution_count": 189,
     "metadata": {},
     "output_type": "execute_result"
    }
   ],
   "source": [
    "coef2_df"
   ]
  },
  {
   "cell_type": "markdown",
   "metadata": {},
   "source": [
    "Quiz Question: For the models learned in each of these training sets, what are the smallest and largest values you learned for the coefficient of feature power_1?"
   ]
  },
  {
   "cell_type": "code",
   "execution_count": 190,
   "metadata": {
    "collapsed": false
   },
   "outputs": [
    {
     "data": {
      "text/plain": [
       "Set 3 coef    -755.395959\n",
       "Set 1 coef     544.669398\n",
       "Set 2 coef     859.362655\n",
       "Set 4 coef    1119.445662\n",
       "Name: x, dtype: float64"
      ]
     },
     "execution_count": 190,
     "metadata": {},
     "output_type": "execute_result"
    }
   ],
   "source": [
    "coef2_df.loc[\"x\"].sort_values()"
   ]
  },
  {
   "cell_type": "markdown",
   "metadata": {},
   "source": [
    "## Task 3\n",
    "\n",
    "Ridge regression comes to rescue\n",
    "\n",
    "Generally, whenever we see weights change so much in response to change in data, we believe the variance of our estimate to be large. Ridge regression aims to address this issue by penalizing \"large\" weights. (The weights looked quite small, but they are not that small because 'sqft_living' input is in the order of thousands.)\n",
    "\n",
    "Fit a 15th-order polynomial model on set_1, set_2, set_3, and set_4, this time with a large L2 penalty (1.23e2)"
   ]
  },
  {
   "cell_type": "code",
   "execution_count": 191,
   "metadata": {
    "collapsed": true
   },
   "outputs": [],
   "source": [
    "model_list2=[]\n",
    "for polyset in poly_set_list:\n",
    "    model=Ridge(alpha=1.23e2,normalize=True).fit(polyset[polyset.columns[polyset.columns!=\"price\"]],polyset.price)\n",
    "    model_list2.append(model)"
   ]
  },
  {
   "cell_type": "code",
   "execution_count": 192,
   "metadata": {
    "collapsed": false
   },
   "outputs": [
    {
     "data": {
      "text/plain": [
       "[<matplotlib.lines.Line2D at 0x240f4537160>]"
      ]
     },
     "execution_count": 192,
     "metadata": {},
     "output_type": "execute_result"
    },
    {
     "data": {
      "image/png": "[encoded data removed]",
      "text/plain": [
       "<matplotlib.figure.Figure at 0x240f54e44a8>"
      ]
     },
     "metadata": {},
     "output_type": "display_data"
    }
   ],
   "source": [
    "#Graph\n",
    "plt.figure()\n",
    "plt.plot(sales.sqft_living,sales.price,\".\",color=\"blue\")\n",
    "plt.plot(set_1.sqft_living,\n",
    "         model_list2[0].predict(poly_set_list[0][poly_set_list[0].columns[poly_set_list[0].columns!=\"price\"]]),\n",
    "        color=\"red\")\n",
    "plt.plot(set_2.sqft_living,\n",
    "         model_list2[1].predict(poly_set_list[1][poly_set_list[1].columns[poly_set_list[1].columns!=\"price\"]]),\n",
    "        color=\"green\")\n",
    "plt.plot(set_3.sqft_living,\n",
    "         model_list2[2].predict(poly_set_list[2][poly_set_list[2].columns[poly_set_list[2].columns!=\"price\"]]),\n",
    "        color=\"black\")\n",
    "plt.plot(set_4.sqft_living,\n",
    "         model_list2[3].predict(poly_set_list[3][poly_set_list[3].columns[poly_set_list[3].columns!=\"price\"]]),\n",
    "        color=\"purple\")"
   ]
  },
  {
   "cell_type": "code",
   "execution_count": 193,
   "metadata": {
    "collapsed": false
   },
   "outputs": [
    {
     "data": {
      "text/plain": [
       "Set 4 coef    2.085962\n",
       "Set 2 coef    2.097569\n",
       "Set 3 coef    2.289063\n",
       "Set 1 coef    2.328068\n",
       "Name: x, dtype: float64"
      ]
     },
     "execution_count": 193,
     "metadata": {},
     "output_type": "execute_result"
    }
   ],
   "source": [
    "coef3_df=pd.DataFrame({\"Set 1 coef\":model_list2[0].coef_,\"Set 2 coef\":model_list2[1].coef_,\n",
    "                      \"Set 3 coef\":model_list2[2].coef_,\"Set 4 coef\":model_list2[3].coef_},index=X_poly15.columns)\n",
    "coef3_df.loc[\"x\"].sort_values()"
   ]
  },
  {
   "cell_type": "markdown",
   "metadata": {},
   "source": [
    "## Task 4\n",
    "### Selecting an L2 penalty via cross-validation\n",
    "\n",
    "Just like the polynomial degree, the L2 penalty is a \"magic\" parameter we need to select. We could use the validation set approach as we did in the last module, but that approach has a major disadvantage: it leaves fewer observations available for training. Cross-validation seeks to overcome this issue by using all of the training set in a smart way.\n",
    "\n",
    "We will implement a kind of cross-validation called k-fold cross-validation. The method gets its name because it involves dividing the training set into k segments of roughtly equal size. Similar to the validation set method, we measure the validation error with one of the segments designated as the validation set. The major difference is that we repeat the process k times as follows:\n",
    "\n",
    "Set aside segment 0 as the validation set, and fit a model on rest of data, and evalutate it on this validation set\n",
    "\n",
    "Set aside segment 1 as the validation set, and fit a model on rest of data, and evalutate it on this validation set\n",
    "\n",
    "Set aside segment k-1 as the validation set, and fit a model on rest of data, and evalutate it on this validation set\n",
    "\n",
    "After this process, we compute the average of the k validation errors, and use it as an estimate of the generalization error. Notice that all observations are used for both training and validation, as we iterate over segments of data.\n",
    "\n",
    "To estimate the generalization error well, it is crucial to shuffle the training data before dividing them into segments. We reserve 10% of the data as the test set and randomly shuffle the remainder. Le'ts call the shuffled data 'train_valid_shuffled'.\n",
    "\n",
    "For the purpose of this assignment and consistency, we will use the shuffled data in the file\n",
    "wk3_kc_house_train_valid_shuffled.csv\n",
    "\n",
    "In practice, you would shuffle the rows with a dynamically determined random seed. For a pandas dataframe, df, we would use the method df.sample(frac=1) to shuffle the rows (the frac parameter determines the fraction of rows to shuffle).\n",
    "\n",
    "Divide the combined training and validation set into equal segments. Each segment should receive n/k elements, where n is the number of observations in the training set and k is the number of segments. Since the segment 0 starts at index 0 and contains n/k elements, it ends at index (n/k)-1. The segment 1 starts where the segment 0 left off, at index (n/k). With n/k elements, the segment 1 ends at index (n*2/k)-1. Continuing in this fashion, we deduce that the segment i starts at index (n*i/k) and ends at (n*(i+1)/k)-1."
   ]
  },
  {
   "cell_type": "code",
   "execution_count": 194,
   "metadata": {
    "collapsed": false
   },
   "outputs": [
    {
     "data": {
      "text/plain": [
       "1939"
      ]
     },
     "execution_count": 194,
     "metadata": {},
     "output_type": "execute_result"
    }
   ],
   "source": [
    "n=len(train_valid_shuffled)\n",
    "k=10\n",
    "n//k"
   ]
  },
  {
   "cell_type": "code",
   "execution_count": 195,
   "metadata": {
    "collapsed": false
   },
   "outputs": [],
   "source": [
    "#Let each fold be 1940 elements long, and the last fold have what is remaining.\n",
    "step=1940\n",
    "start_stop_tuples=[]\n",
    "for i in range(k-1):\n",
    "    start_stop_tuples.append((i*1940,(i+1)*1940))\n",
    "start_stop_tuples.append(((k-1)*1940,n))"
   ]
  },
  {
   "cell_type": "code",
   "execution_count": 196,
   "metadata": {
    "collapsed": false
   },
   "outputs": [
    {
     "data": {
      "text/plain": [
       "[(0, 1940),\n",
       " (1940, 3880),\n",
       " (3880, 5820),\n",
       " (5820, 7760),\n",
       " (7760, 9700),\n",
       " (9700, 11640),\n",
       " (11640, 13580),\n",
       " (13580, 15520),\n",
       " (15520, 17460),\n",
       " (17460, 19396)]"
      ]
     },
     "execution_count": 196,
     "metadata": {},
     "output_type": "execute_result"
    }
   ],
   "source": [
    "start_stop_tuples"
   ]
  },
  {
   "cell_type": "code",
   "execution_count": 197,
   "metadata": {
    "collapsed": false
   },
   "outputs": [],
   "source": [
    "#Create a list of all the k fold train sets and validation sets. The list should be comprised of tuples, where the first \n",
    "#element of the tuple is the train set and the second element is the validation set\n",
    "\n",
    "kfold_train_valid_sets=[]\n",
    "for tup in start_stop_tuples:\n",
    "    validation=train_valid_shuffled[tup[0]:tup[1]]\n",
    "    train=pd.concat([train_valid_shuffled[:tup[0]],train_valid_shuffled[tup[1]:]])\n",
    "    kfold_train_valid_sets.append((train,validation))"
   ]
  },
  {
   "cell_type": "markdown",
   "metadata": {},
   "source": [
    "Write a function that computes k validation errors by designating each of the k segments as the validation set. It accepts as parameters (i) k, (ii) l2_penalty, (iii) dataframe containing input features (e.g. poly15_data) and (iv) column of output values (e.g. price). The function returns the average validation error using k segments as validation sets. We shall assume that the input dataframe does not contain the output column."
   ]
  },
  {
   "cell_type": "code",
   "execution_count": 198,
   "metadata": {
    "collapsed": true
   },
   "outputs": [],
   "source": [
    "#Residual summ of squares function\n",
    "def rss(ytrue,ypredict):\n",
    "    return ((ytrue-ypredict)**2).sum()"
   ]
  },
  {
   "cell_type": "code",
   "execution_count": 219,
   "metadata": {
    "collapsed": true
   },
   "outputs": [],
   "source": [
    "#Inputs are k, alpha, data frame consisting of a column of x values and a column of y values (others may be included),\n",
    "#name of the x column, name of the y column\n",
    "def kfold_valid_error(k,alpha,df,ycolumn):\n",
    "    n=len(df)\n",
    "    step=n//k\n",
    "    \n",
    "    #Create a list of all the k fold train sets and validation sets. The list should be comprised of tuples, where the first \n",
    "    #element of the tuple is the train set and the second element is the validation set\n",
    "    \n",
    "    start_stop_tuples=[]\n",
    "    for i in range(k-1):\n",
    "        start_stop_tuples.append((i*step,(i+1)*step))\n",
    "    start_stop_tuples.append(((k-1)*step,n))\n",
    "    \n",
    "    #Create a list of all the k fold train sets and validation sets. The list should be comprised of tuples, where the first \n",
    "    #element of the tuple is the train set and the second element is the validation set\n",
    "\n",
    "    kfold_train_valid_sets=[]\n",
    "    for tup in start_stop_tuples:\n",
    "        validation=df[tup[0]:tup[1]]\n",
    "        train=pd.concat([df[:tup[0]],df[tup[1]:]])\n",
    "        kfold_train_valid_sets.append((train,validation))\n",
    "        \n",
    "    validation_errors=[]\n",
    "    x_column_list=list(df.columns[df.columns!=ycolumn])\n",
    "    for fold in kfold_train_valid_sets: \n",
    "        X_train=fold[0][x_column_list]\n",
    "        y_train=fold[0][ycolumn]\n",
    "        X_valid=fold[1][x_column_list]\n",
    "        y_valid=fold[1][ycolumn]\n",
    "        model=Ridge(alpha,normalize=True).fit(X_train,y_train)\n",
    "        RSS=rss(y_valid,model.predict(X_valid))\n",
    "        validation_errors.append(RSS)\n",
    "    return np.mean(validation_errors)"
   ]
  },
  {
   "cell_type": "code",
   "execution_count": 220,
   "metadata": {
    "collapsed": false
   },
   "outputs": [],
   "source": [
    "df_k_poly15=polynomial_df(train_valid_shuffled.sqft_living,15)\n",
    "df_k_poly15[\"price\"]=train_valid_shuffled.price"
   ]
  },
  {
   "cell_type": "code",
   "execution_count": 221,
   "metadata": {
    "collapsed": false
   },
   "outputs": [
    {
     "data": {
      "text/plain": [
       "131792123199160.22"
      ]
     },
     "execution_count": 221,
     "metadata": {},
     "output_type": "execute_result"
    }
   ],
   "source": [
    "kfold_valid_error(10,1,df_k_poly15,\"price\")"
   ]
  },
  {
   "cell_type": "markdown",
   "metadata": {},
   "source": [
    "For each alpha in [10^3, 10^3.5, 10^4, 10^4.5, ..., 10^9], compute the error with k=10 fold cross validation. "
   ]
  },
  {
   "cell_type": "code",
   "execution_count": 226,
   "metadata": {
    "collapsed": false
   },
   "outputs": [],
   "source": [
    "the_error_list=[]\n",
    "for a in np.logspace(3, 9, num=13):\n",
    "    error=kfold_valid_error(10,a,df_k_poly15,\"price\")\n",
    "    the_error_list.append(error)"
   ]
  },
  {
   "cell_type": "code",
   "execution_count": 227,
   "metadata": {
    "collapsed": false
   },
   "outputs": [
    {
     "data": {
      "text/plain": [
       "[264977267565083.34,\n",
       " 265692934832402.59,\n",
       " 265924396419120.56,\n",
       " 265998117900716.56,\n",
       " 266021483761035.84,\n",
       " 266028878015365.19,\n",
       " 266031216816339.0,\n",
       " 266031956463403.06,\n",
       " 266032190365667.81,\n",
       " 266032264332591.06,\n",
       " 266032287723039.41,\n",
       " 266032295119753.69,\n",
       " 266032297458800.94]"
      ]
     },
     "execution_count": 227,
     "metadata": {},
     "output_type": "execute_result"
    }
   ],
   "source": [
    "error_list"
   ]
  },
  {
   "cell_type": "markdown",
   "metadata": {},
   "source": [
    "Using the best L2 penalty found above, train a model using all training data. What is the RSS on the TEST data of the model you learn with this L2 penalty?"
   ]
  },
  {
   "cell_type": "code",
   "execution_count": 231,
   "metadata": {
    "collapsed": true
   },
   "outputs": [],
   "source": [
    "X_opt_train=polynomial_df(train_df.sqft_living,15)\n",
    "y_opt_train=train_df.price\n",
    "X_opt_test=polynomial_df(test_df.sqft_living,15)\n",
    "y_opt_test=test_df.price"
   ]
  },
  {
   "cell_type": "code",
   "execution_count": 230,
   "metadata": {
    "collapsed": false
   },
   "outputs": [],
   "source": [
    "ridge_optimum=Ridge(1000,normalize=True).fit(X_opt_train,y_opt_train)"
   ]
  },
  {
   "cell_type": "code",
   "execution_count": 232,
   "metadata": {
    "collapsed": false
   },
   "outputs": [
    {
     "data": {
      "text/plain": [
       "283756877067954.9"
      ]
     },
     "execution_count": 232,
     "metadata": {},
     "output_type": "execute_result"
    }
   ],
   "source": [
    "rss(y_opt_test,ridge_optimum.predict(X_opt_test))"
   ]
  },
  {
   "cell_type": "code",
   "execution_count": null,
   "metadata": {
    "collapsed": true
   },
   "outputs": [],
   "source": []
  }
 ],
 "metadata": {
  "anaconda-cloud": {},
  "kernelspec": {
   "display_name": "Python [conda root]",
   "language": "python",
   "name": "conda-root-py"
  },
  "language_info": {
   "codemirror_mode": {
    "name": "ipython",
    "version": 3
   },
   "file_extension": ".py",
   "mimetype": "text/x-python",
   "name": "python",
   "nbconvert_exporter": "python",
   "pygments_lexer": "ipython3",
   "version": "3.5.2"
  }
 },
 "nbformat": 4,
 "nbformat_minor": 1
}
