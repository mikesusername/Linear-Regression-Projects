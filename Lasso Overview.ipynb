{
 "cells": [
  {
   "cell_type": "markdown",
   "metadata": {},
   "source": [
    "# Lasso from Scratch\n",
    "\n",
    "In this model we will explore the use of lasso linear regression, first with the sklearn environment on a derived data set. Then we will create the lasso algorithm from scratch and explore our algorithm, the model, and the parameters.\n",
    "\n",
    "The theory and method can be found in the pdf file titled \"Linear Regression.\""
   ]
  },
  {
   "cell_type": "code",
   "execution_count": 59,
   "metadata": {
    "collapsed": true
   },
   "outputs": [],
   "source": [
    "import pandas as pd\n",
    "import numpy as np\n",
    "import matplotlib.pyplot as plt\n",
    "from sklearn.linear_model import LinearRegression\n",
    "from sklearn.linear_model import Lasso\n",
    "import random\n",
    "import math\n",
    "%matplotlib inline"
   ]
  },
  {
   "cell_type": "markdown",
   "metadata": {},
   "source": [
    "## The Data\n",
    "We will generate a random set of x values. The y values will be sin(4x), with some noise added to it."
   ]
  },
  {
   "cell_type": "code",
   "execution_count": 60,
   "metadata": {
    "collapsed": true
   },
   "outputs": [],
   "source": [
    "#Create a random set of n x-values in the range [0,1)\n",
    "random.seed(98103)\n",
    "n=30\n",
    "x=[random.random() for i in range(n)]"
   ]
  },
  {
   "cell_type": "code",
   "execution_count": 61,
   "metadata": {
    "collapsed": true
   },
   "outputs": [],
   "source": [
    "x.sort()\n",
    "xseries=pd.Series(x)"
   ]
  },
  {
   "cell_type": "code",
   "execution_count": 62,
   "metadata": {
    "collapsed": true
   },
   "outputs": [],
   "source": [
    "#Create y values\n",
    "yseries=xseries.apply(lambda x: math.sin(4*x))"
   ]
  },
  {
   "cell_type": "code",
   "execution_count": 63,
   "metadata": {
    "collapsed": true
   },
   "outputs": [],
   "source": [
    "#Add some random Guasian noise to the data\n",
    "random.seed(1)\n",
    "noise=pd.Series([random.gauss(0,1.0/3.0) for i in range(n)])\n",
    "yseries=yseries+noise"
   ]
  },
  {
   "cell_type": "code",
   "execution_count": 64,
   "metadata": {
    "collapsed": true
   },
   "outputs": [],
   "source": [
    "def rss(ytrue,ypredict):\n",
    "    return ((ytrue-ypredict)**2).sum()"
   ]
  },
  {
   "cell_type": "code",
   "execution_count": 65,
   "metadata": {
    "collapsed": true
   },
   "outputs": [],
   "source": [
    "#Let's create a test set\n",
    "random.seed(384)\n",
    "xtest=[random.random() for i in range(n)]"
   ]
  },
  {
   "cell_type": "code",
   "execution_count": 66,
   "metadata": {
    "collapsed": true
   },
   "outputs": [],
   "source": [
    "xtest.sort()\n",
    "xtest=pd.Series(xtest)\n",
    "ytest=xtest.apply(lambda x: math.sin(4*x))"
   ]
  },
  {
   "cell_type": "code",
   "execution_count": 67,
   "metadata": {
    "collapsed": true
   },
   "outputs": [],
   "source": [
    "#Add some random Guasian noise to the data\n",
    "random.seed(797)\n",
    "noise2=pd.Series([random.gauss(0,1.0/3.0) for i in range(n)])\n",
    "ytest=ytest+noise"
   ]
  },
  {
   "cell_type": "markdown",
   "metadata": {},
   "source": [
    "## Plot the Data"
   ]
  },
  {
   "cell_type": "code",
   "execution_count": 68,
   "metadata": {
    "collapsed": false
   },
   "outputs": [
    {
     "data": {
      "text/plain": [
       "[<matplotlib.lines.Line2D at 0x1a55d9c3a58>]"
      ]
     },
     "execution_count": 68,
     "metadata": {},
     "output_type": "execute_result"
    },
    {
     "data": {
      "image/png": "[encoded data removed]",
      "text/plain": [
       "<matplotlib.figure.Figure at 0x1a55d6b3a58>"
      ]
     },
     "metadata": {},
     "output_type": "display_data"
    }
   ],
   "source": [
    "plt.plot(xseries,yseries,\".\")"
   ]
  },
  {
   "cell_type": "markdown",
   "metadata": {},
   "source": [
    "## Our Models"
   ]
  },
  {
   "cell_type": "code",
   "execution_count": 172,
   "metadata": {
    "collapsed": true
   },
   "outputs": [],
   "source": [
    "#Define a function that takes an array feature and a maximal degree, then returns a data frame with the original feature as\n",
    "#the first column, then each subsequent column is the data of the first raised to increasing integer powers, up to the\n",
    "#maximal degree\n",
    "def polynomial_df(series,maxdegree):\n",
    "    poly_df=pd.DataFrame({\"x\":series})\n",
    "    orderlist=[\"x\"]\n",
    "    for degree in range(2,maxdegree+1):\n",
    "        poly_df[\"x^\"+str(degree)]=series**degree\n",
    "        orderlist.append(\"x^\"+str(degree))\n",
    "    return poly_df[orderlist]"
   ]
  },
  {
   "cell_type": "markdown",
   "metadata": {},
   "source": [
    "### Ordinary Least Squares (OLS)"
   ]
  },
  {
   "cell_type": "code",
   "execution_count": 173,
   "metadata": {
    "collapsed": true
   },
   "outputs": [],
   "source": [
    "#Create our x-values data frame with polynomial features up to degree 15\n",
    "X_poly15=polynomial_df(xseries,15)"
   ]
  },
  {
   "cell_type": "code",
   "execution_count": 174,
   "metadata": {
    "collapsed": false
   },
   "outputs": [
    {
     "data": {
      "text/html": [
       "<div>\n",
       "<style>\n",
       "    .dataframe thead tr:only-child th {\n",
       "        text-align: right;\n",
       "    }\n",
       "\n",
       "    .dataframe thead th {\n",
       "        text-align: left;\n",
       "    }\n",
       "\n",
       "    .dataframe tbody tr th {\n",
       "        vertical-align: top;\n",
       "    }\n",
       "</style>\n",
       "<table border=\"1\" class=\"dataframe\">\n",
       "  <thead>\n",
       "    <tr style=\"text-align: right;\">\n",
       "      <th></th>\n",
       "      <th>x</th>\n",
       "      <th>x^2</th>\n",
       "      <th>x^3</th>\n",
       "      <th>x^4</th>\n",
       "      <th>x^5</th>\n",
       "      <th>x^6</th>\n",
       "      <th>x^7</th>\n",
       "      <th>x^8</th>\n",
       "      <th>x^9</th>\n",
       "      <th>x^10</th>\n",
       "      <th>x^11</th>\n",
       "      <th>x^12</th>\n",
       "      <th>x^13</th>\n",
       "      <th>x^14</th>\n",
       "      <th>x^15</th>\n",
       "    </tr>\n",
       "  </thead>\n",
       "  <tbody>\n",
       "    <tr>\n",
       "      <th>0</th>\n",
       "      <td>0.039579</td>\n",
       "      <td>0.001566</td>\n",
       "      <td>0.000062</td>\n",
       "      <td>0.000002</td>\n",
       "      <td>9.712277e-08</td>\n",
       "      <td>3.844017e-09</td>\n",
       "      <td>1.521421e-10</td>\n",
       "      <td>6.021625e-12</td>\n",
       "      <td>2.383296e-13</td>\n",
       "      <td>9.432833e-15</td>\n",
       "      <td>3.733416e-16</td>\n",
       "      <td>1.477647e-17</td>\n",
       "      <td>5.848369e-19</td>\n",
       "      <td>2.314723e-20</td>\n",
       "      <td>9.161429e-22</td>\n",
       "    </tr>\n",
       "    <tr>\n",
       "      <th>1</th>\n",
       "      <td>0.041568</td>\n",
       "      <td>0.001728</td>\n",
       "      <td>0.000072</td>\n",
       "      <td>0.000003</td>\n",
       "      <td>1.241083e-07</td>\n",
       "      <td>5.158947e-09</td>\n",
       "      <td>2.144476e-10</td>\n",
       "      <td>8.914179e-12</td>\n",
       "      <td>3.705455e-13</td>\n",
       "      <td>1.540287e-14</td>\n",
       "      <td>6.402681e-16</td>\n",
       "      <td>2.661473e-17</td>\n",
       "      <td>1.106324e-18</td>\n",
       "      <td>4.598777e-20</td>\n",
       "      <td>1.911624e-21</td>\n",
       "    </tr>\n",
       "    <tr>\n",
       "      <th>2</th>\n",
       "      <td>0.072432</td>\n",
       "      <td>0.005246</td>\n",
       "      <td>0.000380</td>\n",
       "      <td>0.000028</td>\n",
       "      <td>1.993659e-06</td>\n",
       "      <td>1.444046e-07</td>\n",
       "      <td>1.045951e-08</td>\n",
       "      <td>7.576024e-10</td>\n",
       "      <td>5.487462e-11</td>\n",
       "      <td>3.974675e-12</td>\n",
       "      <td>2.878935e-13</td>\n",
       "      <td>2.085269e-14</td>\n",
       "      <td>1.510401e-15</td>\n",
       "      <td>1.094013e-16</td>\n",
       "      <td>7.924146e-18</td>\n",
       "    </tr>\n",
       "    <tr>\n",
       "      <th>3</th>\n",
       "      <td>0.150289</td>\n",
       "      <td>0.022587</td>\n",
       "      <td>0.003395</td>\n",
       "      <td>0.000510</td>\n",
       "      <td>7.667197e-05</td>\n",
       "      <td>1.152296e-05</td>\n",
       "      <td>1.731774e-06</td>\n",
       "      <td>2.602667e-07</td>\n",
       "      <td>3.911523e-08</td>\n",
       "      <td>5.878591e-09</td>\n",
       "      <td>8.834878e-10</td>\n",
       "      <td>1.327785e-10</td>\n",
       "      <td>1.995516e-11</td>\n",
       "      <td>2.999042e-12</td>\n",
       "      <td>4.507231e-13</td>\n",
       "    </tr>\n",
       "    <tr>\n",
       "      <th>4</th>\n",
       "      <td>0.161334</td>\n",
       "      <td>0.026029</td>\n",
       "      <td>0.004199</td>\n",
       "      <td>0.000677</td>\n",
       "      <td>1.093028e-04</td>\n",
       "      <td>1.763428e-05</td>\n",
       "      <td>2.845012e-06</td>\n",
       "      <td>4.589975e-07</td>\n",
       "      <td>7.405197e-08</td>\n",
       "      <td>1.194711e-08</td>\n",
       "      <td>1.927477e-09</td>\n",
       "      <td>3.109678e-10</td>\n",
       "      <td>5.016973e-11</td>\n",
       "      <td>8.094091e-12</td>\n",
       "      <td>1.305853e-12</td>\n",
       "    </tr>\n",
       "  </tbody>\n",
       "</table>\n",
       "</div>"
      ],
      "text/plain": [
       "          x       x^2       x^3       x^4           x^5           x^6  \\\n",
       "0  0.039579  0.001566  0.000062  0.000002  9.712277e-08  3.844017e-09   \n",
       "1  0.041568  0.001728  0.000072  0.000003  1.241083e-07  5.158947e-09   \n",
       "2  0.072432  0.005246  0.000380  0.000028  1.993659e-06  1.444046e-07   \n",
       "3  0.150289  0.022587  0.003395  0.000510  7.667197e-05  1.152296e-05   \n",
       "4  0.161334  0.026029  0.004199  0.000677  1.093028e-04  1.763428e-05   \n",
       "\n",
       "            x^7           x^8           x^9          x^10          x^11  \\\n",
       "0  1.521421e-10  6.021625e-12  2.383296e-13  9.432833e-15  3.733416e-16   \n",
       "1  2.144476e-10  8.914179e-12  3.705455e-13  1.540287e-14  6.402681e-16   \n",
       "2  1.045951e-08  7.576024e-10  5.487462e-11  3.974675e-12  2.878935e-13   \n",
       "3  1.731774e-06  2.602667e-07  3.911523e-08  5.878591e-09  8.834878e-10   \n",
       "4  2.845012e-06  4.589975e-07  7.405197e-08  1.194711e-08  1.927477e-09   \n",
       "\n",
       "           x^12          x^13          x^14          x^15  \n",
       "0  1.477647e-17  5.848369e-19  2.314723e-20  9.161429e-22  \n",
       "1  2.661473e-17  1.106324e-18  4.598777e-20  1.911624e-21  \n",
       "2  2.085269e-14  1.510401e-15  1.094013e-16  7.924146e-18  \n",
       "3  1.327785e-10  1.995516e-11  2.999042e-12  4.507231e-13  \n",
       "4  3.109678e-10  5.016973e-11  8.094091e-12  1.305853e-12  "
      ]
     },
     "execution_count": 174,
     "metadata": {},
     "output_type": "execute_result"
    }
   ],
   "source": [
    "X_poly15.head()"
   ]
  },
  {
   "cell_type": "code",
   "execution_count": 175,
   "metadata": {
    "collapsed": true
   },
   "outputs": [],
   "source": [
    "olr=LinearRegression().fit(X_poly15,yseries)"
   ]
  },
  {
   "cell_type": "code",
   "execution_count": 176,
   "metadata": {
    "collapsed": false
   },
   "outputs": [
    {
     "data": {
      "text/plain": [
       "array([  1.68855017e+03,  -5.21795543e+04,   9.06187315e+05,\n",
       "        -1.01385803e+07,   7.81815884e+07,  -4.30158915e+08,\n",
       "         1.72002969e+09,  -5.04552140e+09,   1.08860248e+10,\n",
       "        -1.71957853e+10,   1.96084214e+10,  -1.56882427e+10,\n",
       "         8.34643053e+09,  -2.64973280e+09,   3.79636460e+08])"
      ]
     },
     "execution_count": 176,
     "metadata": {},
     "output_type": "execute_result"
    }
   ],
   "source": [
    "olr.coef_"
   ]
  },
  {
   "cell_type": "markdown",
   "metadata": {},
   "source": [
    "We see that the higher order terms have large coefficients, on the order of e10"
   ]
  },
  {
   "cell_type": "code",
   "execution_count": 177,
   "metadata": {
    "collapsed": true
   },
   "outputs": [],
   "source": [
    "y_predict_olr=olr.predict(X_poly15)"
   ]
  },
  {
   "cell_type": "code",
   "execution_count": 178,
   "metadata": {
    "collapsed": false
   },
   "outputs": [
    {
     "data": {
      "text/plain": [
       "[<matplotlib.lines.Line2D at 0x1a55f341a20>,\n",
       " <matplotlib.lines.Line2D at 0x1a55f3416d8>]"
      ]
     },
     "execution_count": 178,
     "metadata": {},
     "output_type": "execute_result"
    },
    {
     "data": {
      "image/png": "[encoded data removed]",
      "text/plain": [
       "<matplotlib.figure.Figure at 0x1a55f27a9b0>"
      ]
     },
     "metadata": {},
     "output_type": "display_data"
    }
   ],
   "source": [
    "plt.plot(xseries,yseries,\".\",xseries,y_predict_olr,\"-\")"
   ]
  },
  {
   "cell_type": "markdown",
   "metadata": {},
   "source": [
    "Overfit indeed! Let's see how this overfit model performs on a test set"
   ]
  },
  {
   "cell_type": "code",
   "execution_count": 179,
   "metadata": {
    "collapsed": true
   },
   "outputs": [],
   "source": [
    "X_poly15test=polynomial_df(xtest,15)\n",
    "y_predict_test=olr.predict(X_poly15test)"
   ]
  },
  {
   "cell_type": "code",
   "execution_count": 180,
   "metadata": {
    "collapsed": false
   },
   "outputs": [
    {
     "data": {
      "text/plain": [
       "(-2, 2)"
      ]
     },
     "execution_count": 180,
     "metadata": {},
     "output_type": "execute_result"
    },
    {
     "data": {
      "image/png": "[encoded data removed]",
      "text/plain": [
       "<matplotlib.figure.Figure at 0x1a55f33e9e8>"
      ]
     },
     "metadata": {},
     "output_type": "display_data"
    }
   ],
   "source": [
    "plt.figure()\n",
    "plt.plot(xtest,ytest,\".\",color=\"blue\")\n",
    "plt.plot(xtest,y_predict_test,\"-\",color=\"red\")\n",
    "plt.xlim(0,.8)\n",
    "plt.ylim(-2,2)"
   ]
  },
  {
   "cell_type": "markdown",
   "metadata": {},
   "source": [
    "It doesn't look like a great fit. This notion is reinforced when we look at the largest x values..."
   ]
  },
  {
   "cell_type": "code",
   "execution_count": 181,
   "metadata": {
    "collapsed": false
   },
   "outputs": [
    {
     "data": {
      "text/plain": [
       "(-2, 100)"
      ]
     },
     "execution_count": 181,
     "metadata": {},
     "output_type": "execute_result"
    },
    {
     "data": {
      "image/png": "[encoded data removed]",
      "text/plain": [
       "<matplotlib.figure.Figure at 0x1a55f1044e0>"
      ]
     },
     "metadata": {},
     "output_type": "display_data"
    }
   ],
   "source": [
    "plt.figure()\n",
    "plt.plot(xtest,ytest,\".\",color=\"blue\")\n",
    "plt.plot(xtest,y_predict_test,\"-\",color=\"red\")\n",
    "plt.xlim(0.8,1)\n",
    "plt.ylim(-2,100)"
   ]
  },
  {
   "cell_type": "code",
   "execution_count": 182,
   "metadata": {
    "collapsed": false
   },
   "outputs": [
    {
     "name": "stdout",
     "output_type": "stream",
     "text": [
      "RSS Train: 0.8899916717552098\n",
      "RSS Test 56004.5712077273\n"
     ]
    }
   ],
   "source": [
    "print(\"RSS Train: {}\\nRSS Test {}\".format(rss(yseries,y_predict_olr),rss(ytest,y_predict_test)))"
   ]
  },
  {
   "cell_type": "markdown",
   "metadata": {},
   "source": [
    "That's about as overfit as you can get!!\n",
    "\n",
    "We see that the tail end shoots off to infinity. Is it the tail that is contributing to the high rss value? What is the rss for the more reasonable interval plotted above?"
   ]
  },
  {
   "cell_type": "code",
   "execution_count": 183,
   "metadata": {
    "collapsed": false
   },
   "outputs": [
    {
     "name": "stdout",
     "output_type": "stream",
     "text": [
      "Train: 0.873222030314539\n",
      "Test: 3.605443396298777\n"
     ]
    }
   ],
   "source": [
    "print(\"Train: {}\\nTest: {}\".format(rss(yseries[:24],olr.predict(X_poly15.iloc[:24])),\n",
    "                                   rss(ytest[:24],olr.predict(X_poly15test.iloc[:24]))))\n",
    "                                   "
   ]
  },
  {
   "cell_type": "markdown",
   "metadata": {},
   "source": [
    "The error is much smaller on this \"better fitting\" portion but we still see that it is quite a bit higher than the test set.\n",
    "We still can conclude that on even on this \"better fitting\" portion, the model is still overfit."
   ]
  },
  {
   "cell_type": "markdown",
   "metadata": {},
   "source": [
    "### Lasso Regression\n",
    "\n",
    "Let's take a look at lasso regression to see if it helps us avoid overfitting and see if it can reduce our features"
   ]
  },
  {
   "cell_type": "code",
   "execution_count": 184,
   "metadata": {
    "collapsed": true
   },
   "outputs": [],
   "source": [
    "alphas1=[.001,.005,.01,.05,.1]"
   ]
  },
  {
   "cell_type": "code",
   "execution_count": 185,
   "metadata": {
    "collapsed": false
   },
   "outputs": [],
   "source": [
    "model_list1=[]\n",
    "for alpha in alphas1:\n",
    "    model=Lasso(alpha=alpha).fit(X_poly15,yseries)\n",
    "    model_list1.append(model)"
   ]
  },
  {
   "cell_type": "code",
   "execution_count": 186,
   "metadata": {
    "collapsed": false
   },
   "outputs": [
    {
     "name": "stdout",
     "output_type": "stream",
     "text": [
      "\n",
      "Intercept: 0.3353914440440979\n",
      "Coefficients: [ 1.37300157  0.         -0.         -2.88580818 -0.18099104 -0.         -0.\n",
      " -0.         -0.          0.          0.          0.          0.          0.\n",
      "  0.        ]\n",
      "\n",
      "Intercept: 0.49353912522465726\n",
      "Coefficients: [ 0.69397648  0.         -0.         -0.         -2.53762454 -0.         -0.\n",
      " -0.         -0.         -0.         -0.         -0.         -0.         -0.\n",
      " -0.        ]\n",
      "\n",
      "Intercept: 0.627979703688736\n",
      "Coefficients: [ 0.26183637  0.         -0.         -0.         -1.96011288 -0.         -0.\n",
      " -0.         -0.         -0.         -0.         -0.         -0.         -0.\n",
      " -0.        ]\n",
      "\n",
      "Intercept: 0.6002703896514232\n",
      "Coefficients: [-0.         -0.         -0.         -0.74252833 -0.         -0.         -0.\n",
      " -0.         -0.         -0.         -0.         -0.         -0.         -0.\n",
      " -0.        ]\n",
      "\n",
      "Intercept: 0.4526915093969324\n",
      "Coefficients: [-0. -0. -0. -0. -0. -0. -0. -0. -0. -0. -0. -0. -0. -0. -0.]\n"
     ]
    }
   ],
   "source": [
    "#Let's look at the coefficients\n",
    "for model in model_list1:\n",
    "    print(\"\\nIntercept: {}\".format(model.intercept_))\n",
    "    print(\"Coefficients: {}\".format(model.coef_))"
   ]
  },
  {
   "cell_type": "markdown",
   "metadata": {},
   "source": [
    "We notice that not only are the coefficients subdued, a lot are zero. The greater the alpha value, the fewer non zero terms we have. Let us plot these models, to see how they fit the data"
   ]
  },
  {
   "cell_type": "code",
   "execution_count": 187,
   "metadata": {
    "collapsed": false
   },
   "outputs": [
    {
     "data": {
      "text/plain": [
       "<matplotlib.legend.Legend at 0x1a55fa4e8d0>"
      ]
     },
     "execution_count": 187,
     "metadata": {},
     "output_type": "execute_result"
    },
    {
     "data": {
      "image/png": "[encoded data removed]",
      "text/plain": [
       "<matplotlib.figure.Figure at 0x1a55f7c8e80>"
      ]
     },
     "metadata": {},
     "output_type": "display_data"
    }
   ],
   "source": [
    "plt.figure(figsize=(15,10))\n",
    "plt.plot(xseries,yseries,\".\",color=\"blue\")\n",
    "plt.plot(xseries,model_list1[0].predict(X_poly15),\"-\",color=\"red\",label=\"Alpha: 0.001\")\n",
    "plt.plot(xseries,model_list1[1].predict(X_poly15),\"-\",color=\"green\",label=\"Alpha: 0.005\")\n",
    "plt.plot(xseries,model_list1[2].predict(X_poly15),\"-\",color=\"black\",label=\"Alpha: 0.01\")\n",
    "plt.plot(xseries,model_list1[3].predict(X_poly15),\"-\",color=\"orange\",label=\"Alpha: 0.05\")\n",
    "plt.plot(xseries,model_list1[4].predict(X_poly15),\"-\",color=\"purple\",label=\"Alpha: 0.1\")\n",
    "plt.xlabel(\"x\")\n",
    "plt.ylabel(\"y\")\n",
    "plt.legend()"
   ]
  },
  {
   "cell_type": "markdown",
   "metadata": {},
   "source": [
    "The smallest value of alpha looks like a good fit. It does not appear to be overfit and it has the advantage of having few features. Let's take a look at the error"
   ]
  },
  {
   "cell_type": "code",
   "execution_count": 188,
   "metadata": {
    "collapsed": false
   },
   "outputs": [
    {
     "name": "stdout",
     "output_type": "stream",
     "text": [
      "Train RSS: 1.9185209995315236\n",
      "Test RSS: 2.4595718947621728\n"
     ]
    }
   ],
   "source": [
    "print(\"Train RSS: {}\\nTest RSS: {}\".format(rss(yseries,model_list1[0].predict(X_poly15)),\n",
    "                                          rss(ytest,model_list1[0].predict(X_poly15test))))"
   ]
  },
  {
   "cell_type": "markdown",
   "metadata": {},
   "source": [
    "This is a much better test score. The train score is lower, but for the purpose of prediction, the test score is what we are most concerned about."
   ]
  },
  {
   "cell_type": "markdown",
   "metadata": {},
   "source": [
    "## Coordinate Descent"
   ]
  },
  {
   "cell_type": "code",
   "execution_count": 120,
   "metadata": {
    "collapsed": true
   },
   "outputs": [],
   "source": [
    "def wj_generator(w,j):\n",
    "    return np.array(w.drop([j,]))"
   ]
  },
  {
   "cell_type": "code",
   "execution_count": 121,
   "metadata": {
    "collapsed": true
   },
   "outputs": [],
   "source": [
    "def Hj_generator(df,j):\n",
    "    return np.array(df.drop([df.columns[j],],axis=1))"
   ]
  },
  {
   "cell_type": "code",
   "execution_count": 122,
   "metadata": {
    "collapsed": true
   },
   "outputs": [],
   "source": [
    "def hj_generator(df,j):\n",
    "    return np.array(df[[df.columns[j],]]).reshape(1,-1)"
   ]
  },
  {
   "cell_type": "code",
   "execution_count": 123,
   "metadata": {
    "collapsed": true
   },
   "outputs": [],
   "source": [
    "def rhoj_generator(df,yvector,wvect,j):\n",
    "    return np.dot(hj_generator(df,j),(yvector-np.dot(Hj_generator(df,j),wj_generator(wvect,j))))"
   ]
  },
  {
   "cell_type": "code",
   "execution_count": 124,
   "metadata": {
    "collapsed": true
   },
   "outputs": [],
   "source": [
    "def zj_generator(df,j):\n",
    "    hj=df[df.columns[j]]\n",
    "    return (hj*hj).sum()"
   ]
  },
  {
   "cell_type": "code",
   "execution_count": 244,
   "metadata": {
    "collapsed": true
   },
   "outputs": [],
   "source": [
    "def polynomial_predict(xSeries,coef_vector,intercept=True):\n",
    "    output_list=[]\n",
    "    if intercept:\n",
    "        for input in xSeries:\n",
    "            sum_so_far=0\n",
    "            i=0\n",
    "            for coef in coef_vector:\n",
    "                sum_so_far+=(input**i)*coef\n",
    "                i+=1\n",
    "            output_list.append(sum_so_far)\n",
    "    else:\n",
    "        for input in xSeries:\n",
    "            sum_so_far=0\n",
    "            i=1\n",
    "            for coef in coef_vector:\n",
    "                sum_so_far+=(input**i)*coef\n",
    "                i+=1\n",
    "            output_list.append(sum_so_far)\n",
    "    return pd.Series(output_list)"
   ]
  },
  {
   "cell_type": "code",
   "execution_count": 317,
   "metadata": {
    "collapsed": true
   },
   "outputs": [],
   "source": [
    "def lasso_regressor(feature_dataframe,y_vector,w_0,alpha,max_iteration,epsilon):\n",
    "    wvector=w_0.copy()\n",
    "    w_previous=wvector.copy()\n",
    "    k=0\n",
    "    for iteration in range(max_iteration):\n",
    "        k+=1\n",
    "        for j in range(len(wvector)):\n",
    "            Rhoj=rhoj_generator(feature_dataframe,y_vector,wvector,j)\n",
    "            Zj=zj_generator(feature_dataframe,j)\n",
    "            if j==0:\n",
    "                jthW=Rhoj/Zj\n",
    "            else:\n",
    "                if Rhoj<(-alpha/2):\n",
    "                    jthW=(Rhoj+(alpha/2))/Zj\n",
    "                elif Rhoj>(alpha/2):\n",
    "                    jthW=(Rhoj-(alpha/2))/Zj\n",
    "                else:\n",
    "                    jthW=0\n",
    "            wvector[j]=jthW\n",
    "        #Check for convergence\n",
    "        biggest_difference=0\n",
    "        for i in range(len(wvector)):\n",
    "            diff=abs(wvector[i]-w_previous[i])\n",
    "            if diff>biggest_difference:\n",
    "                biggest_difference=diff\n",
    "        if biggest_difference<epsilon:\n",
    "            break\n",
    "        w_previous=wvector.copy()\n",
    "    print(\"Iterations: {}\",format(k))\n",
    "    return wvector"
   ]
  },
  {
   "cell_type": "markdown",
   "metadata": {},
   "source": [
    "## Manual Algorithm"
   ]
  },
  {
   "cell_type": "code",
   "execution_count": 318,
   "metadata": {
    "collapsed": true
   },
   "outputs": [],
   "source": [
    "xpoly_intercept_list=[\"intercept\"]+list(X_poly15.columns)"
   ]
  },
  {
   "cell_type": "code",
   "execution_count": 319,
   "metadata": {
    "collapsed": false
   },
   "outputs": [
    {
     "data": {
      "text/plain": [
       "['intercept',\n",
       " 'x',\n",
       " 'x^2',\n",
       " 'x^3',\n",
       " 'x^4',\n",
       " 'x^5',\n",
       " 'x^6',\n",
       " 'x^7',\n",
       " 'x^8',\n",
       " 'x^9',\n",
       " 'x^10',\n",
       " 'x^11',\n",
       " 'x^12',\n",
       " 'x^13',\n",
       " 'x^14',\n",
       " 'x^15']"
      ]
     },
     "execution_count": 319,
     "metadata": {},
     "output_type": "execute_result"
    }
   ],
   "source": [
    "xpoly_intercept_list"
   ]
  },
  {
   "cell_type": "code",
   "execution_count": 320,
   "metadata": {
    "collapsed": true
   },
   "outputs": [],
   "source": [
    "X_poly15_intercept=X_poly15.copy()"
   ]
  },
  {
   "cell_type": "code",
   "execution_count": 321,
   "metadata": {
    "collapsed": true
   },
   "outputs": [],
   "source": [
    "X_poly15_intercept[\"intercept\"]=1"
   ]
  },
  {
   "cell_type": "code",
   "execution_count": 322,
   "metadata": {
    "collapsed": true
   },
   "outputs": [],
   "source": [
    "X_poly15_intercept=X_poly15_intercept[xpoly_intercept_list]"
   ]
  },
  {
   "cell_type": "code",
   "execution_count": 323,
   "metadata": {
    "collapsed": false
   },
   "outputs": [
    {
     "data": {
      "text/html": [
       "<div>\n",
       "<style>\n",
       "    .dataframe thead tr:only-child th {\n",
       "        text-align: right;\n",
       "    }\n",
       "\n",
       "    .dataframe thead th {\n",
       "        text-align: left;\n",
       "    }\n",
       "\n",
       "    .dataframe tbody tr th {\n",
       "        vertical-align: top;\n",
       "    }\n",
       "</style>\n",
       "<table border=\"1\" class=\"dataframe\">\n",
       "  <thead>\n",
       "    <tr style=\"text-align: right;\">\n",
       "      <th></th>\n",
       "      <th>intercept</th>\n",
       "      <th>x</th>\n",
       "      <th>x^2</th>\n",
       "      <th>x^3</th>\n",
       "      <th>x^4</th>\n",
       "      <th>x^5</th>\n",
       "      <th>x^6</th>\n",
       "      <th>x^7</th>\n",
       "      <th>x^8</th>\n",
       "      <th>x^9</th>\n",
       "      <th>x^10</th>\n",
       "      <th>x^11</th>\n",
       "      <th>x^12</th>\n",
       "      <th>x^13</th>\n",
       "      <th>x^14</th>\n",
       "      <th>x^15</th>\n",
       "    </tr>\n",
       "  </thead>\n",
       "  <tbody>\n",
       "    <tr>\n",
       "      <th>0</th>\n",
       "      <td>1</td>\n",
       "      <td>0.039579</td>\n",
       "      <td>0.001566</td>\n",
       "      <td>0.000062</td>\n",
       "      <td>0.000002</td>\n",
       "      <td>9.712277e-08</td>\n",
       "      <td>3.844017e-09</td>\n",
       "      <td>1.521421e-10</td>\n",
       "      <td>6.021625e-12</td>\n",
       "      <td>2.383296e-13</td>\n",
       "      <td>9.432833e-15</td>\n",
       "      <td>3.733416e-16</td>\n",
       "      <td>1.477647e-17</td>\n",
       "      <td>5.848369e-19</td>\n",
       "      <td>2.314723e-20</td>\n",
       "      <td>9.161429e-22</td>\n",
       "    </tr>\n",
       "    <tr>\n",
       "      <th>1</th>\n",
       "      <td>1</td>\n",
       "      <td>0.041568</td>\n",
       "      <td>0.001728</td>\n",
       "      <td>0.000072</td>\n",
       "      <td>0.000003</td>\n",
       "      <td>1.241083e-07</td>\n",
       "      <td>5.158947e-09</td>\n",
       "      <td>2.144476e-10</td>\n",
       "      <td>8.914179e-12</td>\n",
       "      <td>3.705455e-13</td>\n",
       "      <td>1.540287e-14</td>\n",
       "      <td>6.402681e-16</td>\n",
       "      <td>2.661473e-17</td>\n",
       "      <td>1.106324e-18</td>\n",
       "      <td>4.598777e-20</td>\n",
       "      <td>1.911624e-21</td>\n",
       "    </tr>\n",
       "    <tr>\n",
       "      <th>2</th>\n",
       "      <td>1</td>\n",
       "      <td>0.072432</td>\n",
       "      <td>0.005246</td>\n",
       "      <td>0.000380</td>\n",
       "      <td>0.000028</td>\n",
       "      <td>1.993659e-06</td>\n",
       "      <td>1.444046e-07</td>\n",
       "      <td>1.045951e-08</td>\n",
       "      <td>7.576024e-10</td>\n",
       "      <td>5.487462e-11</td>\n",
       "      <td>3.974675e-12</td>\n",
       "      <td>2.878935e-13</td>\n",
       "      <td>2.085269e-14</td>\n",
       "      <td>1.510401e-15</td>\n",
       "      <td>1.094013e-16</td>\n",
       "      <td>7.924146e-18</td>\n",
       "    </tr>\n",
       "    <tr>\n",
       "      <th>3</th>\n",
       "      <td>1</td>\n",
       "      <td>0.150289</td>\n",
       "      <td>0.022587</td>\n",
       "      <td>0.003395</td>\n",
       "      <td>0.000510</td>\n",
       "      <td>7.667197e-05</td>\n",
       "      <td>1.152296e-05</td>\n",
       "      <td>1.731774e-06</td>\n",
       "      <td>2.602667e-07</td>\n",
       "      <td>3.911523e-08</td>\n",
       "      <td>5.878591e-09</td>\n",
       "      <td>8.834878e-10</td>\n",
       "      <td>1.327785e-10</td>\n",
       "      <td>1.995516e-11</td>\n",
       "      <td>2.999042e-12</td>\n",
       "      <td>4.507231e-13</td>\n",
       "    </tr>\n",
       "    <tr>\n",
       "      <th>4</th>\n",
       "      <td>1</td>\n",
       "      <td>0.161334</td>\n",
       "      <td>0.026029</td>\n",
       "      <td>0.004199</td>\n",
       "      <td>0.000677</td>\n",
       "      <td>1.093028e-04</td>\n",
       "      <td>1.763428e-05</td>\n",
       "      <td>2.845012e-06</td>\n",
       "      <td>4.589975e-07</td>\n",
       "      <td>7.405197e-08</td>\n",
       "      <td>1.194711e-08</td>\n",
       "      <td>1.927477e-09</td>\n",
       "      <td>3.109678e-10</td>\n",
       "      <td>5.016973e-11</td>\n",
       "      <td>8.094091e-12</td>\n",
       "      <td>1.305853e-12</td>\n",
       "    </tr>\n",
       "  </tbody>\n",
       "</table>\n",
       "</div>"
      ],
      "text/plain": [
       "   intercept         x       x^2       x^3       x^4           x^5  \\\n",
       "0          1  0.039579  0.001566  0.000062  0.000002  9.712277e-08   \n",
       "1          1  0.041568  0.001728  0.000072  0.000003  1.241083e-07   \n",
       "2          1  0.072432  0.005246  0.000380  0.000028  1.993659e-06   \n",
       "3          1  0.150289  0.022587  0.003395  0.000510  7.667197e-05   \n",
       "4          1  0.161334  0.026029  0.004199  0.000677  1.093028e-04   \n",
       "\n",
       "            x^6           x^7           x^8           x^9          x^10  \\\n",
       "0  3.844017e-09  1.521421e-10  6.021625e-12  2.383296e-13  9.432833e-15   \n",
       "1  5.158947e-09  2.144476e-10  8.914179e-12  3.705455e-13  1.540287e-14   \n",
       "2  1.444046e-07  1.045951e-08  7.576024e-10  5.487462e-11  3.974675e-12   \n",
       "3  1.152296e-05  1.731774e-06  2.602667e-07  3.911523e-08  5.878591e-09   \n",
       "4  1.763428e-05  2.845012e-06  4.589975e-07  7.405197e-08  1.194711e-08   \n",
       "\n",
       "           x^11          x^12          x^13          x^14          x^15  \n",
       "0  3.733416e-16  1.477647e-17  5.848369e-19  2.314723e-20  9.161429e-22  \n",
       "1  6.402681e-16  2.661473e-17  1.106324e-18  4.598777e-20  1.911624e-21  \n",
       "2  2.878935e-13  2.085269e-14  1.510401e-15  1.094013e-16  7.924146e-18  \n",
       "3  8.834878e-10  1.327785e-10  1.995516e-11  2.999042e-12  4.507231e-13  \n",
       "4  1.927477e-09  3.109678e-10  5.016973e-11  8.094091e-12  1.305853e-12  "
      ]
     },
     "execution_count": 323,
     "metadata": {},
     "output_type": "execute_result"
    }
   ],
   "source": [
    "X_poly15_intercept.head()"
   ]
  },
  {
   "cell_type": "code",
   "execution_count": 346,
   "metadata": {
    "collapsed": false
   },
   "outputs": [],
   "source": [
    "w16_not=pd.Series([0,]+[.1]*15)"
   ]
  },
  {
   "cell_type": "code",
   "execution_count": 381,
   "metadata": {
    "collapsed": false
   },
   "outputs": [
    {
     "name": "stdout",
     "output_type": "stream",
     "text": [
      "Iterations: {} 9\n"
     ]
    }
   ],
   "source": [
    "manual_coef=lasso_regressor(X_poly15_intercept,yseries,w16_not,.001,100,.1)"
   ]
  },
  {
   "cell_type": "code",
   "execution_count": 382,
   "metadata": {
    "collapsed": false
   },
   "outputs": [
    {
     "data": {
      "text/plain": [
       "0     0.720470\n",
       "1     0.537635\n",
       "2    -0.365489\n",
       "3    -0.539679\n",
       "4    -0.488790\n",
       "5    -0.388492\n",
       "6    -0.291864\n",
       "7    -0.211422\n",
       "8    -0.148460\n",
       "9    -0.097335\n",
       "10   -0.057922\n",
       "11   -0.028829\n",
       "12   -0.004475\n",
       "13    0.002184\n",
       "14    0.027197\n",
       "15    0.044321\n",
       "dtype: float64"
      ]
     },
     "execution_count": 382,
     "metadata": {},
     "output_type": "execute_result"
    }
   ],
   "source": [
    "manual_coef"
   ]
  },
  {
   "cell_type": "code",
   "execution_count": 383,
   "metadata": {
    "collapsed": true
   },
   "outputs": [],
   "source": [
    "y_manual_predict=polynomial_predict(xseries,manual_coef,intercept=True)"
   ]
  },
  {
   "cell_type": "code",
   "execution_count": 384,
   "metadata": {
    "collapsed": false
   },
   "outputs": [
    {
     "data": {
      "text/plain": [
       "[<matplotlib.lines.Line2D at 0x1a56266a2e8>]"
      ]
     },
     "execution_count": 384,
     "metadata": {},
     "output_type": "execute_result"
    },
    {
     "data": {
      "image/png": "[encoded data removed]",
      "text/plain": [
       "<matplotlib.figure.Figure at 0x1a5625e4320>"
      ]
     },
     "metadata": {},
     "output_type": "display_data"
    }
   ],
   "source": [
    "plt.figure()\n",
    "plt.plot(xseries,yseries,\".\",color=\"blue\")\n",
    "plt.plot(xseries,y_manual_intercept_included_predict,color=\"red\")"
   ]
  },
  {
   "cell_type": "code",
   "execution_count": 385,
   "metadata": {
    "collapsed": true
   },
   "outputs": [],
   "source": [
    "y_manual_test_predict=polynomial_predict(xtest,manual_coef,intercept=True)"
   ]
  },
  {
   "cell_type": "code",
   "execution_count": 386,
   "metadata": {
    "collapsed": false
   },
   "outputs": [
    {
     "name": "stdout",
     "output_type": "stream",
     "text": [
      "Train RSS: 2.71015640793861\n",
      "Test RSS: 2.20088813796404\n"
     ]
    }
   ],
   "source": [
    "print(\"Train RSS: {}\\nTest RSS: {}\".format(rss(yseries,y_manual_predict),\n",
    "                                          rss(ytest,y_manual_test_predict)))"
   ]
  },
  {
   "cell_type": "code",
   "execution_count": null,
   "metadata": {
    "collapsed": true
   },
   "outputs": [],
   "source": []
  }
 ],
 "metadata": {
  "anaconda-cloud": {},
  "kernelspec": {
   "display_name": "Python [conda root]",
   "language": "python",
   "name": "conda-root-py"
  },
  "language_info": {
   "codemirror_mode": {
    "name": "ipython",
    "version": 3
   },
   "file_extension": ".py",
   "mimetype": "text/x-python",
   "name": "python",
   "nbconvert_exporter": "python",
   "pygments_lexer": "ipython3",
   "version": "3.5.2"
  }
 },
 "nbformat": 4,
 "nbformat_minor": 1
}
