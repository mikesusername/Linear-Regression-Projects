{
 "cells": [
  {
   "cell_type": "markdown",
   "metadata": {},
   "source": [
    "# Simple Linear Regression Algorithm (from scratch)\n",
    "\n",
    "The purpose of this module is to create a simple (two dimensional) linear regression algorithm from scratch. We will first use a numerical method (gradient descent) to minimize our cost function. Then we will find an exact solution by setting the gradient of the cost function to zero.\n",
    "\n",
    "The complete description of the theory and method for the algorithm can be found in the pdf document titled \"Linear Regression.\""
   ]
  },
  {
   "cell_type": "code",
   "execution_count": 1,
   "metadata": {
    "collapsed": true
   },
   "outputs": [],
   "source": [
    "import pandas as pd\n",
    "import numpy as np\n",
    "import matplotlib\n",
    "import matplotlib.pyplot as plt\n",
    "import scipy.stats\n",
    "%matplotlib inline"
   ]
  },
  {
   "cell_type": "markdown",
   "metadata": {},
   "source": [
    "## Data Set\n",
    "Let's create a simple data set of roughly linear data in two dimensions. We will use this set to practice our algorithm with."
   ]
  },
  {
   "cell_type": "code",
   "execution_count": 2,
   "metadata": {
    "collapsed": false
   },
   "outputs": [],
   "source": [
    "x=list(range(6))\n",
    "y=[1,3,7,13,21,22]"
   ]
  },
  {
   "cell_type": "code",
   "execution_count": 3,
   "metadata": {
    "collapsed": false
   },
   "outputs": [
    {
     "data": {
      "text/plain": [
       "<matplotlib.collections.PathCollection at 0x24c48c7e0b8>"
      ]
     },
     "execution_count": 3,
     "metadata": {},
     "output_type": "execute_result"
    },
    {
     "data": {
      "image/png": "[encoded data removed]",
      "text/plain": [
       "<matplotlib.figure.Figure at 0x24c443f8358>"
      ]
     },
     "metadata": {},
     "output_type": "display_data"
    }
   ],
   "source": [
    "plt.figure()\n",
    "plt.scatter(x,y)"
   ]
  },
  {
   "cell_type": "code",
   "execution_count": 4,
   "metadata": {
    "collapsed": false
   },
   "outputs": [
    {
     "data": {
      "text/plain": [
       "LinregressResult(slope=4.7142857142857144, intercept=-0.6190476190476204, rvalue=0.9801595866926569, pvalue=0.00058655799031968534, stderr=0.47666642880922783)"
      ]
     },
     "execution_count": 4,
     "metadata": {},
     "output_type": "execute_result"
    }
   ],
   "source": [
    "#Line of best fit via scipy\n",
    "scipy.stats.linregress(x,y)"
   ]
  },
  {
   "cell_type": "markdown",
   "metadata": {},
   "source": [
    "# Manual Linear Regression (Numerical Method)\n",
    "Given values for intercept and slope (omega not and omega one, respectively), we will use an iterative process to determine new values of these parameters. The process works as follows: given initial values of the parameters, the next set of parameters will be the sum of the old and eta times the negative of the gradient of the residual sum of squares (the quantity we are trying to minimize), where eta is a pre determined step size. \n",
    "\n",
    "Our initial guess for the slope and intercept can be made my finding the equation of the line between the first and last data point. The iteration will stop when the gradient is smaller than a specified value (epsilon)."
   ]
  },
  {
   "cell_type": "code",
   "execution_count": 5,
   "metadata": {
    "collapsed": true
   },
   "outputs": [],
   "source": [
    "#Define functions that compute the partial derivatives of the residual sum of squares (evaluated at the given points)\n",
    "def omega_not_prime(yseries,xseries,omega_not,omega_one):\n",
    "    part_sum=yseries-(omega_not+(omega_one*xseries))\n",
    "    return part_sum.sum()\n",
    "\n",
    "def omega_one_prime(yseries,xseries,omega_not,omega_one):\n",
    "    part_sum=xseries*(yseries-(omega_not+(omega_one*xseries)))\n",
    "    return part_sum.sum()"
   ]
  },
  {
   "cell_type": "code",
   "execution_count": 6,
   "metadata": {
    "collapsed": true
   },
   "outputs": [],
   "source": [
    "xs=pd.Series(x)\n",
    "ys=pd.Series(y)"
   ]
  },
  {
   "cell_type": "code",
   "execution_count": 55,
   "metadata": {
    "collapsed": false
   },
   "outputs": [],
   "source": [
    "#The regressor function will take x values, y values, epsilon, eta, and maxitter as inputs. The x and y values must be pandas\n",
    "#series. Epsilon is a positive number and is the convergence criteria. Eta is the iteration step size. maxitter is a positive\n",
    "#integer specifying the maximum number of iterations to perform in the case of non convergence.\n",
    "def regressor(yseries,xseries,epsilon,eta,maxitter):\n",
    "    #Calculate initial slope as the slope between the first and last points\n",
    "    omega_one=(yseries[len(yseries)-1]-yseries[0])/(xseries[len(xseries)-1]-xseries[0])\n",
    "    #Calculate initial intercept using the slople calculated above and the first data point\n",
    "    omega_not=yseries[0]-(omega_one*xseries[0])\n",
    "    \n",
    "    \n",
    "    i=0\n",
    "    while True:\n",
    "        i+=1\n",
    "        o_not_p=omega_not_prime(yseries,xseries,omega_not,omega_one)\n",
    "        o_one_p=omega_one_prime(yseries,xseries,omega_not,omega_one)\n",
    "        omega_not=omega_not+(2*eta*o_not_p)\n",
    "        omega_one=omega_one+(2*eta*o_one_p)\n",
    "        if abs(o_not_p)<epsilon and abs(o_one_p)<epsilon:\n",
    "            break\n",
    "        if i>maxitter:\n",
    "            break\n",
    "    rss=((yseries-(omega_one*xseries+omega_not))**2).sum()\n",
    "    print(\"\\n\\nomega_not: {}\\nomega_one: {}\\niterations: {}\\nomega_not prime: {}\\nomega_one prime: {}\\nrss: {}\".format(omega_not,omega_one,\n",
    "                                                                                                  i,o_not_p,o_one_p,rss))\n",
    "    \n",
    "        "
   ]
  },
  {
   "cell_type": "code",
   "execution_count": 56,
   "metadata": {
    "collapsed": false
   },
   "outputs": [
    {
     "name": "stdout",
     "output_type": "stream",
     "text": [
      "\n",
      "\n",
      "omega_not: -0.619042299085834\n",
      "omega_one: 4.714284215062019\n",
      "iterations: 350\n",
      "omega_not prime: -9.778114995029341e-06\n",
      "omega_one prime: 2.7555802804002383e-06\n",
      "rss: 15.904761904816064\n"
     ]
    }
   ],
   "source": [
    "regressor(ys,xs,0.00001,.01,1000)"
   ]
  },
  {
   "cell_type": "markdown",
   "metadata": {},
   "source": [
    "# Manual Linear Regression (Setting Gradient of RSS to Zero)"
   ]
  },
  {
   "cell_type": "code",
   "execution_count": 61,
   "metadata": {
    "collapsed": false
   },
   "outputs": [],
   "source": [
    "#Setting the gradient of the rss to zero and solving for omega_one and omega_not, we arrive at the following functions\n",
    "def omega_one_calculator(xseries,yseries):\n",
    "    numerator=(xseries*yseries).sum()-(yseries.sum()*xseries.sum()/len(xseries))\n",
    "    denominator=(xseries*xseries).sum()-((xseries.sum()**2))/len(xseries)\n",
    "    return numerator/denominator\n",
    "\n",
    "def omega_not_calculator(xseries,yseries):\n",
    "    return (yseries.sum()/len(xseries))-(omega_one_calculator(xseries,yseries)*xseries.sum()/len(xseries))"
   ]
  },
  {
   "cell_type": "code",
   "execution_count": 63,
   "metadata": {
    "collapsed": false
   },
   "outputs": [
    {
     "name": "stdout",
     "output_type": "stream",
     "text": [
      "omega_one: 4.714285714285714\n",
      "omega_not: -0.6190476190476204\n"
     ]
    }
   ],
   "source": [
    "#Calculate the parameters for the series xs and ys\n",
    "print(\"omega_one: {}\\nomega_not: {}\".format(omega_one_calculator(xs,ys),omega_not_calculator(xs,ys)))"
   ]
  }
 ],
 "metadata": {
  "anaconda-cloud": {},
  "kernelspec": {
   "display_name": "Python [conda root]",
   "language": "python",
   "name": "conda-root-py"
  },
  "language_info": {
   "codemirror_mode": {
    "name": "ipython",
    "version": 3
   },
   "file_extension": ".py",
   "mimetype": "text/x-python",
   "name": "python",
   "nbconvert_exporter": "python",
   "pygments_lexer": "ipython3",
   "version": "3.5.2"
  }
 },
 "nbformat": 4,
 "nbformat_minor": 1
}
