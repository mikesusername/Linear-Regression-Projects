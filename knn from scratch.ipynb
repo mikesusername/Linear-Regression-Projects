{
 "cells": [
  {
   "cell_type": "markdown",
   "metadata": {},
   "source": [
    "# KNN From Scratch\n",
    "\n",
    "The purpose of this assignment is to develop a K nearest neighbors linear regression algorithm and test it on the familiar housing data that we have analyzed in other assignments (King county, Washington).\n",
    "\n",
    "After development of our algorithm, we will train a model and use it to answer a few questions (tasks)."
   ]
  },
  {
   "cell_type": "code",
   "execution_count": 86,
   "metadata": {
    "collapsed": true
   },
   "outputs": [],
   "source": [
    "import pandas as pd\n",
    "import matplotlib \n",
    "import matplotlib.pyplot as plt\n",
    "import numpy as np\n",
    "import random\n",
    "import math\n",
    "%matplotlib inline"
   ]
  },
  {
   "cell_type": "code",
   "execution_count": 2,
   "metadata": {
    "collapsed": true
   },
   "outputs": [],
   "source": [
    "dtype_dict = {'bathrooms':float, 'waterfront':int, 'sqft_above':int, 'sqft_living15':float, 'grade':int,\n",
    "              'yr_renovated':int, 'price':float, 'bedrooms':float, 'zipcode':str, 'long':float,\n",
    "              'sqft_lot15':float, 'sqft_living':float, 'floors':float, 'condition':int, 'lat':float,\n",
    "              'date':str, 'sqft_basement':int, 'yr_built':int, 'id':str, 'sqft_lot':int, 'view':int}"
   ]
  },
  {
   "cell_type": "code",
   "execution_count": 286,
   "metadata": {
    "collapsed": false
   },
   "outputs": [],
   "source": [
    "train_df=pd.read_csv(\"kc_house_data_small_train.csv\",dtype=dtype_dict)\n",
    "test_df=pd.read_csv(\"kc_house_data_small_test.csv\",dtype=dtype_dict)\n",
    "validation_df=pd.read_csv(\"kc_house_data_validation.csv\",dtype=dtype_dict)"
   ]
  },
  {
   "cell_type": "code",
   "execution_count": 287,
   "metadata": {
    "collapsed": true
   },
   "outputs": [],
   "source": [
    "feature_list = ['bedrooms', 'bathrooms', 'sqft_living', 'sqft_lot', 'floors', 'waterfront',\n",
    "                'view', 'condition', 'grade', 'sqft_above', 'sqft_basement',    'yr_built', 'yr_renovated',\n",
    "                'lat', 'long', 'sqft_living15', 'sqft_lot15']"
   ]
  },
  {
   "cell_type": "code",
   "execution_count": 288,
   "metadata": {
    "collapsed": true
   },
   "outputs": [],
   "source": [
    "def normalize_features(feature_df):\n",
    "    output_df=pd.DataFrame()\n",
    "    norm_list=[]\n",
    "    for column in feature_df.columns:\n",
    "        norm=math.sqrt((feature_df[column]*feature_df[column]).sum())\n",
    "        normalized_series=feature_df[column]/norm\n",
    "        output_df[column]=normalized_series\n",
    "        norm_list.append(norm)\n",
    "    return (output_df,norm_list)"
   ]
  },
  {
   "cell_type": "code",
   "execution_count": 289,
   "metadata": {
    "collapsed": true
   },
   "outputs": [],
   "source": [
    "def rss(ytrue,ypredict):\n",
    "    return ((ytrue-ypredict)**2).sum()"
   ]
  },
  {
   "cell_type": "code",
   "execution_count": 292,
   "metadata": {
    "collapsed": false
   },
   "outputs": [],
   "source": [
    "#The knn_single() function takes as inputs: (1) a feature dataframe, where the columns are (normalized) features, and the rows\n",
    "#are data points; and (2) a \"query data point\" that is in the form of a series, where the elements represent the feature value\n",
    "#of a single data point, and they are in the same order as the features in the feature matrix; and a k value.\n",
    "#The function converts the series to a dataframe where the columns represent the features (similar to the feature dataframe),\n",
    "#and each row is a replica of the single query data point. Thus, the query dataframe will have the same value for every row \n",
    "#in a particular column. \n",
    "#The feature dataframe is a feature dataframe of N datapoints, whereas, the query dataframe is a feature dataframe of the\n",
    "#same data point repeated n times.\n",
    "#Then we do matrix arithmatic on the data frames. We first subtract the dataframes, then square them, then sum by rows,\n",
    "#to get a series of the sum of square differences. Then we take the square root. The result is a series of euclidian distances\n",
    "#from the query point to all other data points.\n",
    "\n",
    "#We then sort the distances and return the top k entries\n",
    "\n",
    "def knn_single(query_series,train_features,k):\n",
    "    query_dict={}\n",
    "    column_list=list(train_features.columns)\n",
    "    for i in range(len(column_list)):\n",
    "        query_dict[column_list[i]]=[query_series[i],]*len(train_features)\n",
    "    query_df=pd.DataFrame(query_dict,index=list(train_features.index))\n",
    "    query_df=query_df[column_list]\n",
    "    distances=np.sqrt(((train_features-query_df)**2).sum(axis=1))\n",
    "    distances.sort_values(inplace=True)\n",
    "    return distances[:k]"
   ]
  },
  {
   "cell_type": "code",
   "execution_count": 293,
   "metadata": {
    "collapsed": true
   },
   "outputs": [],
   "source": [
    "def knn_predict(x_test_df,y_train,train_features,k):\n",
    "    outputlist=[]\n",
    "    for item in x_test_df.iterrows():\n",
    "        output_series=knn_single(item[1],train_features,k)\n",
    "        sumsofar=0\n",
    "        for index in list(output_series.index):\n",
    "            sumsofar+=y_train[index]\n",
    "        yav=sumsofar/len(output_series.index)\n",
    "        outputlist.append(yav)\n",
    "    return outputlist"
   ]
  },
  {
   "cell_type": "markdown",
   "metadata": {},
   "source": [
    "## Test\n",
    "\n",
    "Let's test our function"
   ]
  },
  {
   "cell_type": "code",
   "execution_count": 294,
   "metadata": {
    "collapsed": false
   },
   "outputs": [],
   "source": [
    "#Create a random set of n x-values in the range [0,1)\n",
    "random.seed(98103)\n",
    "n=30\n",
    "x=[random.random() for i in range(n)]"
   ]
  },
  {
   "cell_type": "code",
   "execution_count": 295,
   "metadata": {
    "collapsed": true
   },
   "outputs": [],
   "source": [
    "x.sort()\n",
    "xseries=pd.Series(x)"
   ]
  },
  {
   "cell_type": "code",
   "execution_count": 296,
   "metadata": {
    "collapsed": false
   },
   "outputs": [],
   "source": [
    "#Create y values\n",
    "yseries=xseries.apply(lambda x: math.sin(4*x))"
   ]
  },
  {
   "cell_type": "code",
   "execution_count": 297,
   "metadata": {
    "collapsed": true
   },
   "outputs": [],
   "source": [
    "#Add some random Guasian noise to the data\n",
    "random.seed(1)\n",
    "noise=pd.Series([random.gauss(0,1.0/3.0) for i in range(n)])\n",
    "yseries=yseries+noise"
   ]
  },
  {
   "cell_type": "code",
   "execution_count": 298,
   "metadata": {
    "collapsed": true
   },
   "outputs": [],
   "source": [
    "x_train_df=pd.DataFrame({\"x\":xseries})"
   ]
  },
  {
   "cell_type": "code",
   "execution_count": 299,
   "metadata": {
    "collapsed": true
   },
   "outputs": [],
   "source": [
    "xtest=[random.random() for i in range(n)]"
   ]
  },
  {
   "cell_type": "code",
   "execution_count": 300,
   "metadata": {
    "collapsed": false
   },
   "outputs": [],
   "source": [
    "xtest.sort()\n",
    "xtestseries=pd.Series(x)"
   ]
  },
  {
   "cell_type": "code",
   "execution_count": 301,
   "metadata": {
    "collapsed": true
   },
   "outputs": [],
   "source": [
    "xtestdf=pd.DataFrame({\"x\":xtestseries})"
   ]
  },
  {
   "cell_type": "code",
   "execution_count": 302,
   "metadata": {
    "collapsed": false
   },
   "outputs": [],
   "source": [
    "y_predict=knn_predict(xtestdf,yseries,x_train_df,2)"
   ]
  },
  {
   "cell_type": "code",
   "execution_count": 303,
   "metadata": {
    "collapsed": false
   },
   "outputs": [
    {
     "data": {
      "text/plain": [
       "[<matplotlib.lines.Line2D at 0x1c299793ef0>]"
      ]
     },
     "execution_count": 303,
     "metadata": {},
     "output_type": "execute_result"
    },
    {
     "data": {
      "image/png": "[encoded data removed]",
      "text/plain": [
       "<matplotlib.figure.Figure at 0x1c299483be0>"
      ]
     },
     "metadata": {},
     "output_type": "display_data"
    }
   ],
   "source": [
    "plt.figure()\n",
    "plt.plot(xseries,yseries,\".\",color=\"blue\")\n",
    "plt.plot(xseries,y_predict,\"-\",color=\"red\")"
   ]
  },
  {
   "cell_type": "markdown",
   "metadata": {},
   "source": [
    "Looks good."
   ]
  },
  {
   "cell_type": "markdown",
   "metadata": {},
   "source": [
    "## Normalize the Training Data"
   ]
  },
  {
   "cell_type": "code",
   "execution_count": 304,
   "metadata": {
    "collapsed": false
   },
   "outputs": [],
   "source": [
    "#Create feature dataframe with all features in feature_list plus a row called \"intercept\" that contains all ones.\n",
    "#First we extract the features from the train_df...\n",
    "train_feature_df=train_df[feature_list]"
   ]
  },
  {
   "cell_type": "code",
   "execution_count": 305,
   "metadata": {
    "collapsed": false
   },
   "outputs": [
    {
     "name": "stderr",
     "output_type": "stream",
     "text": [
      "C:\\Users\\Mike\\Anaconda3\\lib\\site-packages\\ipykernel\\__main__.py:2: SettingWithCopyWarning: \n",
      "A value is trying to be set on a copy of a slice from a DataFrame.\n",
      "Try using .loc[row_indexer,col_indexer] = value instead\n",
      "\n",
      "See the caveats in the documentation: http://pandas.pydata.org/pandas-docs/stable/indexing.html#indexing-view-versus-copy\n",
      "  from ipykernel import kernelapp as app\n"
     ]
    }
   ],
   "source": [
    "#Then we add a column of ones\n",
    "train_feature_df[\"intercept\"]=1"
   ]
  },
  {
   "cell_type": "code",
   "execution_count": 306,
   "metadata": {
    "collapsed": true
   },
   "outputs": [],
   "source": [
    "#Make sure columns are in correct order\n",
    "train_feature_df=train_feature_df[[\"intercept\",]+feature_list]"
   ]
  },
  {
   "cell_type": "code",
   "execution_count": 307,
   "metadata": {
    "collapsed": true
   },
   "outputs": [],
   "source": [
    "#Return a normalized dataset and a list of the norms\n",
    "dfandNorms=normalize_features(train_feature_df)"
   ]
  },
  {
   "cell_type": "code",
   "execution_count": 308,
   "metadata": {
    "collapsed": true
   },
   "outputs": [],
   "source": [
    "normalized_train_df=dfandNorms[0]\n",
    "norms=dfandNorms[1]"
   ]
  },
  {
   "cell_type": "code",
   "execution_count": 309,
   "metadata": {
    "collapsed": false
   },
   "outputs": [
    {
     "data": {
      "text/html": [
       "<div>\n",
       "<style>\n",
       "    .dataframe thead tr:only-child th {\n",
       "        text-align: right;\n",
       "    }\n",
       "\n",
       "    .dataframe thead th {\n",
       "        text-align: left;\n",
       "    }\n",
       "\n",
       "    .dataframe tbody tr th {\n",
       "        vertical-align: top;\n",
       "    }\n",
       "</style>\n",
       "<table border=\"1\" class=\"dataframe\">\n",
       "  <thead>\n",
       "    <tr style=\"text-align: right;\">\n",
       "      <th></th>\n",
       "      <th>intercept</th>\n",
       "      <th>bedrooms</th>\n",
       "      <th>bathrooms</th>\n",
       "      <th>sqft_living</th>\n",
       "      <th>sqft_lot</th>\n",
       "      <th>floors</th>\n",
       "      <th>waterfront</th>\n",
       "      <th>view</th>\n",
       "      <th>condition</th>\n",
       "      <th>grade</th>\n",
       "      <th>sqft_above</th>\n",
       "      <th>sqft_basement</th>\n",
       "      <th>yr_built</th>\n",
       "      <th>yr_renovated</th>\n",
       "      <th>lat</th>\n",
       "      <th>long</th>\n",
       "      <th>sqft_living15</th>\n",
       "      <th>sqft_lot15</th>\n",
       "    </tr>\n",
       "  </thead>\n",
       "  <tbody>\n",
       "    <tr>\n",
       "      <th>0</th>\n",
       "      <td>0.013451</td>\n",
       "      <td>0.011635</td>\n",
       "      <td>0.006025</td>\n",
       "      <td>0.007037</td>\n",
       "      <td>0.007337</td>\n",
       "      <td>0.008530</td>\n",
       "      <td>0.0</td>\n",
       "      <td>0.0</td>\n",
       "      <td>0.011632</td>\n",
       "      <td>0.012167</td>\n",
       "      <td>0.008117</td>\n",
       "      <td>0.000000</td>\n",
       "      <td>0.013339</td>\n",
       "      <td>0.000000</td>\n",
       "      <td>0.013437</td>\n",
       "      <td>-0.013456</td>\n",
       "      <td>0.008616</td>\n",
       "      <td>0.002292</td>\n",
       "    </tr>\n",
       "    <tr>\n",
       "      <th>1</th>\n",
       "      <td>0.013451</td>\n",
       "      <td>0.011635</td>\n",
       "      <td>0.013556</td>\n",
       "      <td>0.015326</td>\n",
       "      <td>0.009404</td>\n",
       "      <td>0.017059</td>\n",
       "      <td>0.0</td>\n",
       "      <td>0.0</td>\n",
       "      <td>0.011632</td>\n",
       "      <td>0.012167</td>\n",
       "      <td>0.014928</td>\n",
       "      <td>0.010234</td>\n",
       "      <td>0.013312</td>\n",
       "      <td>0.066508</td>\n",
       "      <td>0.013496</td>\n",
       "      <td>-0.013463</td>\n",
       "      <td>0.010866</td>\n",
       "      <td>0.003099</td>\n",
       "    </tr>\n",
       "    <tr>\n",
       "      <th>2</th>\n",
       "      <td>0.013451</td>\n",
       "      <td>0.007756</td>\n",
       "      <td>0.006025</td>\n",
       "      <td>0.004592</td>\n",
       "      <td>0.012985</td>\n",
       "      <td>0.008530</td>\n",
       "      <td>0.0</td>\n",
       "      <td>0.0</td>\n",
       "      <td>0.011632</td>\n",
       "      <td>0.010429</td>\n",
       "      <td>0.005297</td>\n",
       "      <td>0.000000</td>\n",
       "      <td>0.013189</td>\n",
       "      <td>0.000000</td>\n",
       "      <td>0.013501</td>\n",
       "      <td>-0.013454</td>\n",
       "      <td>0.017488</td>\n",
       "      <td>0.003270</td>\n",
       "    </tr>\n",
       "    <tr>\n",
       "      <th>3</th>\n",
       "      <td>0.013451</td>\n",
       "      <td>0.015513</td>\n",
       "      <td>0.018075</td>\n",
       "      <td>0.011688</td>\n",
       "      <td>0.006493</td>\n",
       "      <td>0.008530</td>\n",
       "      <td>0.0</td>\n",
       "      <td>0.0</td>\n",
       "      <td>0.019387</td>\n",
       "      <td>0.012167</td>\n",
       "      <td>0.007223</td>\n",
       "      <td>0.023282</td>\n",
       "      <td>0.013408</td>\n",
       "      <td>0.000000</td>\n",
       "      <td>0.013440</td>\n",
       "      <td>-0.013471</td>\n",
       "      <td>0.008744</td>\n",
       "      <td>0.002028</td>\n",
       "    </tr>\n",
       "    <tr>\n",
       "      <th>4</th>\n",
       "      <td>0.013451</td>\n",
       "      <td>0.011635</td>\n",
       "      <td>0.012050</td>\n",
       "      <td>0.010019</td>\n",
       "      <td>0.010492</td>\n",
       "      <td>0.008530</td>\n",
       "      <td>0.0</td>\n",
       "      <td>0.0</td>\n",
       "      <td>0.011632</td>\n",
       "      <td>0.013905</td>\n",
       "      <td>0.011557</td>\n",
       "      <td>0.000000</td>\n",
       "      <td>0.013558</td>\n",
       "      <td>0.000000</td>\n",
       "      <td>0.013467</td>\n",
       "      <td>-0.013433</td>\n",
       "      <td>0.011573</td>\n",
       "      <td>0.003043</td>\n",
       "    </tr>\n",
       "  </tbody>\n",
       "</table>\n",
       "</div>"
      ],
      "text/plain": [
       "   intercept  bedrooms  bathrooms  sqft_living  sqft_lot    floors  \\\n",
       "0   0.013451  0.011635   0.006025     0.007037  0.007337  0.008530   \n",
       "1   0.013451  0.011635   0.013556     0.015326  0.009404  0.017059   \n",
       "2   0.013451  0.007756   0.006025     0.004592  0.012985  0.008530   \n",
       "3   0.013451  0.015513   0.018075     0.011688  0.006493  0.008530   \n",
       "4   0.013451  0.011635   0.012050     0.010019  0.010492  0.008530   \n",
       "\n",
       "   waterfront  view  condition     grade  sqft_above  sqft_basement  yr_built  \\\n",
       "0         0.0   0.0   0.011632  0.012167    0.008117       0.000000  0.013339   \n",
       "1         0.0   0.0   0.011632  0.012167    0.014928       0.010234  0.013312   \n",
       "2         0.0   0.0   0.011632  0.010429    0.005297       0.000000  0.013189   \n",
       "3         0.0   0.0   0.019387  0.012167    0.007223       0.023282  0.013408   \n",
       "4         0.0   0.0   0.011632  0.013905    0.011557       0.000000  0.013558   \n",
       "\n",
       "   yr_renovated       lat      long  sqft_living15  sqft_lot15  \n",
       "0      0.000000  0.013437 -0.013456       0.008616    0.002292  \n",
       "1      0.066508  0.013496 -0.013463       0.010866    0.003099  \n",
       "2      0.000000  0.013501 -0.013454       0.017488    0.003270  \n",
       "3      0.000000  0.013440 -0.013471       0.008744    0.002028  \n",
       "4      0.000000  0.013467 -0.013433       0.011573    0.003043  "
      ]
     },
     "execution_count": 309,
     "metadata": {},
     "output_type": "execute_result"
    }
   ],
   "source": [
    "normalized_train_df.head()"
   ]
  },
  {
   "cell_type": "markdown",
   "metadata": {},
   "source": [
    "## Normalize the Test Data"
   ]
  },
  {
   "cell_type": "code",
   "execution_count": 315,
   "metadata": {
    "collapsed": false
   },
   "outputs": [
    {
     "name": "stderr",
     "output_type": "stream",
     "text": [
      "C:\\Users\\Mike\\Anaconda3\\lib\\site-packages\\ipykernel\\__main__.py:2: SettingWithCopyWarning: \n",
      "A value is trying to be set on a copy of a slice from a DataFrame.\n",
      "Try using .loc[row_indexer,col_indexer] = value instead\n",
      "\n",
      "See the caveats in the documentation: http://pandas.pydata.org/pandas-docs/stable/indexing.html#indexing-view-versus-copy\n",
      "  from ipykernel import kernelapp as app\n"
     ]
    }
   ],
   "source": [
    "normalized_test_df=test_df[feature_list]\n",
    "normalized_test_df[\"intercept\"]=1\n",
    "normalized_test_df=normalized_test_df[[\"intercept\",]+feature_list]"
   ]
  },
  {
   "cell_type": "code",
   "execution_count": 316,
   "metadata": {
    "collapsed": false
   },
   "outputs": [],
   "source": [
    "for i in range(len(norms)):\n",
    "    normalized_test_df[normalized_test_df.columns[i]]=normalized_test_df[normalized_test_df.columns[i]]/norms[i]"
   ]
  },
  {
   "cell_type": "code",
   "execution_count": 317,
   "metadata": {
    "collapsed": false
   },
   "outputs": [
    {
     "data": {
      "text/html": [
       "<div>\n",
       "<style>\n",
       "    .dataframe thead tr:only-child th {\n",
       "        text-align: right;\n",
       "    }\n",
       "\n",
       "    .dataframe thead th {\n",
       "        text-align: left;\n",
       "    }\n",
       "\n",
       "    .dataframe tbody tr th {\n",
       "        vertical-align: top;\n",
       "    }\n",
       "</style>\n",
       "<table border=\"1\" class=\"dataframe\">\n",
       "  <thead>\n",
       "    <tr style=\"text-align: right;\">\n",
       "      <th></th>\n",
       "      <th>intercept</th>\n",
       "      <th>bedrooms</th>\n",
       "      <th>bathrooms</th>\n",
       "      <th>sqft_living</th>\n",
       "      <th>sqft_lot</th>\n",
       "      <th>floors</th>\n",
       "      <th>waterfront</th>\n",
       "      <th>view</th>\n",
       "      <th>condition</th>\n",
       "      <th>grade</th>\n",
       "      <th>sqft_above</th>\n",
       "      <th>sqft_basement</th>\n",
       "      <th>yr_built</th>\n",
       "      <th>yr_renovated</th>\n",
       "      <th>lat</th>\n",
       "      <th>long</th>\n",
       "      <th>sqft_living15</th>\n",
       "      <th>sqft_lot15</th>\n",
       "    </tr>\n",
       "  </thead>\n",
       "  <tbody>\n",
       "    <tr>\n",
       "      <th>0</th>\n",
       "      <td>0.013451</td>\n",
       "      <td>0.015513</td>\n",
       "      <td>0.018075</td>\n",
       "      <td>0.017592</td>\n",
       "      <td>0.006493</td>\n",
       "      <td>0.017059</td>\n",
       "      <td>0.0</td>\n",
       "      <td>0.051024</td>\n",
       "      <td>0.011632</td>\n",
       "      <td>0.015644</td>\n",
       "      <td>0.013621</td>\n",
       "      <td>0.024817</td>\n",
       "      <td>0.013503</td>\n",
       "      <td>0.0</td>\n",
       "      <td>0.013454</td>\n",
       "      <td>-0.013469</td>\n",
       "      <td>0.013759</td>\n",
       "      <td>0.001623</td>\n",
       "    </tr>\n",
       "    <tr>\n",
       "      <th>1</th>\n",
       "      <td>0.013451</td>\n",
       "      <td>0.015513</td>\n",
       "      <td>0.006025</td>\n",
       "      <td>0.009541</td>\n",
       "      <td>0.005584</td>\n",
       "      <td>0.012794</td>\n",
       "      <td>0.0</td>\n",
       "      <td>0.000000</td>\n",
       "      <td>0.015509</td>\n",
       "      <td>0.012167</td>\n",
       "      <td>0.011007</td>\n",
       "      <td>0.000000</td>\n",
       "      <td>0.013073</td>\n",
       "      <td>0.0</td>\n",
       "      <td>0.013480</td>\n",
       "      <td>-0.013466</td>\n",
       "      <td>0.010352</td>\n",
       "      <td>0.001744</td>\n",
       "    </tr>\n",
       "    <tr>\n",
       "      <th>2</th>\n",
       "      <td>0.013451</td>\n",
       "      <td>0.011635</td>\n",
       "      <td>0.010544</td>\n",
       "      <td>0.009064</td>\n",
       "      <td>0.008285</td>\n",
       "      <td>0.008530</td>\n",
       "      <td>0.0</td>\n",
       "      <td>0.000000</td>\n",
       "      <td>0.011632</td>\n",
       "      <td>0.012167</td>\n",
       "      <td>0.005435</td>\n",
       "      <td>0.018677</td>\n",
       "      <td>0.013292</td>\n",
       "      <td>0.0</td>\n",
       "      <td>0.013489</td>\n",
       "      <td>-0.013461</td>\n",
       "      <td>0.009773</td>\n",
       "      <td>0.002529</td>\n",
       "    </tr>\n",
       "    <tr>\n",
       "      <th>3</th>\n",
       "      <td>0.013451</td>\n",
       "      <td>0.011635</td>\n",
       "      <td>0.006025</td>\n",
       "      <td>0.006500</td>\n",
       "      <td>0.003896</td>\n",
       "      <td>0.012794</td>\n",
       "      <td>0.0</td>\n",
       "      <td>0.000000</td>\n",
       "      <td>0.015509</td>\n",
       "      <td>0.013905</td>\n",
       "      <td>0.007498</td>\n",
       "      <td>0.000000</td>\n",
       "      <td>0.013162</td>\n",
       "      <td>0.0</td>\n",
       "      <td>0.013487</td>\n",
       "      <td>-0.013469</td>\n",
       "      <td>0.010094</td>\n",
       "      <td>0.002061</td>\n",
       "    </tr>\n",
       "    <tr>\n",
       "      <th>4</th>\n",
       "      <td>0.013451</td>\n",
       "      <td>0.015513</td>\n",
       "      <td>0.015062</td>\n",
       "      <td>0.013656</td>\n",
       "      <td>0.017421</td>\n",
       "      <td>0.017059</td>\n",
       "      <td>0.0</td>\n",
       "      <td>0.000000</td>\n",
       "      <td>0.015509</td>\n",
       "      <td>0.015644</td>\n",
       "      <td>0.015753</td>\n",
       "      <td>0.000000</td>\n",
       "      <td>0.013517</td>\n",
       "      <td>0.0</td>\n",
       "      <td>0.013467</td>\n",
       "      <td>-0.013445</td>\n",
       "      <td>0.017231</td>\n",
       "      <td>0.005551</td>\n",
       "    </tr>\n",
       "  </tbody>\n",
       "</table>\n",
       "</div>"
      ],
      "text/plain": [
       "   intercept  bedrooms  bathrooms  sqft_living  sqft_lot    floors  \\\n",
       "0   0.013451  0.015513   0.018075     0.017592  0.006493  0.017059   \n",
       "1   0.013451  0.015513   0.006025     0.009541  0.005584  0.012794   \n",
       "2   0.013451  0.011635   0.010544     0.009064  0.008285  0.008530   \n",
       "3   0.013451  0.011635   0.006025     0.006500  0.003896  0.012794   \n",
       "4   0.013451  0.015513   0.015062     0.013656  0.017421  0.017059   \n",
       "\n",
       "   waterfront      view  condition     grade  sqft_above  sqft_basement  \\\n",
       "0         0.0  0.051024   0.011632  0.015644    0.013621       0.024817   \n",
       "1         0.0  0.000000   0.015509  0.012167    0.011007       0.000000   \n",
       "2         0.0  0.000000   0.011632  0.012167    0.005435       0.018677   \n",
       "3         0.0  0.000000   0.015509  0.013905    0.007498       0.000000   \n",
       "4         0.0  0.000000   0.015509  0.015644    0.015753       0.000000   \n",
       "\n",
       "   yr_built  yr_renovated       lat      long  sqft_living15  sqft_lot15  \n",
       "0  0.013503           0.0  0.013454 -0.013469       0.013759    0.001623  \n",
       "1  0.013073           0.0  0.013480 -0.013466       0.010352    0.001744  \n",
       "2  0.013292           0.0  0.013489 -0.013461       0.009773    0.002529  \n",
       "3  0.013162           0.0  0.013487 -0.013469       0.010094    0.002061  \n",
       "4  0.013517           0.0  0.013467 -0.013445       0.017231    0.005551  "
      ]
     },
     "execution_count": 317,
     "metadata": {},
     "output_type": "execute_result"
    }
   ],
   "source": [
    "normalized_test_df.head()"
   ]
  },
  {
   "cell_type": "markdown",
   "metadata": {},
   "source": [
    "## Normalize the Validation Set"
   ]
  },
  {
   "cell_type": "code",
   "execution_count": 318,
   "metadata": {
    "collapsed": false
   },
   "outputs": [
    {
     "name": "stderr",
     "output_type": "stream",
     "text": [
      "C:\\Users\\Mike\\Anaconda3\\lib\\site-packages\\ipykernel\\__main__.py:2: SettingWithCopyWarning: \n",
      "A value is trying to be set on a copy of a slice from a DataFrame.\n",
      "Try using .loc[row_indexer,col_indexer] = value instead\n",
      "\n",
      "See the caveats in the documentation: http://pandas.pydata.org/pandas-docs/stable/indexing.html#indexing-view-versus-copy\n",
      "  from ipykernel import kernelapp as app\n"
     ]
    }
   ],
   "source": [
    "normalized_valid_df=validation_df[feature_list]\n",
    "normalized_valid_df[\"intercept\"]=1\n",
    "normalized_valid_df=normalized_valid_df[[\"intercept\",]+feature_list]"
   ]
  },
  {
   "cell_type": "code",
   "execution_count": 319,
   "metadata": {
    "collapsed": true
   },
   "outputs": [],
   "source": [
    "for i in range(len(norms)):\n",
    "    normalized_valid_df[normalized_valid_df.columns[i]]=normalized_valid_df[normalized_valid_df.columns[i]]/norms[i]"
   ]
  },
  {
   "cell_type": "code",
   "execution_count": 320,
   "metadata": {
    "collapsed": false
   },
   "outputs": [
    {
     "data": {
      "text/html": [
       "<div>\n",
       "<style>\n",
       "    .dataframe thead tr:only-child th {\n",
       "        text-align: right;\n",
       "    }\n",
       "\n",
       "    .dataframe thead th {\n",
       "        text-align: left;\n",
       "    }\n",
       "\n",
       "    .dataframe tbody tr th {\n",
       "        vertical-align: top;\n",
       "    }\n",
       "</style>\n",
       "<table border=\"1\" class=\"dataframe\">\n",
       "  <thead>\n",
       "    <tr style=\"text-align: right;\">\n",
       "      <th></th>\n",
       "      <th>intercept</th>\n",
       "      <th>bedrooms</th>\n",
       "      <th>bathrooms</th>\n",
       "      <th>sqft_living</th>\n",
       "      <th>sqft_lot</th>\n",
       "      <th>floors</th>\n",
       "      <th>waterfront</th>\n",
       "      <th>view</th>\n",
       "      <th>condition</th>\n",
       "      <th>grade</th>\n",
       "      <th>sqft_above</th>\n",
       "      <th>sqft_basement</th>\n",
       "      <th>yr_built</th>\n",
       "      <th>yr_renovated</th>\n",
       "      <th>lat</th>\n",
       "      <th>long</th>\n",
       "      <th>sqft_living15</th>\n",
       "      <th>sqft_lot15</th>\n",
       "    </tr>\n",
       "  </thead>\n",
       "  <tbody>\n",
       "    <tr>\n",
       "      <th>0</th>\n",
       "      <td>0.013451</td>\n",
       "      <td>0.015513</td>\n",
       "      <td>0.010544</td>\n",
       "      <td>0.009661</td>\n",
       "      <td>0.006467</td>\n",
       "      <td>0.008530</td>\n",
       "      <td>0.0</td>\n",
       "      <td>0.0</td>\n",
       "      <td>0.015509</td>\n",
       "      <td>0.012167</td>\n",
       "      <td>0.005916</td>\n",
       "      <td>0.019444</td>\n",
       "      <td>0.013285</td>\n",
       "      <td>0.0</td>\n",
       "      <td>0.013491</td>\n",
       "      <td>-0.013465</td>\n",
       "      <td>0.009001</td>\n",
       "      <td>0.002020</td>\n",
       "    </tr>\n",
       "    <tr>\n",
       "      <th>1</th>\n",
       "      <td>0.013451</td>\n",
       "      <td>0.019391</td>\n",
       "      <td>0.015062</td>\n",
       "      <td>0.013537</td>\n",
       "      <td>0.008181</td>\n",
       "      <td>0.017059</td>\n",
       "      <td>0.0</td>\n",
       "      <td>0.0</td>\n",
       "      <td>0.011632</td>\n",
       "      <td>0.013905</td>\n",
       "      <td>0.015616</td>\n",
       "      <td>0.000000</td>\n",
       "      <td>0.013612</td>\n",
       "      <td>0.0</td>\n",
       "      <td>0.013385</td>\n",
       "      <td>-0.013447</td>\n",
       "      <td>0.014402</td>\n",
       "      <td>0.002841</td>\n",
       "    </tr>\n",
       "    <tr>\n",
       "      <th>2</th>\n",
       "      <td>0.013451</td>\n",
       "      <td>0.015513</td>\n",
       "      <td>0.010544</td>\n",
       "      <td>0.013895</td>\n",
       "      <td>0.006493</td>\n",
       "      <td>0.012794</td>\n",
       "      <td>0.0</td>\n",
       "      <td>0.0</td>\n",
       "      <td>0.015509</td>\n",
       "      <td>0.012167</td>\n",
       "      <td>0.010388</td>\n",
       "      <td>0.020979</td>\n",
       "      <td>0.013162</td>\n",
       "      <td>0.0</td>\n",
       "      <td>0.013485</td>\n",
       "      <td>-0.013468</td>\n",
       "      <td>0.009387</td>\n",
       "      <td>0.002028</td>\n",
       "    </tr>\n",
       "    <tr>\n",
       "      <th>3</th>\n",
       "      <td>0.013451</td>\n",
       "      <td>0.011635</td>\n",
       "      <td>0.006025</td>\n",
       "      <td>0.009363</td>\n",
       "      <td>0.002961</td>\n",
       "      <td>0.017059</td>\n",
       "      <td>0.0</td>\n",
       "      <td>0.0</td>\n",
       "      <td>0.011632</td>\n",
       "      <td>0.012167</td>\n",
       "      <td>0.010800</td>\n",
       "      <td>0.000000</td>\n",
       "      <td>0.013114</td>\n",
       "      <td>0.0</td>\n",
       "      <td>0.013474</td>\n",
       "      <td>-0.013468</td>\n",
       "      <td>0.010159</td>\n",
       "      <td>0.001071</td>\n",
       "    </tr>\n",
       "    <tr>\n",
       "      <th>4</th>\n",
       "      <td>0.013451</td>\n",
       "      <td>0.015513</td>\n",
       "      <td>0.018075</td>\n",
       "      <td>0.011032</td>\n",
       "      <td>0.012954</td>\n",
       "      <td>0.017059</td>\n",
       "      <td>0.0</td>\n",
       "      <td>0.0</td>\n",
       "      <td>0.011632</td>\n",
       "      <td>0.013905</td>\n",
       "      <td>0.012727</td>\n",
       "      <td>0.000000</td>\n",
       "      <td>0.013585</td>\n",
       "      <td>0.0</td>\n",
       "      <td>0.013435</td>\n",
       "      <td>-0.013444</td>\n",
       "      <td>0.014595</td>\n",
       "      <td>0.003465</td>\n",
       "    </tr>\n",
       "  </tbody>\n",
       "</table>\n",
       "</div>"
      ],
      "text/plain": [
       "   intercept  bedrooms  bathrooms  sqft_living  sqft_lot    floors  \\\n",
       "0   0.013451  0.015513   0.010544     0.009661  0.006467  0.008530   \n",
       "1   0.013451  0.019391   0.015062     0.013537  0.008181  0.017059   \n",
       "2   0.013451  0.015513   0.010544     0.013895  0.006493  0.012794   \n",
       "3   0.013451  0.011635   0.006025     0.009363  0.002961  0.017059   \n",
       "4   0.013451  0.015513   0.018075     0.011032  0.012954  0.017059   \n",
       "\n",
       "   waterfront  view  condition     grade  sqft_above  sqft_basement  yr_built  \\\n",
       "0         0.0   0.0   0.015509  0.012167    0.005916       0.019444  0.013285   \n",
       "1         0.0   0.0   0.011632  0.013905    0.015616       0.000000  0.013612   \n",
       "2         0.0   0.0   0.015509  0.012167    0.010388       0.020979  0.013162   \n",
       "3         0.0   0.0   0.011632  0.012167    0.010800       0.000000  0.013114   \n",
       "4         0.0   0.0   0.011632  0.013905    0.012727       0.000000  0.013585   \n",
       "\n",
       "   yr_renovated       lat      long  sqft_living15  sqft_lot15  \n",
       "0           0.0  0.013491 -0.013465       0.009001    0.002020  \n",
       "1           0.0  0.013385 -0.013447       0.014402    0.002841  \n",
       "2           0.0  0.013485 -0.013468       0.009387    0.002028  \n",
       "3           0.0  0.013474 -0.013468       0.010159    0.001071  \n",
       "4           0.0  0.013435 -0.013444       0.014595    0.003465  "
      ]
     },
     "execution_count": 320,
     "metadata": {},
     "output_type": "execute_result"
    }
   ],
   "source": [
    "normalized_valid_df.head()"
   ]
  },
  {
   "cell_type": "markdown",
   "metadata": {},
   "source": [
    "## Define the Y Values That KNN Averages\n",
    "\n",
    "For the knn regressor to predict y values of a query point, it must average the y values of the training set that are the k nearest neighbors to the query point. These y values, of comparison, will be the price values of the training set"
   ]
  },
  {
   "cell_type": "code",
   "execution_count": 327,
   "metadata": {
    "collapsed": true
   },
   "outputs": [],
   "source": [
    "y_compare=train_df.price"
   ]
  },
  {
   "cell_type": "markdown",
   "metadata": {},
   "source": [
    "## Task 1\n",
    "\n",
    "To start, let's just explore computing the “distance” between two given houses. We will take our query house to be the first house of the test set and look at the distance between this house and the 10th house of the training set."
   ]
  },
  {
   "cell_type": "code",
   "execution_count": 313,
   "metadata": {
    "collapsed": false
   },
   "outputs": [
    {
     "data": {
      "text/html": [
       "<div>\n",
       "<style>\n",
       "    .dataframe thead tr:only-child th {\n",
       "        text-align: right;\n",
       "    }\n",
       "\n",
       "    .dataframe thead th {\n",
       "        text-align: left;\n",
       "    }\n",
       "\n",
       "    .dataframe tbody tr th {\n",
       "        vertical-align: top;\n",
       "    }\n",
       "</style>\n",
       "<table border=\"1\" class=\"dataframe\">\n",
       "  <thead>\n",
       "    <tr style=\"text-align: right;\">\n",
       "      <th></th>\n",
       "      <th>intercept</th>\n",
       "      <th>bedrooms</th>\n",
       "      <th>bathrooms</th>\n",
       "      <th>sqft_living</th>\n",
       "      <th>sqft_lot</th>\n",
       "      <th>floors</th>\n",
       "      <th>waterfront</th>\n",
       "      <th>view</th>\n",
       "      <th>condition</th>\n",
       "      <th>grade</th>\n",
       "      <th>sqft_above</th>\n",
       "      <th>sqft_basement</th>\n",
       "      <th>yr_built</th>\n",
       "      <th>yr_renovated</th>\n",
       "      <th>lat</th>\n",
       "      <th>long</th>\n",
       "      <th>sqft_living15</th>\n",
       "      <th>sqft_lot15</th>\n",
       "    </tr>\n",
       "  </thead>\n",
       "  <tbody>\n",
       "    <tr>\n",
       "      <th>9</th>\n",
       "      <td>0.013451</td>\n",
       "      <td>0.011635</td>\n",
       "      <td>0.006025</td>\n",
       "      <td>0.008349</td>\n",
       "      <td>0.002053</td>\n",
       "      <td>0.012794</td>\n",
       "      <td>0.0</td>\n",
       "      <td>0.0</td>\n",
       "      <td>0.019387</td>\n",
       "      <td>0.013905</td>\n",
       "      <td>0.009631</td>\n",
       "      <td>0.0</td>\n",
       "      <td>0.013025</td>\n",
       "      <td>0.0</td>\n",
       "      <td>0.013468</td>\n",
       "      <td>-0.013463</td>\n",
       "      <td>0.011959</td>\n",
       "      <td>0.001566</td>\n",
       "    </tr>\n",
       "  </tbody>\n",
       "</table>\n",
       "</div>"
      ],
      "text/plain": [
       "   intercept  bedrooms  bathrooms  sqft_living  sqft_lot    floors  \\\n",
       "9   0.013451  0.011635   0.006025     0.008349  0.002053  0.012794   \n",
       "\n",
       "   waterfront  view  condition     grade  sqft_above  sqft_basement  yr_built  \\\n",
       "9         0.0   0.0   0.019387  0.013905    0.009631            0.0  0.013025   \n",
       "\n",
       "   yr_renovated       lat      long  sqft_living15  sqft_lot15  \n",
       "9           0.0  0.013468 -0.013463       0.011959    0.001566  "
      ]
     },
     "execution_count": 313,
     "metadata": {},
     "output_type": "execute_result"
    }
   ],
   "source": [
    "normalized_train_df.iloc[9:10]"
   ]
  },
  {
   "cell_type": "code",
   "execution_count": 322,
   "metadata": {
    "collapsed": false
   },
   "outputs": [
    {
     "data": {
      "text/plain": [
       "9    0.059878\n",
       "dtype: float64"
      ]
     },
     "execution_count": 322,
     "metadata": {},
     "output_type": "execute_result"
    }
   ],
   "source": [
    "knn_single(normalized_test_df.iloc[0],normalized_train_df.iloc[9:10],1)"
   ]
  },
  {
   "cell_type": "markdown",
   "metadata": {},
   "source": [
    "## Task 2\n",
    "\n",
    "Among the first 10 training houses, which house is the closest to the query house?"
   ]
  },
  {
   "cell_type": "code",
   "execution_count": 323,
   "metadata": {
    "collapsed": false
   },
   "outputs": [
    {
     "data": {
      "text/plain": [
       "8    0.052464\n",
       "dtype: float64"
      ]
     },
     "execution_count": 323,
     "metadata": {},
     "output_type": "execute_result"
    }
   ],
   "source": [
    "knn_single(normalized_test_df.iloc[0],normalized_train_df.iloc[:10],1)"
   ]
  },
  {
   "cell_type": "markdown",
   "metadata": {},
   "source": [
    "## Task 3\n",
    "\n",
    "Take the query house to be third house of the test set. What is the index and predicted value of the house in the training set that is closest to this query house?"
   ]
  },
  {
   "cell_type": "code",
   "execution_count": 324,
   "metadata": {
    "collapsed": false
   },
   "outputs": [
    {
     "data": {
      "text/plain": [
       "1149    0.003669\n",
       "dtype: float64"
      ]
     },
     "execution_count": 324,
     "metadata": {},
     "output_type": "execute_result"
    }
   ],
   "source": [
    "knn_single(normalized_test_df.iloc[2],normalized_train_df,1)"
   ]
  },
  {
   "cell_type": "code",
   "execution_count": 328,
   "metadata": {
    "collapsed": false
   },
   "outputs": [
    {
     "data": {
      "text/plain": [
       "477000.0"
      ]
     },
     "execution_count": 328,
     "metadata": {},
     "output_type": "execute_result"
    }
   ],
   "source": [
    "y_compare[1149]"
   ]
  },
  {
   "cell_type": "code",
   "execution_count": 346,
   "metadata": {
    "collapsed": false
   },
   "outputs": [
    {
     "data": {
      "text/plain": [
       "249000.0"
      ]
     },
     "execution_count": 346,
     "metadata": {},
     "output_type": "execute_result"
    }
   ],
   "source": [
    "y_compare[382]"
   ]
  },
  {
   "cell_type": "markdown",
   "metadata": {},
   "source": [
    "## Task 4\n",
    "\n",
    "Take the query house to be third house of the test set. What are the indices of the 4 training houses closest to the query house?"
   ]
  },
  {
   "cell_type": "code",
   "execution_count": 326,
   "metadata": {
    "collapsed": false
   },
   "outputs": [
    {
     "data": {
      "text/plain": [
       "1149    0.003669\n",
       "382     0.003701\n",
       "3142    0.003948\n",
       "2024    0.004400\n",
       "dtype: float64"
      ]
     },
     "execution_count": 326,
     "metadata": {},
     "output_type": "execute_result"
    }
   ],
   "source": [
    "knn_single(normalized_test_df.iloc[2],normalized_train_df,4)"
   ]
  },
  {
   "cell_type": "markdown",
   "metadata": {},
   "source": [
    "## Task 5\n",
    "\n",
    "Again taking the query house to be third house of the test set, predict the value of the query house using k-nearest neighbors with k=4 "
   ]
  },
  {
   "cell_type": "code",
   "execution_count": 331,
   "metadata": {
    "collapsed": false
   },
   "outputs": [
    {
     "data": {
      "text/plain": [
       "[394000.0]"
      ]
     },
     "execution_count": 331,
     "metadata": {},
     "output_type": "execute_result"
    }
   ],
   "source": [
    "knn_predict(normalized_test_df.iloc[2:3],y_compare,normalized_train_df,4)"
   ]
  },
  {
   "cell_type": "markdown",
   "metadata": {},
   "source": [
    "## Task 6\n",
    "\n",
    "Make predictions for the first 10 houses in the test set, using k=10. What is the index of the house in this query set that has the lowest predicted value? What is the predicted value of this house?"
   ]
  },
  {
   "cell_type": "code",
   "execution_count": 332,
   "metadata": {
    "collapsed": false
   },
   "outputs": [
    {
     "data": {
      "text/plain": [
       "[990300.0,\n",
       " 586760.0,\n",
       " 450550.0,\n",
       " 493600.0,\n",
       " 638395.0,\n",
       " 666370.0,\n",
       " 379339.5,\n",
       " 511445.70000000001,\n",
       " 524020.0,\n",
       " 457235.0]"
      ]
     },
     "execution_count": 332,
     "metadata": {},
     "output_type": "execute_result"
    }
   ],
   "source": [
    "#Predictions\n",
    "first10predict=knn_predict(test_feature_df.iloc[:10],y_compare,normalized_train_df,10)\n",
    "first10predict"
   ]
  },
  {
   "cell_type": "code",
   "execution_count": 336,
   "metadata": {
    "collapsed": false
   },
   "outputs": [
    {
     "data": {
      "text/plain": [
       "6"
      ]
     },
     "execution_count": 336,
     "metadata": {},
     "output_type": "execute_result"
    }
   ],
   "source": [
    "#Since we chose houses with index 0 through 9, the index of first10predict is the same as the index of the query points.\n",
    "#(note that this would not be the case if we had chosen our query set to be any other subset of the test set)\n",
    "first10predict.index(min(first10predict))"
   ]
  },
  {
   "cell_type": "markdown",
   "metadata": {},
   "source": [
    "## Task 7\n",
    "\n",
    "There remains a question of choosing the value of k to use in making predictions. Here, we use a validation set to choose this value. Write a loop that does the following:\n",
    "\n",
    "For k in [1, 2, … 15]:\n",
    "\n",
    "Make predictions for the VALIDATION data using the k-nearest neighbors from the TRAINING data. Compute the RSS on VALIDATION data\n",
    "\n",
    "Report which k produced the lowest RSS on validation data.\n",
    "\n",
    "What is the RSS on the TEST data using the value of k found above? To be clear, sum over all houses in the TEST set."
   ]
  },
  {
   "cell_type": "code",
   "execution_count": 337,
   "metadata": {
    "collapsed": true
   },
   "outputs": [],
   "source": [
    "rss_and_k_list=[]\n",
    "for k in range(1,16):\n",
    "    y_predictions=knn_predict(normalized_valid_df,y_compare,normalized_train_df,k)\n",
    "    RSS=rss(validation_df.price,y_predictions)\n",
    "    rss_and_k_list.append((RSS,k))"
   ]
  },
  {
   "cell_type": "code",
   "execution_count": 339,
   "metadata": {
    "collapsed": false
   },
   "outputs": [],
   "source": [
    "rss_and_k_list.sort()"
   ]
  },
  {
   "cell_type": "code",
   "execution_count": 343,
   "metadata": {
    "collapsed": false
   },
   "outputs": [
    {
     "data": {
      "text/plain": [
       "(73970240779400.08, 7)"
      ]
     },
     "execution_count": 343,
     "metadata": {},
     "output_type": "execute_result"
    }
   ],
   "source": [
    "rss_and_k_list[0]"
   ]
  },
  {
   "cell_type": "markdown",
   "metadata": {},
   "source": [
    "We see that k=7 produced the lowest rss on the validation set. Let's compute the rss value for the predicted values of the test set using k=7"
   ]
  },
  {
   "cell_type": "code",
   "execution_count": 344,
   "metadata": {
    "collapsed": true
   },
   "outputs": [],
   "source": [
    "y_test_k7_predictions=knn_predict(normalized_test_df,y_compare,normalized_train_df,7)"
   ]
  },
  {
   "cell_type": "code",
   "execution_count": 345,
   "metadata": {
    "collapsed": false
   },
   "outputs": [
    {
     "data": {
      "text/plain": [
       "135101633497002.58"
      ]
     },
     "execution_count": 345,
     "metadata": {},
     "output_type": "execute_result"
    }
   ],
   "source": [
    "rss(test_df.price,y_test_k7_predictions)"
   ]
  },
  {
   "cell_type": "code",
   "execution_count": null,
   "metadata": {
    "collapsed": true
   },
   "outputs": [],
   "source": []
  }
 ],
 "metadata": {
  "anaconda-cloud": {},
  "kernelspec": {
   "display_name": "Python [conda root]",
   "language": "python",
   "name": "conda-root-py"
  },
  "language_info": {
   "codemirror_mode": {
    "name": "ipython",
    "version": 3
   },
   "file_extension": ".py",
   "mimetype": "text/x-python",
   "name": "python",
   "nbconvert_exporter": "python",
   "pygments_lexer": "ipython3",
   "version": "3.5.2"
  }
 },
 "nbformat": 4,
 "nbformat_minor": 1
}
